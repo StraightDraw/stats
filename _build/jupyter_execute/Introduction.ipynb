{
 "cells": [
  {
   "cell_type": "markdown",
   "metadata": {},
   "source": [
    "# Introduction to Applied Statistics"
   ]
  },
  {
   "cell_type": "markdown",
   "metadata": {},
   "source": [
    "Can we use the `datascience` package in Python to conduct applied statistics? Certainly. The Data8 project at UC Berkeley has developed a robust suite of content including a digital textbook called Inferential Thinking together with labs, homeworks, projects and exams. At UNG, I have been working with a group of math professors to tweak the materials in ways suitable forapplied statistics visualizations and data analyses.\n",
    "\n",
    "## Sandboxes\n",
    "\n",
    "A sandbox is digital playground, an environment created for experimentation and fun. I'm creating sandbox content for **Intro to Applied Statistics** using Python's `datascience` package. The notebooks in this section are intended to make class examples using my own datasets easily accessible to my students. They are interactive and include all the commands needed to conduct the applied statistics tasks.\n"
   ]
  },
  {
   "cell_type": "markdown",
   "id": "annual-venice",
   "metadata": {},
   "source": [
    "\n",
    "```{toctree}\n",
    ":hidden:\n",
    ":titlesonly:\n",
    "\n",
    "\n",
    "sb/0\n",
    "sb/01\n",
    "sb/02\n",
    "sb/03\n",
    "sb/04\n",
    "sb/05\n",
    "sb/06\n",
    "sb/07\n",
    "sb/08\n",
    "sb/09\n",
    "sb/10\n",
    "tests/0\n",
    "tests/1\n",
    "tests/2\n",
    "tests/3\n",
    "```\n"
   ]
  }
 ],
 "metadata": {
  "kernelspec": {
   "display_name": "Python 3",
   "language": "python",
   "name": "python3"
  },
  "language_info": {
   "codemirror_mode": {
    "name": "ipython",
    "version": 3
   },
   "file_extension": ".py",
   "mimetype": "text/x-python",
   "name": "python",
   "nbconvert_exporter": "python",
   "pygments_lexer": "ipython3",
   "version": "3.7.6"
  }
 },
 "nbformat": 4,
 "nbformat_minor": 4
}