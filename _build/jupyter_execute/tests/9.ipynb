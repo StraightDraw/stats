{
 "cells": [
  {
   "cell_type": "markdown",
   "metadata": {},
   "source": [
    "# 29. Mixed Hypothesis Testing Practice"
   ]
  },
  {
   "cell_type": "code",
   "execution_count": 1,
   "metadata": {},
   "outputs": [],
   "source": [
    "from datascience import *\n",
    "import numpy as np\n",
    "\n",
    "%matplotlib inline\n",
    "\n",
    "import matplotlib.pyplot as plots\n",
    "plots.style.use('fivethirtyeight')\n",
    "\n",
    "from scipy import stats"
   ]
  },
  {
   "cell_type": "markdown",
   "metadata": {},
   "source": [
    "An undergraduate statistics research project several years ago studied humor styles and personality. The data set from that study is called `personality.csv`. We will pull different subsets of that data frame for the work below. Here's a description of the different variables you will see.\n",
    "\n",
    "Sex\n",
    ": M/F response to question about biological sex\n",
    "\n",
    "G21\n",
    ": Y/N response to \"are you 21 years old or older?\"\n",
    "\n",
    "Greek\n",
    ": Y/N response to \"are you involved in a social Greek fraternity or sorority?\"\n",
    "\n",
    "AccDate\n",
    ": Y/N response to question: \"At a time in your life when you are not involved with anyone, someone asks you out. This person has a great personality, but you do not find them physically attractive. Do you accept the date?\"\n",
    "\n",
    "SitClass\n",
    ": Front/middle/back response to \"where do you prefer to sit in class?\"\n",
    "\n",
    "Friends\n",
    ": Same/opposite/either response to \"which sex do you find it easiest to make friends with.\"\n",
    "\n",
    "Stress1, Stress2\n",
    ": Pre-post measure of stress in the 2nd week (Stress1) and 7th week (Stress2) of the semester.\n",
    "\n",
    "TxRel\n",
    ": Toxic relationships beliefs, higher scores indicate more toxicity.\n",
    "\n",
    "Opt\n",
    ": Optimism, higher scores indicate more optimism.\n",
    "\n",
    "SE\n",
    ": Self-esteem, higher score indicate higher levels of self-esteem.\n",
    "\n",
    "Neuro\n",
    ": Neuroticism, higher scores indicate higher levels of neuroticism\n",
    "\n",
    "Perf\n",
    ": Perfectionism, higher scores indicate higher levels of perfectionism.\n",
    "\n",
    "Narc\n",
    ": Narcissism, higher scores indicate higher levels of narcissism.\n",
    "\n",
    "You will likely recognize several data sets that we used in class examples and labs, too."
   ]
  },
  {
   "cell_type": "markdown",
   "metadata": {},
   "source": [
    "## Data for examples\n",
    "\n",
    "The large table `personality.csv` is loaded below. We can use `where` and `select` to find appropriate sub-tables for analysis."
   ]
  },
  {
   "cell_type": "code",
   "execution_count": 2,
   "metadata": {},
   "outputs": [],
   "source": [
    "personality = Table.read_table('http://faculty.ung.edu/rsinn/personality.csv')"
   ]
  },
  {
   "cell_type": "markdown",
   "metadata": {},
   "source": [
    "We should be ready and able to perform the following hypothesis tests and related statistical investigations:\n",
    "\n",
    "1. Exploratory data analysis of single numeric and/or category variables\n",
    "2. A/B Tests\n",
    "3. Bootstrap confiedence interval estimates (typically of the mean)\n",
    "4. Exploratory data analysis of two numeric variables (correlation)\n",
    "5. Test for significant correlation\n"
   ]
  }
 ],
 "metadata": {
  "anaconda-cloud": {},
  "kernelspec": {
   "display_name": "Python 3",
   "language": "python",
   "name": "python3"
  },
  "language_info": {
   "codemirror_mode": {
    "name": "ipython",
    "version": 3
   },
   "file_extension": ".py",
   "mimetype": "text/x-python",
   "name": "python",
   "nbconvert_exporter": "python",
   "pygments_lexer": "ipython3",
   "version": "3.7.6"
  }
 },
 "nbformat": 4,
 "nbformat_minor": 4
}