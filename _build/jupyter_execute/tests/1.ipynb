{
 "cells": [
  {
   "cell_type": "markdown",
   "metadata": {},
   "source": [
    "# 21. A/B Testing Examples"
   ]
  },
  {
   "cell_type": "code",
   "execution_count": 1,
   "metadata": {},
   "outputs": [],
   "source": [
    "from datascience import *\n",
    "import numpy as np\n",
    "\n",
    "%matplotlib inline\n",
    "\n",
    "import matplotlib.pyplot as plots\n",
    "plots.style.use('fivethirtyeight')\n",
    "\n",
    "from scipy import stats"
   ]
  },
  {
   "cell_type": "markdown",
   "metadata": {},
   "source": [
    "We will continue to work with a subset of the `personality` table called `pers` which is suitable for A/B Testing using numeric variables Narcissism and Perfectionism."
   ]
  },
  {
   "cell_type": "code",
   "execution_count": 2,
   "metadata": {},
   "outputs": [
    {
     "data": {
      "text/html": [
       "<table border=\"1\" class=\"dataframe\">\n",
       "    <thead>\n",
       "        <tr>\n",
       "            <th>Sex</th> <th>G21</th> <th>Greek</th> <th>AccDate</th> <th>Stress1</th> <th>Stress2</th> <th>Perf</th> <th>Narc</th>\n",
       "        </tr>\n",
       "    </thead>\n",
       "    <tbody>\n",
       "        <tr>\n",
       "            <td>F   </td> <td>N   </td> <td>N    </td> <td>N      </td> <td>9      </td> <td>7      </td> <td>99  </td> <td>3   </td>\n",
       "        </tr>\n",
       "        <tr>\n",
       "            <td>F   </td> <td>Y   </td> <td>N    </td> <td>Y      </td> <td>11     </td> <td>13     </td> <td>86  </td> <td>2   </td>\n",
       "        </tr>\n",
       "        <tr>\n",
       "            <td>F   </td> <td>N   </td> <td>Y    </td> <td>N      </td> <td>15     </td> <td>14     </td> <td>118 </td> <td>4   </td>\n",
       "        </tr>\n",
       "        <tr>\n",
       "            <td>F   </td> <td>N   </td> <td>N    </td> <td>Y      </td> <td>16     </td> <td>15     </td> <td>113 </td> <td>2   </td>\n",
       "        </tr>\n",
       "        <tr>\n",
       "            <td>F   </td> <td>Y   </td> <td>N    </td> <td>Y      </td> <td>17     </td> <td>17     </td> <td>107 </td> <td>8   </td>\n",
       "        </tr>\n",
       "    </tbody>\n",
       "</table>\n",
       "<p>... (143 rows omitted)</p>"
      ],
      "text/plain": [
       "<IPython.core.display.HTML object>"
      ]
     },
     "metadata": {},
     "output_type": "display_data"
    }
   ],
   "source": [
    "pers = Table.read_table('http://faculty.ung.edu/rsinn/perfnarc.csv')\n",
    "pers.show(5)"
   ]
  },
  {
   "cell_type": "markdown",
   "metadata": {},
   "source": [
    "## A/B Hypothesis Testing\n",
    "\n",
    "The basic process of A/B testing requires a grouping variable with two independent levels and a numeric variable of interest. *Independent levels* means that no participant, not even theoretical ones, could simultaneously be in both groups A and B.\n",
    "\n",
    "````{margin}\n",
    "```{tip}\n",
    "We often write hypotheses in symbolic form where the Greek letter $\\mu$ indicates *mean*.\n",
    "\n",
    "$$H_0 : \\mu_A = \\mu_B\\\\H_a : \\mu_A \\neq \\mu_B$$\n",
    "\n",
    "The null hypothesis is abbreviated as $H_0$ while the alternative hypothesis is $H_a$.\n",
    "```\n",
    "````\n",
    "\n",
    "1. **Null hypothesis.** Groups A/B drawn from same distribution, e.g. *no difference in A/B group means*.\n",
    "2. **Alternative hypothesis.** Groups A/B drawn from different distributions, e.g. *significant difference in A/B group means*.\n",
    "3. **Test statistic**. Difference in means between shuffled A/B groups\n",
    "4. Simulate test statistic distribution\n",
    "5. Calculate **$p$-value**, e.g. the probability the null hypothesis is true.\n",
    "6. **Statistical Conclusion.** If $p<0.05$, reject null. Else, fail to reject null.\n",
    "7. **Real world implications.** State the results of hypothesis test in real world terms."
   ]
  },
  {
   "cell_type": "markdown",
   "metadata": {},
   "source": [
    "## Example: Perfectionism"
   ]
  },
  {
   "cell_type": "markdown",
   "metadata": {},
   "source": [
    "In the [A/B Testing Tools](../0.ipynb) section, we developed three helpful functions for A/B testing. Execute each code block so the functions are active."
   ]
  },
  {
   "cell_type": "code",
   "execution_count": 3,
   "metadata": {},
   "outputs": [],
   "source": [
    "def ab_shuffle(tab):\n",
    "    shuffle_group = tab.sample(with_replacement = False).column(0)\n",
    "    shuffled_tab = tab.with_column(\"Shuffled Grouping\",shuffle_group).select(2,1)\n",
    "    return shuffled_tab"
   ]
  },
  {
   "cell_type": "code",
   "execution_count": 4,
   "metadata": {},
   "outputs": [],
   "source": [
    "def ab_diff(tab):\n",
    "    tab.group(0,np.average)\n",
    "    a_mean = tab.group(0,np.average).column(1).item(0)\n",
    "    b_mean = tab.group(0,np.average).column(1).item(1)\n",
    "    return a_mean - b_mean"
   ]
  },
  {
   "cell_type": "code",
   "execution_count": 5,
   "metadata": {},
   "outputs": [],
   "source": [
    "def ab_hist(myArray, observed_value):\n",
    "    tab = Table().with_column('A/B Differencs',myArray)\n",
    "    tab.hist(0)\n",
    "    _ = plots.plot([observed_value, observed_value], [0, 0.1], color='red', lw=2)"
   ]
  },
  {
   "cell_type": "markdown",
   "metadata": {},
   "source": [
    "## Example with perfectionism\n",
    "\n",
    "Let's conduct an A/B test on the perfectionism variable noting each step as we go. Our research question is whether perfectionism scores differ based upon biological sex. We take care to produce a two-column table with the grouping variable in the first column and the numeric variable in the second. "
   ]
  },
  {
   "cell_type": "code",
   "execution_count": 6,
   "metadata": {},
   "outputs": [
    {
     "data": {
      "text/html": [
       "<table border=\"1\" class=\"dataframe\">\n",
       "    <thead>\n",
       "        <tr>\n",
       "            <th>Sex</th> <th>Perf</th>\n",
       "        </tr>\n",
       "    </thead>\n",
       "    <tbody>\n",
       "        <tr>\n",
       "            <td>F   </td> <td>99  </td>\n",
       "        </tr>\n",
       "        <tr>\n",
       "            <td>F   </td> <td>86  </td>\n",
       "        </tr>\n",
       "        <tr>\n",
       "            <td>F   </td> <td>118 </td>\n",
       "        </tr>\n",
       "        <tr>\n",
       "            <td>F   </td> <td>113 </td>\n",
       "        </tr>\n",
       "        <tr>\n",
       "            <td>F   </td> <td>107 </td>\n",
       "        </tr>\n",
       "        <tr>\n",
       "            <td>F   </td> <td>123 </td>\n",
       "        </tr>\n",
       "        <tr>\n",
       "            <td>F   </td> <td>93  </td>\n",
       "        </tr>\n",
       "        <tr>\n",
       "            <td>F   </td> <td>126 </td>\n",
       "        </tr>\n",
       "        <tr>\n",
       "            <td>F   </td> <td>91  </td>\n",
       "        </tr>\n",
       "        <tr>\n",
       "            <td>F   </td> <td>111 </td>\n",
       "        </tr>\n",
       "    </tbody>\n",
       "</table>\n",
       "<p>... (138 rows omitted)</p>"
      ],
      "text/plain": [
       "Sex  | Perf\n",
       "F    | 99\n",
       "F    | 86\n",
       "F    | 118\n",
       "F    | 113\n",
       "F    | 107\n",
       "F    | 123\n",
       "F    | 93\n",
       "F    | 126\n",
       "F    | 91\n",
       "F    | 111\n",
       "... (138 rows omitted)"
      ]
     },
     "execution_count": 6,
     "metadata": {},
     "output_type": "execute_result"
    }
   ],
   "source": [
    "perf = pers.select('Sex','Perf')\n",
    "perf"
   ]
  },
  {
   "cell_type": "markdown",
   "metadata": {},
   "source": [
    "### Hypotheses\n",
    "\n",
    "The **null hypothesis** is that the A/B groups were drawn from the same distribution. If that were the case, shuffling the labels of the grouping variables will not matter much at all. The observed difference will appear very likely when compared to the simulated test statistic distribution.\n",
    "\n",
    "The **alternative hypothesis** is that there is some significant difference between the two distributions. If so, the observed difference will look very different than the simulated test statistic distribution."
   ]
  },
  {
   "cell_type": "markdown",
   "metadata": {},
   "source": [
    "We can use the `ab_diff` function to calculate the observed difference between the A/B groups."
   ]
  },
  {
   "cell_type": "code",
   "execution_count": 7,
   "metadata": {},
   "outputs": [
    {
     "data": {
      "text/plain": [
       "2.5915966386554743"
      ]
     },
     "execution_count": 7,
     "metadata": {},
     "output_type": "execute_result"
    }
   ],
   "source": [
    "obs_diff = ab_diff(perf)\n",
    "obs_diff"
   ]
  },
  {
   "cell_type": "markdown",
   "metadata": {},
   "source": [
    "### Simulating the test statistic\n",
    "\n",
    "We can use the `ab_shuffle` and `ab_diff` functions together to simulate one test statistic. Run the code block below several times. You should observe both positive and negative values and learn what typical values in the test statistic distribution look like."
   ]
  },
  {
   "cell_type": "code",
   "execution_count": 8,
   "metadata": {},
   "outputs": [
    {
     "data": {
      "text/plain": [
       "2.287581699346404"
      ]
     },
     "execution_count": 8,
     "metadata": {},
     "output_type": "execute_result"
    }
   ],
   "source": [
    "ab_diff(ab_shuffle(perf))"
   ]
  },
  {
   "cell_type": "markdown",
   "metadata": {},
   "source": [
    "Now we simulate the test statistic distribution and store the results in an array called `perf_diffs`."
   ]
  },
  {
   "cell_type": "code",
   "execution_count": 9,
   "metadata": {},
   "outputs": [],
   "source": [
    "perf_diffs = make_array()\n",
    "\n",
    "# Set reps at 1,000 or less especially if running this in the cloud.\n",
    "reps = 2500\n",
    "\n",
    "for i in range(reps):\n",
    "    new_diff = ab_diff(ab_shuffle(perf))\n",
    "    perf_diffs = np.append(perf_diffs, new_diff)\n",
    "\n",
    "# Remove comment below to see the array created by the for loop\n",
    "# perf_diffs    "
   ]
  },
  {
   "cell_type": "code",
   "execution_count": 27,
   "metadata": {},
   "outputs": [
    {
     "data": {
      "image/png": "[encoded data removed]",
      "text/plain": [
       "<Figure size 432x288 with 1 Axes>"
      ]
     },
     "metadata": {
      "filenames": {
       "image/png": "C:\\Users\\robbs\\Documents\\Conda\\GitBook\\stats\\_build\\jupyter_execute\\tests\\1_19_0.png"
      }
     },
     "output_type": "display_data"
    }
   ],
   "source": [
    "ab_hist(perf_diffs,obs_diff)"
   ]
  },
  {
   "cell_type": "markdown",
   "metadata": {},
   "source": [
    "### Calculate $p$-value.\n",
    "\n",
    "We first create a truth array to determine how often the simulated test statistics were as extreme (or more extreme) than the observed difference. We can sum the truth array and divide by the number of simulated statistics created by the `for` loop."
   ]
  },
  {
   "cell_type": "code",
   "execution_count": 40,
   "metadata": {},
   "outputs": [
    {
     "data": {
      "text/plain": [
       "506"
      ]
     },
     "execution_count": 40,
     "metadata": {},
     "output_type": "execute_result"
    }
   ],
   "source": [
    "sum(perf_diffs >= obs_diff)"
   ]
  },
  {
   "cell_type": "code",
   "execution_count": 41,
   "metadata": {},
   "outputs": [
    {
     "data": {
      "text/plain": [
       "0.2024"
      ]
     },
     "execution_count": 41,
     "metadata": {},
     "output_type": "execute_result"
    }
   ],
   "source": [
    "p_value = sum(perf_diffs >= obs_diff) / reps \n",
    "p_value"
   ]
  },
  {
   "cell_type": "markdown",
   "metadata": {},
   "source": [
    "### Conclusion\n",
    "\n",
    "Since $p\\approx 0.2>0.05$, we fail to reject the null since it might well be true. In real world terms, we have found no significant differences in the perfectionism levels based upon biological sex."
   ]
  },
  {
   "cell_type": "markdown",
   "metadata": {},
   "source": [
    "## Example 2: Narcissism\n",
    "\n",
    "The `AccDate` variable is the Yes/No responses from UNG college students to this dating question: \"At a time in your life when you are not involved with anyone, a person asks you out. This person has a great personality, but you do not find them pysically attractive. Do you accept the date?\"\n",
    "\n",
    "*Research Question.* Will those who have higher levels of narcissism say \"No\" to the date more often? We can use the `pers` data to test whether Yes-group or No-group on the dating question have higher levels of narcissism."
   ]
  },
  {
   "cell_type": "code",
   "execution_count": 50,
   "metadata": {},
   "outputs": [
    {
     "data": {
      "text/html": [
       "<table border=\"1\" class=\"dataframe\">\n",
       "    <thead>\n",
       "        <tr>\n",
       "            <th>AccDate</th> <th>Narc</th>\n",
       "        </tr>\n",
       "    </thead>\n",
       "    <tbody>\n",
       "        <tr>\n",
       "            <td>N      </td> <td>3   </td>\n",
       "        </tr>\n",
       "        <tr>\n",
       "            <td>Y      </td> <td>2   </td>\n",
       "        </tr>\n",
       "        <tr>\n",
       "            <td>N      </td> <td>4   </td>\n",
       "        </tr>\n",
       "        <tr>\n",
       "            <td>Y      </td> <td>2   </td>\n",
       "        </tr>\n",
       "        <tr>\n",
       "            <td>Y      </td> <td>8   </td>\n",
       "        </tr>\n",
       "    </tbody>\n",
       "</table>\n",
       "<p>... (143 rows omitted)</p>"
      ],
      "text/plain": [
       "<IPython.core.display.HTML object>"
      ]
     },
     "metadata": {},
     "output_type": "display_data"
    }
   ],
   "source": [
    "narc = pers.select('AccDate','Narc')\n",
    "narc.show(5)"
   ]
  },
  {
   "cell_type": "code",
   "execution_count": 51,
   "metadata": {},
   "outputs": [
    {
     "data": {
      "text/html": [
       "<table border=\"1\" class=\"dataframe\">\n",
       "    <thead>\n",
       "        <tr>\n",
       "            <th>AccDate</th> <th>Narc average</th>\n",
       "        </tr>\n",
       "    </thead>\n",
       "    <tbody>\n",
       "        <tr>\n",
       "            <td>N      </td> <td>5.29688     </td>\n",
       "        </tr>\n",
       "        <tr>\n",
       "            <td>Y      </td> <td>4           </td>\n",
       "        </tr>\n",
       "    </tbody>\n",
       "</table>"
      ],
      "text/plain": [
       "AccDate | Narc average\n",
       "N       | 5.29688\n",
       "Y       | 4"
      ]
     },
     "execution_count": 51,
     "metadata": {},
     "output_type": "execute_result"
    }
   ],
   "source": [
    "narc.group('AccDate',np.average)"
   ]
  },
  {
   "cell_type": "markdown",
   "metadata": {},
   "source": [
    "There appears to be some difference in the A/B group means. Let's conduct the hypothesis test."
   ]
  },
  {
   "cell_type": "code",
   "execution_count": 52,
   "metadata": {},
   "outputs": [
    {
     "data": {
      "text/plain": [
       "1.296875"
      ]
     },
     "execution_count": 52,
     "metadata": {},
     "output_type": "execute_result"
    }
   ],
   "source": [
    "obs_diff_narc = ab_diff(narc)\n",
    "obs_diff_narc"
   ]
  },
  {
   "cell_type": "code",
   "execution_count": 59,
   "metadata": {},
   "outputs": [],
   "source": [
    "narc_diff = make_array()\n",
    "\n",
    "# Set reps to 1,000 or less, especially if using the cloud\n",
    "reps = 2500\n",
    "\n",
    "for i in range(reps):\n",
    "    new_diff = ab_diff(ab_shuffle(narc))\n",
    "    narc_diff = np.append(narc_diff,new_diff)\n",
    "    \n",
    "# Remove comment hashtag below to see results array\n",
    "#narc_diff"
   ]
  },
  {
   "cell_type": "code",
   "execution_count": 56,
   "metadata": {},
   "outputs": [
    {
     "data": {
      "image/png": "[encoded data removed]",
      "text/plain": [
       "<Figure size 432x288 with 1 Axes>"
      ]
     },
     "metadata": {
      "filenames": {
       "image/png": "C:\\Users\\robbs\\Documents\\Conda\\GitBook\\stats\\_build\\jupyter_execute\\tests\\1_30_0.png"
      }
     },
     "output_type": "display_data"
    }
   ],
   "source": [
    "ab_hist(narc_diff, obs_diff_narc)"
   ]
  },
  {
   "cell_type": "code",
   "execution_count": 58,
   "metadata": {},
   "outputs": [
    {
     "data": {
      "text/plain": [
       "0.004"
      ]
     },
     "execution_count": 58,
     "metadata": {},
     "output_type": "execute_result"
    }
   ],
   "source": [
    "p = sum(narc_diff >= obs_diff_narc) / reps\n",
    "p"
   ]
  },
  {
   "cell_type": "markdown",
   "metadata": {},
   "source": [
    "Since $p = 0.004 < 0.05$, we reject the null. We have strong evidence that those who say \"No\" to the date also have significantly higher levels of narcissism than those who say \"Yes.\""
   ]
  }
 ],
 "metadata": {
  "kernelspec": {
   "display_name": "Python 3",
   "language": "python",
   "name": "python3"
  },
  "language_info": {
   "codemirror_mode": {
    "name": "ipython",
    "version": 3
   },
   "file_extension": ".py",
   "mimetype": "text/x-python",
   "name": "python",
   "nbconvert_exporter": "python",
   "pygments_lexer": "ipython3",
   "version": "3.7.6"
  }
 },
 "nbformat": 4,
 "nbformat_minor": 4
}