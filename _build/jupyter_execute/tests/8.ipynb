{
 "cells": [
  {
   "cell_type": "markdown",
   "metadata": {},
   "source": [
    "# 30. Homework 10"
   ]
  },
  {
   "cell_type": "code",
   "execution_count": 1,
   "metadata": {},
   "outputs": [],
   "source": [
    "from datascience import *\n",
    "import numpy as np\n",
    "\n",
    "%matplotlib inline\n",
    "\n",
    "import matplotlib.pyplot as plots\n",
    "plots.style.use('fivethirtyeight')\n",
    "\n",
    "from scipy import stats"
   ]
  },
  {
   "cell_type": "markdown",
   "metadata": {},
   "source": [
    "I keep some data frames in CSV format accessible from my website. One of them is called personality.csv and has, as you might imagine, personality variables. We will pull different subsets of that data frame for the work below. Here's a description of the different variables you will see.\n",
    "\n",
    "Sex\n",
    ": M/F response to question about biological sex\n",
    "\n",
    "G21\n",
    ": Y/N response to \"are you 21 years old or older?\"\n",
    "\n",
    "Greek\n",
    ": Y/N response to \"are you involved in a social Greek fraternity or sorority?\"\n",
    "\n",
    "AccDate\n",
    ": Y/N response to question: \"At a time in your life when you are not involved with anyone, someone asks you out. This person has a great personality, but you do not find them physically attractive. Do you accept the date?\"\n",
    "\n",
    "SitClass\n",
    ": Front/middle/back response to \"where do you prefer to sit in class?\"\n",
    "\n",
    "Friends\n",
    ": Same/opposite/either response to \"which sex do you find it easiest to make friends with.\"\n",
    "\n",
    "Stress1, Stress2\n",
    ": Pre-post measure of stress in the 2nd week (Stress1) and 7th week (Stress2) of the semester.\n",
    "\n",
    "TxRel\n",
    ": Toxic relationships beliefs, higher scores indicate more toxicity.\n",
    "\n",
    "Opt\n",
    ": Optimism, higher scores indicate more optimism.\n",
    "\n",
    "SE\n",
    ": Self-esteem, higher score indicate higher levels of self-esteem.\n",
    "\n",
    "Neuro\n",
    ": Neuroticism, higher scores indicate higher levels of neuroticism\n",
    "\n",
    "Perf\n",
    ": Perfectionism, higher scores indicate higher levels of perfectionism.\n",
    "\n",
    "Narc\n",
    ": Narcissism, higher scores indicate higher levels of narcissism.\n",
    "\n",
    "You will recognize several data sets that we used in class examples and labs, too."
   ]
  },
  {
   "cell_type": "markdown",
   "metadata": {},
   "source": [
    "## Data for examples"
   ]
  },
  {
   "cell_type": "code",
   "execution_count": 2,
   "metadata": {},
   "outputs": [],
   "source": [
    "neuroanx = Table.read_table('http://faculty.ung.edu/rsinn/neuroanx.csv')\n",
    "perfnarc = Table.read_table('http://faculty.ung.edu/rsinn/perfnarc.csv')\n",
    "nba = Table.read_table('http://faculty.ung.edu/rsinn/nba_salaries.csv')\n",
    "assault = Table.read_table('http://faculty.ung.edu/rsinn/crime_rates.csv').select(0,1,2,3,4,7)"
   ]
  },
  {
   "cell_type": "markdown",
   "metadata": {},
   "source": [
    "## Task 1\n",
    "\n",
    "Using the `perfnarc` table, conduct an exploratory data analysis of the `Stress1` values. Be sure to find the mean, median, sample size and standard deviation, and to display a histogram of the variable."
   ]
  },
  {
   "cell_type": "code",
   "execution_count": 3,
   "metadata": {},
   "outputs": [
    {
     "data": {
      "text/html": [
       "<table border=\"1\" class=\"dataframe\">\n",
       "    <thead>\n",
       "        <tr>\n",
       "            <th>Sex</th> <th>G21</th> <th>Greek</th> <th>AccDate</th> <th>Stress1</th> <th>Stress2</th> <th>Perf</th> <th>Narc</th>\n",
       "        </tr>\n",
       "    </thead>\n",
       "    <tbody>\n",
       "        <tr>\n",
       "            <td>F   </td> <td>N   </td> <td>N    </td> <td>N      </td> <td>9      </td> <td>7      </td> <td>99  </td> <td>3   </td>\n",
       "        </tr>\n",
       "        <tr>\n",
       "            <td>F   </td> <td>Y   </td> <td>N    </td> <td>Y      </td> <td>11     </td> <td>13     </td> <td>86  </td> <td>2   </td>\n",
       "        </tr>\n",
       "        <tr>\n",
       "            <td>F   </td> <td>N   </td> <td>Y    </td> <td>N      </td> <td>15     </td> <td>14     </td> <td>118 </td> <td>4   </td>\n",
       "        </tr>\n",
       "        <tr>\n",
       "            <td>F   </td> <td>N   </td> <td>N    </td> <td>Y      </td> <td>16     </td> <td>15     </td> <td>113 </td> <td>2   </td>\n",
       "        </tr>\n",
       "        <tr>\n",
       "            <td>F   </td> <td>Y   </td> <td>N    </td> <td>Y      </td> <td>17     </td> <td>17     </td> <td>107 </td> <td>8   </td>\n",
       "        </tr>\n",
       "    </tbody>\n",
       "</table>\n",
       "<p>... (143 rows omitted)</p>"
      ],
      "text/plain": [
       "<IPython.core.display.HTML object>"
      ]
     },
     "metadata": {},
     "output_type": "display_data"
    }
   ],
   "source": [
    "perfnarc.show(5)"
   ]
  },
  {
   "cell_type": "markdown",
   "metadata": {},
   "source": [
    "Remember, you may use the tools from [notebook 26](https://straightdraw.github.io/stats/tests/6.html)."
   ]
  },
  {
   "cell_type": "code",
   "execution_count": null,
   "metadata": {},
   "outputs": [],
   "source": []
  },
  {
   "cell_type": "code",
   "execution_count": null,
   "metadata": {},
   "outputs": [],
   "source": []
  },
  {
   "cell_type": "markdown",
   "metadata": {},
   "source": [
    "## Task 2\n",
    "\n",
    "Using the `perfnarc` table, conduct an A/B test on `Stress1` values using the grouping variable `Greek`. The research question is whether students involved in Greek life would be more stressed during the 2nd week of the semester. Many social Greek organizations have meetings, socials and philanthropy events early in the semester, so perhaps they experience higher levels of stess."
   ]
  },
  {
   "cell_type": "code",
   "execution_count": 4,
   "metadata": {},
   "outputs": [
    {
     "data": {
      "text/html": [
       "<table border=\"1\" class=\"dataframe\">\n",
       "    <thead>\n",
       "        <tr>\n",
       "            <th>Sex</th> <th>G21</th> <th>Greek</th> <th>AccDate</th> <th>Stress1</th> <th>Stress2</th> <th>Perf</th> <th>Narc</th>\n",
       "        </tr>\n",
       "    </thead>\n",
       "    <tbody>\n",
       "        <tr>\n",
       "            <td>F   </td> <td>N   </td> <td>N    </td> <td>N      </td> <td>9      </td> <td>7      </td> <td>99  </td> <td>3   </td>\n",
       "        </tr>\n",
       "        <tr>\n",
       "            <td>F   </td> <td>Y   </td> <td>N    </td> <td>Y      </td> <td>11     </td> <td>13     </td> <td>86  </td> <td>2   </td>\n",
       "        </tr>\n",
       "        <tr>\n",
       "            <td>F   </td> <td>N   </td> <td>Y    </td> <td>N      </td> <td>15     </td> <td>14     </td> <td>118 </td> <td>4   </td>\n",
       "        </tr>\n",
       "        <tr>\n",
       "            <td>F   </td> <td>N   </td> <td>N    </td> <td>Y      </td> <td>16     </td> <td>15     </td> <td>113 </td> <td>2   </td>\n",
       "        </tr>\n",
       "        <tr>\n",
       "            <td>F   </td> <td>Y   </td> <td>N    </td> <td>Y      </td> <td>17     </td> <td>17     </td> <td>107 </td> <td>8   </td>\n",
       "        </tr>\n",
       "    </tbody>\n",
       "</table>\n",
       "<p>... (143 rows omitted)</p>"
      ],
      "text/plain": [
       "<IPython.core.display.HTML object>"
      ]
     },
     "metadata": {},
     "output_type": "display_data"
    }
   ],
   "source": [
    "perfnarc.show(5)"
   ]
  },
  {
   "cell_type": "markdown",
   "metadata": {},
   "source": [
    "Be sure to include your null hypothesis and a `for` loop that simulates the null hypothesis test statistic. After displaying the simulated distrubtion and calculating your $p$-value, write a sentence or two about the real world conclusions you can draw based on your results.\n",
    "\n",
    "Remember, you may use the tools from [notebook 20](https://straightdraw.github.io/stats/tests/0.html) and [notebook 21](https://straightdraw.github.io/stats/tests/.html)."
   ]
  },
  {
   "cell_type": "code",
   "execution_count": null,
   "metadata": {},
   "outputs": [],
   "source": []
  },
  {
   "cell_type": "code",
   "execution_count": null,
   "metadata": {},
   "outputs": [],
   "source": []
  },
  {
   "cell_type": "markdown",
   "metadata": {},
   "source": [
    "## Task 3\n",
    "\n",
    "Using the `nba_salary` table, conduct an A/B test to determine if power forwards (PF) are paid more than shooting guards (SG)."
   ]
  },
  {
   "cell_type": "code",
   "execution_count": 5,
   "metadata": {},
   "outputs": [
    {
     "data": {
      "text/html": [
       "<table border=\"1\" class=\"dataframe\">\n",
       "    <thead>\n",
       "        <tr>\n",
       "            <th>PLAYER</th> <th>POSITION</th> <th>TEAM</th> <th>'15-'16 SALARY</th>\n",
       "        </tr>\n",
       "    </thead>\n",
       "    <tbody>\n",
       "        <tr>\n",
       "            <td>Paul Millsap  </td> <td>PF      </td> <td>Atlanta Hawks</td> <td>18.6717       </td>\n",
       "        </tr>\n",
       "        <tr>\n",
       "            <td>Al Horford    </td> <td>C       </td> <td>Atlanta Hawks</td> <td>12            </td>\n",
       "        </tr>\n",
       "        <tr>\n",
       "            <td>Tiago Splitter</td> <td>C       </td> <td>Atlanta Hawks</td> <td>9.75625       </td>\n",
       "        </tr>\n",
       "        <tr>\n",
       "            <td>Jeff Teague   </td> <td>PG      </td> <td>Atlanta Hawks</td> <td>8             </td>\n",
       "        </tr>\n",
       "        <tr>\n",
       "            <td>Kyle Korver   </td> <td>SG      </td> <td>Atlanta Hawks</td> <td>5.74648       </td>\n",
       "        </tr>\n",
       "    </tbody>\n",
       "</table>\n",
       "<p>... (412 rows omitted)</p>"
      ],
      "text/plain": [
       "<IPython.core.display.HTML object>"
      ]
     },
     "metadata": {},
     "output_type": "display_data"
    }
   ],
   "source": [
    "nba.show(5)"
   ]
  },
  {
   "cell_type": "markdown",
   "metadata": {},
   "source": [
    "Be sure to include your null hypothesis and a `for` loop that simulates the null hypothesis test statistic. After displaying the simulated distrubtion and calculating your $p$-value, write a sentence or two about the real world conclusions you can draw based on your results.\n",
    "\n",
    "Remember, you may use the tools from [notebook 20](https://straightdraw.github.io/stats/tests/0.html) and [notebook 21](https://straightdraw.github.io/stats/tests/1.html)"
   ]
  },
  {
   "cell_type": "code",
   "execution_count": null,
   "metadata": {},
   "outputs": [],
   "source": []
  },
  {
   "cell_type": "code",
   "execution_count": null,
   "metadata": {},
   "outputs": [],
   "source": []
  },
  {
   "cell_type": "markdown",
   "metadata": {},
   "source": [
    "## Task 4\n",
    "\n",
    "Using the violent crime data set called `crime_rates`, conduct an exploratory data analysis as well as a bootstrapping confidence interval estimate of the mean `Aggravated Assault Rate` in Georgia between 1960 and 1990."
   ]
  },
  {
   "cell_type": "code",
   "execution_count": 6,
   "metadata": {},
   "outputs": [
    {
     "data": {
      "text/html": [
       "<table border=\"1\" class=\"dataframe\">\n",
       "    <thead>\n",
       "        <tr>\n",
       "            <th>State</th> <th>Year</th> <th>Population</th> <th>Violent Crime Rate</th> <th>Murder Rate</th> <th>Aggraveted Assault Rate</th>\n",
       "        </tr>\n",
       "    </thead>\n",
       "    <tbody>\n",
       "        <tr>\n",
       "            <td>Alaska</td> <td>1960</td> <td>226167    </td> <td>104.3             </td> <td>10.2       </td> <td>45.1                   </td>\n",
       "        </tr>\n",
       "        <tr>\n",
       "            <td>Alaska</td> <td>1961</td> <td>234000    </td> <td>88.9              </td> <td>11.5       </td> <td>51.7                   </td>\n",
       "        </tr>\n",
       "        <tr>\n",
       "            <td>Alaska</td> <td>1962</td> <td>246000    </td> <td>91.5              </td> <td>4.5        </td> <td>54.5                   </td>\n",
       "        </tr>\n",
       "        <tr>\n",
       "            <td>Alaska</td> <td>1963</td> <td>248000    </td> <td>109.7             </td> <td>6.5        </td> <td>66.1                   </td>\n",
       "        </tr>\n",
       "        <tr>\n",
       "            <td>Alaska</td> <td>1964</td> <td>250000    </td> <td>150               </td> <td>10.4       </td> <td>96                     </td>\n",
       "        </tr>\n",
       "    </tbody>\n",
       "</table>\n",
       "<p>... (2195 rows omitted)</p>"
      ],
      "text/plain": [
       "<IPython.core.display.HTML object>"
      ]
     },
     "metadata": {},
     "output_type": "display_data"
    }
   ],
   "source": [
    "assault.show(5)"
   ]
  },
  {
   "cell_type": "markdown",
   "metadata": {},
   "source": [
    "Discuss your findings. Remember, you may use the tools from [notebook 24](https://straightdraw.github.io/stats/tests/4.html) and [notebook 25](https://straightdraw.github.io/stats/tests/5.html)"
   ]
  },
  {
   "cell_type": "code",
   "execution_count": null,
   "metadata": {},
   "outputs": [],
   "source": []
  },
  {
   "cell_type": "code",
   "execution_count": null,
   "metadata": {},
   "outputs": [],
   "source": []
  },
  {
   "cell_type": "markdown",
   "metadata": {},
   "source": [
    "## Task 5\n",
    "\n",
    "Using the violent crime data set called `crime_rates`, conduct comparison of the Aggravated Assaults in Georgia and Alabama from 1960 to 1990. Use a 95% confidence interval for both means using a bootstrapped confidence interval with resample size of 30 and 1,000 repetitions of your `for` loop.\n",
    "\n",
    "With the null hypothesis that the aggravated assault rate distribution will be the same in both GA and AL, we can conduct a hypothesis test. If the confidence intervals do not overlap, we have evidence of a difference in aggravated assault rates between these two states. If the confidence intervals do overlap, there is no evidence for a difference in means."
   ]
  },
  {
   "cell_type": "code",
   "execution_count": 7,
   "metadata": {},
   "outputs": [
    {
     "data": {
      "text/html": [
       "<table border=\"1\" class=\"dataframe\">\n",
       "    <thead>\n",
       "        <tr>\n",
       "            <th>State</th> <th>Year</th> <th>Population</th> <th>Violent Crime Rate</th> <th>Murder Rate</th> <th>Aggraveted Assault Rate</th>\n",
       "        </tr>\n",
       "    </thead>\n",
       "    <tbody>\n",
       "        <tr>\n",
       "            <td>Alaska</td> <td>1960</td> <td>226167    </td> <td>104.3             </td> <td>10.2       </td> <td>45.1                   </td>\n",
       "        </tr>\n",
       "        <tr>\n",
       "            <td>Alaska</td> <td>1961</td> <td>234000    </td> <td>88.9              </td> <td>11.5       </td> <td>51.7                   </td>\n",
       "        </tr>\n",
       "        <tr>\n",
       "            <td>Alaska</td> <td>1962</td> <td>246000    </td> <td>91.5              </td> <td>4.5        </td> <td>54.5                   </td>\n",
       "        </tr>\n",
       "        <tr>\n",
       "            <td>Alaska</td> <td>1963</td> <td>248000    </td> <td>109.7             </td> <td>6.5        </td> <td>66.1                   </td>\n",
       "        </tr>\n",
       "        <tr>\n",
       "            <td>Alaska</td> <td>1964</td> <td>250000    </td> <td>150               </td> <td>10.4       </td> <td>96                     </td>\n",
       "        </tr>\n",
       "    </tbody>\n",
       "</table>\n",
       "<p>... (2195 rows omitted)</p>"
      ],
      "text/plain": [
       "<IPython.core.display.HTML object>"
      ]
     },
     "metadata": {},
     "output_type": "display_data"
    }
   ],
   "source": [
    "assault.show(5)"
   ]
  },
  {
   "cell_type": "code",
   "execution_count": null,
   "metadata": {},
   "outputs": [],
   "source": []
  },
  {
   "cell_type": "code",
   "execution_count": null,
   "metadata": {},
   "outputs": [],
   "source": []
  },
  {
   "cell_type": "markdown",
   "metadata": {},
   "source": [
    "## Task 6\n",
    "\n",
    "Using the `personality` data set, test for a significant correlation between Anxiety and Optimism. Be sure to to display descriptive statistics for regression, a scatter plot, and a simulation of the null hypothesis test statistic. Be sure to discuss your findings in terms of the $p$ calculated in your `for` loop using 2,000 to 5,000 repititions."
   ]
  },
  {
   "cell_type": "code",
   "execution_count": 8,
   "metadata": {},
   "outputs": [
    {
     "data": {
      "text/html": [
       "<table border=\"1\" class=\"dataframe\">\n",
       "    <thead>\n",
       "        <tr>\n",
       "            <th>Sex</th> <th>G21</th> <th>SitClass</th> <th>Friends</th> <th>TxRel</th> <th>Anx</th> <th>Opt</th> <th>SE</th> <th>Neuro</th>\n",
       "        </tr>\n",
       "    </thead>\n",
       "    <tbody>\n",
       "        <tr>\n",
       "            <td>M   </td> <td>N   </td> <td>F       </td> <td>O      </td> <td>26   </td> <td>23  </td> <td>20  </td> <td>70  </td> <td>10   </td>\n",
       "        </tr>\n",
       "        <tr>\n",
       "            <td>F   </td> <td>N   </td> <td>M       </td> <td>S      </td> <td>21   </td> <td>24  </td> <td>22  </td> <td>68  </td> <td>11   </td>\n",
       "        </tr>\n",
       "        <tr>\n",
       "            <td>M   </td> <td>Y   </td> <td>F       </td> <td>E      </td> <td>25   </td> <td>27  </td> <td>29  </td> <td>65  </td> <td>11   </td>\n",
       "        </tr>\n",
       "        <tr>\n",
       "            <td>M   </td> <td>Y   </td> <td>B       </td> <td>E      </td> <td>22   </td> <td>30  </td> <td>28  </td> <td>61  </td> <td>15   </td>\n",
       "        </tr>\n",
       "        <tr>\n",
       "            <td>M   </td> <td>N   </td> <td>M       </td> <td>E      </td> <td>23   </td> <td>40  </td> <td>26  </td> <td>64  </td> <td>16   </td>\n",
       "        </tr>\n",
       "    </tbody>\n",
       "</table>\n",
       "<p>... (137 rows omitted)</p>"
      ],
      "text/plain": [
       "<IPython.core.display.HTML object>"
      ]
     },
     "metadata": {},
     "output_type": "display_data"
    }
   ],
   "source": [
    "neuroanx.show(5)"
   ]
  },
  {
   "cell_type": "code",
   "execution_count": null,
   "metadata": {},
   "outputs": [],
   "source": []
  },
  {
   "cell_type": "code",
   "execution_count": null,
   "metadata": {},
   "outputs": [],
   "source": []
  },
  {
   "cell_type": "markdown",
   "metadata": {},
   "source": [
    "Discuss your findings. Remember, you may use the tools from [notebook 26](https://straightdraw.github.io/stats/tests/6.html) and [notebook 27](https://straightdraw.github.io/stats/tests/7.html)"
   ]
  },
  {
   "cell_type": "code",
   "execution_count": null,
   "metadata": {},
   "outputs": [],
   "source": []
  },
  {
   "cell_type": "code",
   "execution_count": null,
   "metadata": {},
   "outputs": [],
   "source": []
  },
  {
   "cell_type": "markdown",
   "metadata": {},
   "source": [
    "## Task 7\n",
    "\n",
    "Conduct an investigation that interests you using one of the included data sets. Describe your null hypothesis and how you plan to test it. Have fun. Be creative. Yet try to keep it very similar to one of the investigations we have have examples for. You should finish with a hypothesis test and discussion of your calculated $p$-value."
   ]
  },
  {
   "cell_type": "code",
   "execution_count": null,
   "metadata": {},
   "outputs": [],
   "source": []
  },
  {
   "cell_type": "code",
   "execution_count": null,
   "metadata": {},
   "outputs": [],
   "source": []
  }
 ],
 "metadata": {
  "anaconda-cloud": {},
  "kernelspec": {
   "display_name": "Python 3",
   "language": "python",
   "name": "python3"
  },
  "language_info": {
   "codemirror_mode": {
    "name": "ipython",
    "version": 3
   },
   "file_extension": ".py",
   "mimetype": "text/x-python",
   "name": "python",
   "nbconvert_exporter": "python",
   "pygments_lexer": "ipython3",
   "version": "3.7.6"
  }
 },
 "nbformat": 4,
 "nbformat_minor": 4
}