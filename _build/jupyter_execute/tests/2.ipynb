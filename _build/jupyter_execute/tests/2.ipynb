{
 "cells": [
  {
   "cell_type": "markdown",
   "metadata": {},
   "source": [
    "# 22. Matched Pairs Testing"
   ]
  },
  {
   "cell_type": "code",
   "execution_count": 1,
   "metadata": {},
   "outputs": [],
   "source": [
    "from datascience import *\n",
    "import numpy as np\n",
    "\n",
    "%matplotlib inline\n",
    "\n",
    "import matplotlib.pyplot as plots\n",
    "plots.style.use('fivethirtyeight')\n",
    "\n",
    "from scipy import stats"
   ]
  },
  {
   "cell_type": "markdown",
   "metadata": {},
   "source": [
    "We will continue to work with a subset of the `personality` table called `pers` but the use pretest vs. posttest data in the `Stress1` and `Stress2` variables. They are the same measure, but one was conducted in the second week of the academic semester while the other was conducted in the seventh week. The **research question** asks whether stress levels are higher during midterms than early in the semester."
   ]
  },
  {
   "cell_type": "code",
   "execution_count": 2,
   "metadata": {},
   "outputs": [
    {
     "data": {
      "text/html": [
       "<table border=\"1\" class=\"dataframe\">\n",
       "    <thead>\n",
       "        <tr>\n",
       "            <th>Sex</th> <th>G21</th> <th>Greek</th> <th>AccDate</th> <th>Stress1</th> <th>Stress2</th> <th>Perf</th> <th>Narc</th>\n",
       "        </tr>\n",
       "    </thead>\n",
       "    <tbody>\n",
       "        <tr>\n",
       "            <td>F   </td> <td>N   </td> <td>N    </td> <td>N      </td> <td>9      </td> <td>7      </td> <td>99  </td> <td>3   </td>\n",
       "        </tr>\n",
       "        <tr>\n",
       "            <td>F   </td> <td>Y   </td> <td>N    </td> <td>Y      </td> <td>11     </td> <td>13     </td> <td>86  </td> <td>2   </td>\n",
       "        </tr>\n",
       "        <tr>\n",
       "            <td>F   </td> <td>N   </td> <td>Y    </td> <td>N      </td> <td>15     </td> <td>14     </td> <td>118 </td> <td>4   </td>\n",
       "        </tr>\n",
       "        <tr>\n",
       "            <td>F   </td> <td>N   </td> <td>N    </td> <td>Y      </td> <td>16     </td> <td>15     </td> <td>113 </td> <td>2   </td>\n",
       "        </tr>\n",
       "        <tr>\n",
       "            <td>F   </td> <td>Y   </td> <td>N    </td> <td>Y      </td> <td>17     </td> <td>17     </td> <td>107 </td> <td>8   </td>\n",
       "        </tr>\n",
       "    </tbody>\n",
       "</table>\n",
       "<p>... (143 rows omitted)</p>"
      ],
      "text/plain": [
       "<IPython.core.display.HTML object>"
      ]
     },
     "metadata": {},
     "output_type": "display_data"
    }
   ],
   "source": [
    "pers = Table.read_table('http://faculty.ung.edu/rsinn/perfnarc.csv')\n",
    "pers.show(5)"
   ]
  },
  {
   "cell_type": "markdown",
   "metadata": {},
   "source": [
    "## Matched Pairs Data\n",
    "\n",
    "The exact same students were surveyed in what researchers call a pre-post format. This is **not** an A/B test because we don't have two groups of subjects A and B, we have one group only. Let's gather the columns we need."
   ]
  },
  {
   "cell_type": "code",
   "execution_count": 3,
   "metadata": {},
   "outputs": [
    {
     "data": {
      "text/html": [
       "<table border=\"1\" class=\"dataframe\">\n",
       "    <thead>\n",
       "        <tr>\n",
       "            <th>Stress1</th> <th>Stress2</th>\n",
       "        </tr>\n",
       "    </thead>\n",
       "    <tbody>\n",
       "        <tr>\n",
       "            <td>9      </td> <td>7      </td>\n",
       "        </tr>\n",
       "        <tr>\n",
       "            <td>11     </td> <td>13     </td>\n",
       "        </tr>\n",
       "        <tr>\n",
       "            <td>15     </td> <td>14     </td>\n",
       "        </tr>\n",
       "        <tr>\n",
       "            <td>16     </td> <td>15     </td>\n",
       "        </tr>\n",
       "        <tr>\n",
       "            <td>17     </td> <td>17     </td>\n",
       "        </tr>\n",
       "        <tr>\n",
       "            <td>10     </td> <td>7      </td>\n",
       "        </tr>\n",
       "        <tr>\n",
       "            <td>16     </td> <td>18     </td>\n",
       "        </tr>\n",
       "        <tr>\n",
       "            <td>12     </td> <td>12     </td>\n",
       "        </tr>\n",
       "        <tr>\n",
       "            <td>11     </td> <td>16     </td>\n",
       "        </tr>\n",
       "        <tr>\n",
       "            <td>18     </td> <td>16     </td>\n",
       "        </tr>\n",
       "    </tbody>\n",
       "</table>\n",
       "<p>... (138 rows omitted)</p>"
      ],
      "text/plain": [
       "Stress1 | Stress2\n",
       "9       | 7\n",
       "11      | 13\n",
       "15      | 14\n",
       "16      | 15\n",
       "17      | 17\n",
       "10      | 7\n",
       "16      | 18\n",
       "12      | 12\n",
       "11      | 16\n",
       "18      | 16\n",
       "... (138 rows omitted)"
      ]
     },
     "execution_count": 3,
     "metadata": {},
     "output_type": "execute_result"
    }
   ],
   "source": [
    "stress = pers.select('Stress1','Stress2')\n",
    "stress"
   ]
  },
  {
   "cell_type": "markdown",
   "metadata": {},
   "source": [
    "### Gain Scores\n",
    "\n",
    "The null hypothesis is that there is no change in stress between the pretest measure (2nd week) and the posttest measure (7th week). We are primarily interested in how individual stress scores changed, either increasing or decreasing, so we produce a third column called `Gain` to measure the increase from pre to post.\n",
    "\n",
    "$$\\text{Gain} = \\text{Post} - \\text{Pre}$$"
   ]
  },
  {
   "cell_type": "code",
   "execution_count": 4,
   "metadata": {},
   "outputs": [
    {
     "data": {
      "text/plain": [
       "array([ -2,   2,  -1,  -1,   0,  -3,   2,   0,   5,  -2,  -2,   5,   1,\n",
       "        -6,   0,  -2,   5,   2,   1,  -6,   4,   2,  -2,   5,   0,   0,\n",
       "        -1,  -2,   3,  -1,   3,  -1,  -1,  -3,   0,   0,   6,  -2,   5,\n",
       "         2,   3,  -1,   0,   1,   0,  -4,   6,  -4,   3,   5,   0,   4,\n",
       "         2,   7,   1,   4, -10,  -2,   3,   2,   4,  -7,   5,  -2,  -3,\n",
       "        -1,  -1,   4,  -4,   0,   6,   2,  -3,   2,  -5,   1,   2,  -3,\n",
       "        -1,   0,   0,   0,   0,   0,   0,   1,   0,   2,  -2,   0,   6,\n",
       "         1,   4,   0,   1,  -3,   1,   4,   3,   1,   1,   3,   0,   7,\n",
       "         5,   0,   1,  -2,   1,   5,   0,  -4,  -4,   2,  -1,   0,  -1,\n",
       "         1,  -4,  -2,   5,   4,   3,   2,   2,   3,   4,   2,  -1,   4,\n",
       "         4,   9,  -5,   2,   1,   3,   5,   5,  -3,   0,   0,   0,   7,\n",
       "        12,   0,  -2,   3,  -4])"
      ]
     },
     "execution_count": 4,
     "metadata": {},
     "output_type": "execute_result"
    }
   ],
   "source": [
    "pre = stress.column(0)\n",
    "post = stress.column(1)\n",
    "gain = post - pre\n",
    "gain"
   ]
  },
  {
   "cell_type": "code",
   "execution_count": 5,
   "metadata": {},
   "outputs": [
    {
     "data": {
      "text/html": [
       "<table border=\"1\" class=\"dataframe\">\n",
       "    <thead>\n",
       "        <tr>\n",
       "            <th>Stress1</th> <th>Stress2</th> <th>Gain</th>\n",
       "        </tr>\n",
       "    </thead>\n",
       "    <tbody>\n",
       "        <tr>\n",
       "            <td>9      </td> <td>7      </td> <td>-2  </td>\n",
       "        </tr>\n",
       "        <tr>\n",
       "            <td>11     </td> <td>13     </td> <td>2   </td>\n",
       "        </tr>\n",
       "        <tr>\n",
       "            <td>15     </td> <td>14     </td> <td>-1  </td>\n",
       "        </tr>\n",
       "        <tr>\n",
       "            <td>16     </td> <td>15     </td> <td>-1  </td>\n",
       "        </tr>\n",
       "        <tr>\n",
       "            <td>17     </td> <td>17     </td> <td>0   </td>\n",
       "        </tr>\n",
       "        <tr>\n",
       "            <td>10     </td> <td>7      </td> <td>-3  </td>\n",
       "        </tr>\n",
       "        <tr>\n",
       "            <td>16     </td> <td>18     </td> <td>2   </td>\n",
       "        </tr>\n",
       "        <tr>\n",
       "            <td>12     </td> <td>12     </td> <td>0   </td>\n",
       "        </tr>\n",
       "        <tr>\n",
       "            <td>11     </td> <td>16     </td> <td>5   </td>\n",
       "        </tr>\n",
       "        <tr>\n",
       "            <td>18     </td> <td>16     </td> <td>-2  </td>\n",
       "        </tr>\n",
       "    </tbody>\n",
       "</table>\n",
       "<p>... (138 rows omitted)</p>"
      ],
      "text/plain": [
       "Stress1 | Stress2 | Gain\n",
       "9       | 7       | -2\n",
       "11      | 13      | 2\n",
       "15      | 14      | -1\n",
       "16      | 15      | -1\n",
       "17      | 17      | 0\n",
       "10      | 7       | -3\n",
       "16      | 18      | 2\n",
       "12      | 12      | 0\n",
       "11      | 16      | 5\n",
       "18      | 16      | -2\n",
       "... (138 rows omitted)"
      ]
     },
     "execution_count": 5,
     "metadata": {},
     "output_type": "execute_result"
    }
   ],
   "source": [
    "stress = stress.with_column('Gain',gain)\n",
    "stress"
   ]
  },
  {
   "cell_type": "markdown",
   "metadata": {},
   "source": [
    "We first want to determine the observed gain value to see if stress scores increased."
   ]
  },
  {
   "cell_type": "code",
   "execution_count": 6,
   "metadata": {},
   "outputs": [
    {
     "data": {
      "text/plain": [
       "0.831081081081081"
      ]
     },
     "execution_count": 6,
     "metadata": {},
     "output_type": "execute_result"
    }
   ],
   "source": [
    "obs_gain = np.average(gain)\n",
    "obs_gain"
   ]
  },
  {
   "cell_type": "markdown",
   "metadata": {},
   "source": [
    "### Simulating the null hypothesis in a pretest vs. posttest design\n",
    "\n",
    "The null hypothesis is that there is no difference between pretest and posttest scores. In that case, the gain would be zero, and it would not matter if we switched the pre and post scores. That's exactly how we will randomize the test statistic: randomly change the signs of the gain scores."
   ]
  },
  {
   "cell_type": "code",
   "execution_count": 7,
   "metadata": {},
   "outputs": [],
   "source": [
    "sign = make_array(-1,1)"
   ]
  },
  {
   "cell_type": "code",
   "execution_count": 8,
   "metadata": {},
   "outputs": [
    {
     "data": {
      "text/plain": [
       "148"
      ]
     },
     "execution_count": 8,
     "metadata": {},
     "output_type": "execute_result"
    }
   ],
   "source": [
    "n = len(gain)\n",
    "n"
   ]
  },
  {
   "cell_type": "code",
   "execution_count": 9,
   "metadata": {},
   "outputs": [
    {
     "data": {
      "text/plain": [
       "array([ 1, -1,  1, -1, -1, -1, -1, -1, -1, -1, -1,  1, -1, -1, -1, -1, -1,\n",
       "       -1, -1,  1,  1, -1, -1,  1, -1, -1, -1, -1,  1,  1,  1,  1, -1, -1,\n",
       "        1, -1,  1, -1, -1,  1, -1,  1,  1, -1,  1, -1,  1, -1, -1, -1, -1,\n",
       "        1, -1,  1, -1,  1,  1,  1,  1, -1, -1,  1,  1,  1, -1, -1,  1,  1,\n",
       "        1, -1, -1, -1, -1,  1, -1,  1,  1, -1,  1, -1, -1,  1,  1,  1, -1,\n",
       "        1, -1,  1, -1, -1,  1, -1, -1, -1,  1, -1,  1,  1,  1,  1, -1,  1,\n",
       "        1,  1,  1,  1, -1,  1, -1,  1, -1, -1,  1,  1,  1, -1, -1,  1,  1,\n",
       "        1,  1,  1, -1,  1, -1,  1, -1, -1,  1,  1,  1, -1, -1, -1,  1, -1,\n",
       "        1,  1, -1,  1,  1, -1,  1,  1, -1,  1, -1,  1], dtype=int64)"
      ]
     },
     "execution_count": 9,
     "metadata": {},
     "output_type": "execute_result"
    }
   ],
   "source": [
    "ones = np.random.choice(sign,148)\n",
    "ones"
   ]
  },
  {
   "cell_type": "markdown",
   "metadata": {},
   "source": [
    "Now we have a random assortment of postive and negative ones. We can multiply this array times the gain array. The result will be a random choice of sign for the gain scores. The absolute value of the gain scores will remain fixed."
   ]
  },
  {
   "cell_type": "code",
   "execution_count": 10,
   "metadata": {},
   "outputs": [
    {
     "data": {
      "text/plain": [
       "array([ -2,  -2,  -1,   1,   0,   3,  -2,   0,  -5,   2,   2,   5,  -1,\n",
       "         6,   0,   2,  -5,  -2,  -1,  -6,   4,  -2,   2,   5,   0,   0,\n",
       "         1,   2,   3,  -1,   3,  -1,   1,   3,   0,   0,   6,   2,  -5,\n",
       "         2,  -3,  -1,   0,  -1,   0,   4,   6,   4,  -3,  -5,   0,   4,\n",
       "        -2,   7,  -1,   4, -10,  -2,   3,  -2,  -4,  -7,   5,  -2,   3,\n",
       "         1,  -1,   4,  -4,   0,  -6,  -2,   3,   2,   5,   1,   2,   3,\n",
       "        -1,   0,   0,   0,   0,   0,   0,   1,   0,   2,   2,   0,   6,\n",
       "        -1,  -4,   0,   1,   3,   1,   4,   3,   1,  -1,   3,   0,   7,\n",
       "         5,   0,  -1,  -2,  -1,   5,   0,   4,  -4,   2,  -1,   0,   1,\n",
       "         1,  -4,  -2,   5,   4,  -3,   2,  -2,   3,  -4,  -2,  -1,   4,\n",
       "         4,  -9,   5,  -2,   1,  -3,   5,   5,   3,   0,   0,   0,   7,\n",
       "        12,   0,  -2,  -3,  -4], dtype=int64)"
      ]
     },
     "execution_count": 10,
     "metadata": {},
     "output_type": "execute_result"
    }
   ],
   "source": [
    "rand_gain = ones * gain\n",
    "rand_gain"
   ]
  },
  {
   "cell_type": "markdown",
   "metadata": {},
   "source": [
    "Like before, we can simulate the statistic thousands of times to determine what the test statistic distribution looks like."
   ]
  },
  {
   "cell_type": "code",
   "execution_count": 11,
   "metadata": {},
   "outputs": [],
   "source": [
    "avg_gains = make_array()\n",
    "\n",
    "# Set reps to 2k or less especially if working in the cloud\n",
    "reps = 25000\n",
    "\n",
    "for i in range(reps):\n",
    "    ones = np.random.choice(sign,n)\n",
    "    new_avg_gain = np.average(ones * gain)\n",
    "    avg_gains = np.append(avg_gains, new_avg_gain)\n",
    "    \n",
    "# Remove hashtag comment below to see the gains array   \n",
    "# gains"
   ]
  },
  {
   "cell_type": "code",
   "execution_count": 12,
   "metadata": {},
   "outputs": [],
   "source": [
    "def ab_hist(myArray, observed_value):\n",
    "    tab = Table().with_column('Average Gains',myArray)\n",
    "    tab.hist(0)\n",
    "    _ = plots.plot([observed_value, observed_value], [0, 0.1], color='red', lw=2)"
   ]
  },
  {
   "cell_type": "code",
   "execution_count": 13,
   "metadata": {},
   "outputs": [
    {
     "data": {
      "image/png": "[encoded data removed]",
      "text/plain": [
       "<Figure size 432x288 with 1 Axes>"
      ]
     },
     "metadata": {
      "filenames": {
       "image/png": "C:\\Users\\robbs\\Documents\\Conda\\GitBook\\stats\\_build\\jupyter_execute\\tests\\2_20_0.png"
      }
     },
     "output_type": "display_data"
    }
   ],
   "source": [
    "ab_hist(avg_gains,obs_gain)"
   ]
  },
  {
   "cell_type": "markdown",
   "metadata": {},
   "source": [
    "I changed the $x$-axis title in the `ab_hist` fucntion, but everything else is identical the previous two notebooks. We can calculate a $p$-value using a truth array. The observed average gain in stress appears to be atypical given the conditions of the null hypothesis."
   ]
  },
  {
   "cell_type": "code",
   "execution_count": 14,
   "metadata": {},
   "outputs": [
    {
     "data": {
      "text/plain": [
       "0.00108"
      ]
     },
     "execution_count": 14,
     "metadata": {},
     "output_type": "execute_result"
    }
   ],
   "source": [
    "p = sum( avg_gains >= obs_gain ) / reps\n",
    "p"
   ]
  },
  {
   "cell_type": "markdown",
   "metadata": {},
   "source": [
    "### Results: Stress example\n",
    "\n",
    "Reject the null hypothesis. There appears to be a significant increase in stress at midterms compared to the second week of the semester."
   ]
  },
  {
   "cell_type": "markdown",
   "metadata": {},
   "source": [
    "## Example: Murder rates in U.S. states\n",
    "\n",
    "The example data and research question were provided in the Data8 materials received from Berkeley (Lab 7). When investigating whether the death penalty could serve as a deterrent (and ignoring all political and moral aspects of the question), the fact that the death penalty was ruled unconstitutional by the U.S. Supreme Court in 1972 was noted as a natural experiment. The 44 states that had the death penalty at the time exprienced an indavertent pretest-posttest design.\n",
    "\n",
    "The Data8 materials incorrectly performed an A/B test on this paired data. The resulting $p$-value is approximately 0.25, so the proper conclusion is to fail to reject the null which suggests the death penalty was no detterent. Murder rates were not significantly different in 1973 when compared with 1971 rates.\n",
    "\n",
    "Yet, the correct way to test paired data is to compare the increase or decrease in each state, not to randomly reshuffle the years of 1971 and 1973 as if they were demographic labels. We will use a matched pairs design to evaluate the results as if they were a pre-post design.\n",
    "\n",
    "The code block below recreates the needed data set for our work. We have to eliminate the six states that did not have the death penalty in 1971, then isolate the murder rates in 1971 and 1973 respectively."
   ]
  },
  {
   "cell_type": "code",
   "execution_count": 15,
   "metadata": {},
   "outputs": [
    {
     "data": {
      "text/html": [
       "<table border=\"1\" class=\"dataframe\">\n",
       "    <thead>\n",
       "        <tr>\n",
       "            <th>State</th> <th>Murder Rate 1971</th> <th>Murder Rate 1973</th>\n",
       "        </tr>\n",
       "    </thead>\n",
       "    <tbody>\n",
       "        <tr>\n",
       "            <td>Alabama    </td> <td>15.1            </td> <td>13.2            </td>\n",
       "        </tr>\n",
       "        <tr>\n",
       "            <td>Arizona    </td> <td>6.7             </td> <td>8.1             </td>\n",
       "        </tr>\n",
       "        <tr>\n",
       "            <td>Arkansas   </td> <td>10.5            </td> <td>8.8             </td>\n",
       "        </tr>\n",
       "        <tr>\n",
       "            <td>California </td> <td>8.1             </td> <td>9               </td>\n",
       "        </tr>\n",
       "        <tr>\n",
       "            <td>Colorado   </td> <td>6.5             </td> <td>7.9             </td>\n",
       "        </tr>\n",
       "        <tr>\n",
       "            <td>Connecticut</td> <td>3.1             </td> <td>3.3             </td>\n",
       "        </tr>\n",
       "        <tr>\n",
       "            <td>Delaware   </td> <td>6.1             </td> <td>5.9             </td>\n",
       "        </tr>\n",
       "        <tr>\n",
       "            <td>Florida    </td> <td>13.3            </td> <td>15.4            </td>\n",
       "        </tr>\n",
       "        <tr>\n",
       "            <td>Georgia    </td> <td>16              </td> <td>17.4            </td>\n",
       "        </tr>\n",
       "        <tr>\n",
       "            <td>Idaho      </td> <td>3.3             </td> <td>2.6             </td>\n",
       "        </tr>\n",
       "    </tbody>\n",
       "</table>\n",
       "<p>... (34 rows omitted)</p>"
      ],
      "text/plain": [
       "State       | Murder Rate 1971 | Murder Rate 1973\n",
       "Alabama     | 15.1             | 13.2\n",
       "Arizona     | 6.7              | 8.1\n",
       "Arkansas    | 10.5             | 8.8\n",
       "California  | 8.1              | 9\n",
       "Colorado    | 6.5              | 7.9\n",
       "Connecticut | 3.1              | 3.3\n",
       "Delaware    | 6.1              | 5.9\n",
       "Florida     | 13.3             | 15.4\n",
       "Georgia     | 16               | 17.4\n",
       "Idaho       | 3.3              | 2.6\n",
       "... (34 rows omitted)"
      ]
     },
     "execution_count": 15,
     "metadata": {},
     "output_type": "execute_result"
    }
   ],
   "source": [
    "murder = Table.read_table('http://faculty.ung.edu/rsinn/crime_rates.csv').select('State', 'Year', 'Population', 'Murder Rate')\n",
    "non_death_penalty_states = make_array('Alaska', 'Hawaii', 'Maine', 'Michigan', 'Wisconsin', 'Minnesota')\n",
    "murder_1971 = murder.where('State',are.not_contained_in(non_death_penalty_states)).where('Year', 1971)\n",
    "murder_1973 = murder.where('State',are.not_contained_in(non_death_penalty_states)).where('Year', 1973)\n",
    "pre_post_murder = murder_1971.join('State',murder_1973).select('State','Murder Rate', 'Murder Rate_2')\n",
    "pre_post_murder = (pre_post_murder\n",
    "                   .relabel('Murder Rate', 'Murder Rate 1971')\n",
    "                   .relabel('Murder Rate_2', 'Murder Rate 1973'))\n",
    "pre_post_murder"
   ]
  },
  {
   "cell_type": "code",
   "execution_count": 16,
   "metadata": {},
   "outputs": [
    {
     "data": {
      "text/plain": [
       "0.606818160065909"
      ]
     },
     "execution_count": 16,
     "metadata": {},
     "output_type": "execute_result"
    }
   ],
   "source": [
    "pre = pre_post_murder.column(1)\n",
    "post = pre_post_murder.column(2)\n",
    "gain = post - pre\n",
    "\n",
    "obs_murder_rate_gain = np.average(gain)\n",
    "obs_murder_rate_gain"
   ]
  },
  {
   "cell_type": "code",
   "execution_count": 17,
   "metadata": {},
   "outputs": [],
   "source": [
    "murder_rate_gain = make_array()\n",
    "\n",
    "# Set reps to 2k or less especially if working in the cloud\n",
    "reps = 25000\n",
    "\n",
    "for i in range(reps):\n",
    "    ones = np.random.choice(sign,44)\n",
    "    new_avg_gain = np.average(ones * gain)\n",
    "    murder_rate_gain = np.append(murder_rate_gain, new_avg_gain)\n",
    "    \n",
    "# Remove hashtag comment below to see the gains array   \n",
    "# avg_gain_murder"
   ]
  },
  {
   "cell_type": "code",
   "execution_count": 18,
   "metadata": {},
   "outputs": [
    {
     "data": {
      "image/png": "[encoded data removed]",
      "text/plain": [
       "<Figure size 432x288 with 1 Axes>"
      ]
     },
     "metadata": {
      "filenames": {
       "image/png": "C:\\Users\\robbs\\Documents\\Conda\\GitBook\\stats\\_build\\jupyter_execute\\tests\\2_28_0.png"
      }
     },
     "output_type": "display_data"
    }
   ],
   "source": [
    "ab_hist(murder_rate_gain, obs_murder_rate_gain)"
   ]
  },
  {
   "cell_type": "code",
   "execution_count": 19,
   "metadata": {},
   "outputs": [
    {
     "ename": "NameError",
     "evalue": "name 'repetitions' is not defined",
     "output_type": "error",
     "traceback": [
      "\u001b[1;31m---------------------------------------------------------------------------\u001b[0m",
      "\u001b[1;31mNameError\u001b[0m                                 Traceback (most recent call last)",
      "\u001b[1;32m<ipython-input-19-cce8cc2cce9a>\u001b[0m in \u001b[0;36m<module>\u001b[1;34m\u001b[0m\n\u001b[1;32m----> 1\u001b[1;33m \u001b[0mp_val\u001b[0m \u001b[1;33m=\u001b[0m \u001b[0msum\u001b[0m\u001b[1;33m(\u001b[0m \u001b[0mmurder_rate_gain\u001b[0m \u001b[1;33m>=\u001b[0m \u001b[0mobs_murder_rate_gain\u001b[0m \u001b[1;33m)\u001b[0m \u001b[1;33m/\u001b[0m \u001b[0mrepetitions\u001b[0m\u001b[1;33m\u001b[0m\u001b[1;33m\u001b[0m\u001b[0m\n\u001b[0m\u001b[0;32m      2\u001b[0m \u001b[0mp_val\u001b[0m\u001b[1;33m\u001b[0m\u001b[1;33m\u001b[0m\u001b[0m\n",
      "\u001b[1;31mNameError\u001b[0m: name 'repetitions' is not defined"
     ]
    }
   ],
   "source": [
    "p_val = sum( murder_rate_gain >= obs_murder_rate_gain ) / repetitions\n",
    "p_val"
   ]
  },
  {
   "cell_type": "markdown",
   "metadata": {},
   "source": [
    "When the appropriate testing method is used, we reject the null and find a signficant positive difference between the prestest (1971 murder rates) and the posttest (1973 murder rates). Evidence suggests the death penalty may be a deterant."
   ]
  }
 ],
 "metadata": {
  "kernelspec": {
   "display_name": "Python 3",
   "language": "python",
   "name": "python3"
  },
  "language_info": {
   "codemirror_mode": {
    "name": "ipython",
    "version": 3
   },
   "file_extension": ".py",
   "mimetype": "text/x-python",
   "name": "python",
   "nbconvert_exporter": "python",
   "pygments_lexer": "ipython3",
   "version": "3.7.6"
  }
 },
 "nbformat": 4,
 "nbformat_minor": 4
}