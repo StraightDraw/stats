{
 "cells": [
  {
   "cell_type": "markdown",
   "metadata": {},
   "source": [
    "# 23. A/B Testing a Category Variable with 2 Levels"
   ]
  },
  {
   "cell_type": "code",
   "execution_count": 1,
   "metadata": {},
   "outputs": [],
   "source": [
    "from datascience import *\n",
    "import numpy as np\n",
    "\n",
    "%matplotlib inline\n",
    "\n",
    "import matplotlib.pyplot as plots\n",
    "plots.style.use('fivethirtyeight')\n",
    "\n",
    "from scipy import stats"
   ]
  },
  {
   "cell_type": "markdown",
   "metadata": {},
   "source": [
    "We will continue to work with a subset of the `personality` table called `pers`. This time, however, we will focus on a category variable `AccDate` the responses to which are Yes/No based on this question. \"At a time in your life when you are not involved with anyone, someone asks you out. This person has a great personality, but you do not find this person physically attractive. Do you accept the date?\"\n",
    "\n",
    "For the special case of a category variable with only two levels, we can use A/B testing. Since the test statistic is slightly different, the process will be quite similar to but not exactly like typical A/B tests with numeric variables."
   ]
  },
  {
   "cell_type": "code",
   "execution_count": 2,
   "metadata": {},
   "outputs": [
    {
     "data": {
      "text/html": [
       "<table border=\"1\" class=\"dataframe\">\n",
       "    <thead>\n",
       "        <tr>\n",
       "            <th>Sex</th> <th>G21</th> <th>Greek</th> <th>AccDate</th> <th>Stress1</th> <th>Stress2</th> <th>Perf</th> <th>Narc</th>\n",
       "        </tr>\n",
       "    </thead>\n",
       "    <tbody>\n",
       "        <tr>\n",
       "            <td>F   </td> <td>N   </td> <td>N    </td> <td>N      </td> <td>9      </td> <td>7      </td> <td>99  </td> <td>3   </td>\n",
       "        </tr>\n",
       "        <tr>\n",
       "            <td>F   </td> <td>Y   </td> <td>N    </td> <td>Y      </td> <td>11     </td> <td>13     </td> <td>86  </td> <td>2   </td>\n",
       "        </tr>\n",
       "        <tr>\n",
       "            <td>F   </td> <td>N   </td> <td>Y    </td> <td>N      </td> <td>15     </td> <td>14     </td> <td>118 </td> <td>4   </td>\n",
       "        </tr>\n",
       "        <tr>\n",
       "            <td>F   </td> <td>N   </td> <td>N    </td> <td>Y      </td> <td>16     </td> <td>15     </td> <td>113 </td> <td>2   </td>\n",
       "        </tr>\n",
       "        <tr>\n",
       "            <td>F   </td> <td>Y   </td> <td>N    </td> <td>Y      </td> <td>17     </td> <td>17     </td> <td>107 </td> <td>8   </td>\n",
       "        </tr>\n",
       "    </tbody>\n",
       "</table>\n",
       "<p>... (143 rows omitted)</p>"
      ],
      "text/plain": [
       "<IPython.core.display.HTML object>"
      ]
     },
     "metadata": {},
     "output_type": "display_data"
    }
   ],
   "source": [
    "pers = Table.read_table('http://faculty.ung.edu/rsinn/perfnarc.csv')\n",
    "pers.show(5)"
   ]
  },
  {
   "cell_type": "code",
   "execution_count": 3,
   "metadata": {},
   "outputs": [
    {
     "data": {
      "text/html": [
       "<table border=\"1\" class=\"dataframe\">\n",
       "    <thead>\n",
       "        <tr>\n",
       "            <th>Sex</th> <th>AccDate</th>\n",
       "        </tr>\n",
       "    </thead>\n",
       "    <tbody>\n",
       "        <tr>\n",
       "            <td>F   </td> <td>N      </td>\n",
       "        </tr>\n",
       "        <tr>\n",
       "            <td>F   </td> <td>Y      </td>\n",
       "        </tr>\n",
       "        <tr>\n",
       "            <td>F   </td> <td>N      </td>\n",
       "        </tr>\n",
       "        <tr>\n",
       "            <td>F   </td> <td>Y      </td>\n",
       "        </tr>\n",
       "        <tr>\n",
       "            <td>F   </td> <td>Y      </td>\n",
       "        </tr>\n",
       "        <tr>\n",
       "            <td>F   </td> <td>N      </td>\n",
       "        </tr>\n",
       "        <tr>\n",
       "            <td>F   </td> <td>N      </td>\n",
       "        </tr>\n",
       "        <tr>\n",
       "            <td>F   </td> <td>Y      </td>\n",
       "        </tr>\n",
       "        <tr>\n",
       "            <td>F   </td> <td>Y      </td>\n",
       "        </tr>\n",
       "        <tr>\n",
       "            <td>F   </td> <td>Y      </td>\n",
       "        </tr>\n",
       "    </tbody>\n",
       "</table>\n",
       "<p>... (138 rows omitted)</p>"
      ],
      "text/plain": [
       "Sex  | AccDate\n",
       "F    | N\n",
       "F    | Y\n",
       "F    | N\n",
       "F    | Y\n",
       "F    | Y\n",
       "F    | N\n",
       "F    | N\n",
       "F    | Y\n",
       "F    | Y\n",
       "F    | Y\n",
       "... (138 rows omitted)"
      ]
     },
     "execution_count": 3,
     "metadata": {},
     "output_type": "execute_result"
    }
   ],
   "source": [
    "date = pers.select('Sex','AccDate')\n",
    "date"
   ]
  },
  {
   "cell_type": "markdown",
   "metadata": {},
   "source": [
    "## Does biological sex affect Yes/No response to dating question?\n",
    "\n",
    "A pivot table is the perfect data summary to reflect the difference in responses based on biological sex."
   ]
  },
  {
   "cell_type": "code",
   "execution_count": 4,
   "metadata": {},
   "outputs": [
    {
     "name": "stderr",
     "output_type": "stream",
     "text": [
      "C:\\Users\\robbs\\anaconda3\\envs\\datasci\\lib\\site-packages\\datascience\\tables.py:920: VisibleDeprecationWarning: Creating an ndarray from ragged nested sequences (which is a list-or-tuple of lists-or-tuples-or ndarrays with different lengths or shapes) is deprecated. If you meant to do this, you must specify 'dtype=object' when creating the ndarray.\n",
      "  values = np.array(tuple(values))\n"
     ]
    },
    {
     "data": {
      "text/html": [
       "<table border=\"1\" class=\"dataframe\">\n",
       "    <thead>\n",
       "        <tr>\n",
       "            <th>Sex</th> <th>N</th> <th>Y</th>\n",
       "        </tr>\n",
       "    </thead>\n",
       "    <tbody>\n",
       "        <tr>\n",
       "            <td>F   </td> <td>33  </td> <td>52  </td>\n",
       "        </tr>\n",
       "        <tr>\n",
       "            <td>M   </td> <td>31  </td> <td>32  </td>\n",
       "        </tr>\n",
       "    </tbody>\n",
       "</table>"
      ],
      "text/plain": [
       "Sex  | N    | Y\n",
       "F    | 33   | 52\n",
       "M    | 31   | 32"
      ]
     },
     "execution_count": 4,
     "metadata": {},
     "output_type": "execute_result"
    }
   ],
   "source": [
    "date.pivot('AccDate','Sex')"
   ]
  },
  {
   "cell_type": "markdown",
   "metadata": {},
   "source": [
    "### Steps in the hypothesis test\n",
    "\n",
    "1. **Null hypothesis.** The grouping variable is independent of the response variable.\n",
    "2. **Alternate hypothesis.** The response variable depends upon the grouping variable.\n",
    "3. **Test statistic**. Simulated number of female Yes responses.\n",
    "4. Simulate test statistic distribution with sample of 85 responses drawn without replacement.\n",
    "5. Calculate **$p$-value**, e.g. the probability the null hypothesis is true.\n",
    "6. **Statistical Conclusion.** If $p<0.05$, reject null. Else, fail to reject null.\n",
    "7. **Real world implications.** State the results of hypothesis test in real world terms."
   ]
  },
  {
   "cell_type": "markdown",
   "metadata": {},
   "source": [
    "### Simulating the null hypothesis\n",
    "\n",
    "The null hypothesis is that a person's Yes/No response to the dating question is independent of their biological sex. There are 85 female responses. If sex has no bearing on the response, then repeated random draws of 85 responses should reveal whether 52 Yes responses in that group is typical. \n",
    "\n",
    "As with the `ab_shuffle` function for A/B testing, the draws must be without replacement."
   ]
  },
  {
   "cell_type": "code",
   "execution_count": 5,
   "metadata": {},
   "outputs": [
    {
     "data": {
      "text/html": [
       "<table border=\"1\" class=\"dataframe\">\n",
       "    <thead>\n",
       "        <tr>\n",
       "            <th>Sex</th> <th>AccDate</th>\n",
       "        </tr>\n",
       "    </thead>\n",
       "    <tbody>\n",
       "        <tr>\n",
       "            <td>F   </td> <td>Y      </td>\n",
       "        </tr>\n",
       "        <tr>\n",
       "            <td>M   </td> <td>N      </td>\n",
       "        </tr>\n",
       "        <tr>\n",
       "            <td>F   </td> <td>N      </td>\n",
       "        </tr>\n",
       "        <tr>\n",
       "            <td>M   </td> <td>Y      </td>\n",
       "        </tr>\n",
       "        <tr>\n",
       "            <td>F   </td> <td>N      </td>\n",
       "        </tr>\n",
       "        <tr>\n",
       "            <td>M   </td> <td>N      </td>\n",
       "        </tr>\n",
       "        <tr>\n",
       "            <td>M   </td> <td>Y      </td>\n",
       "        </tr>\n",
       "        <tr>\n",
       "            <td>F   </td> <td>N      </td>\n",
       "        </tr>\n",
       "        <tr>\n",
       "            <td>F   </td> <td>Y      </td>\n",
       "        </tr>\n",
       "        <tr>\n",
       "            <td>M   </td> <td>N      </td>\n",
       "        </tr>\n",
       "    </tbody>\n",
       "</table>\n",
       "<p>... (75 rows omitted)</p>"
      ],
      "text/plain": [
       "Sex  | AccDate\n",
       "F    | Y\n",
       "M    | N\n",
       "F    | N\n",
       "M    | Y\n",
       "F    | N\n",
       "M    | N\n",
       "M    | Y\n",
       "F    | N\n",
       "F    | Y\n",
       "M    | N\n",
       "... (75 rows omitted)"
      ]
     },
     "execution_count": 5,
     "metadata": {},
     "output_type": "execute_result"
    }
   ],
   "source": [
    "date.sample(85, with_replacement = False)"
   ]
  },
  {
   "cell_type": "markdown",
   "metadata": {},
   "source": [
    "Our plan is to draw 85 random responses (without replacement) and record the number of Yes responses ignoring biological sex."
   ]
  },
  {
   "cell_type": "code",
   "execution_count": 6,
   "metadata": {},
   "outputs": [
    {
     "data": {
      "text/plain": [
       "array(['Y', 'Y', 'N', 'N', 'N', 'Y', 'N', 'Y', 'N', 'Y', 'N', 'Y', 'N',\n",
       "       'Y', 'N', 'N', 'Y', 'Y', 'N', 'Y', 'Y', 'Y', 'Y', 'N', 'N', 'Y',\n",
       "       'Y', 'Y', 'N', 'N', 'Y', 'Y', 'Y', 'N', 'N', 'N', 'Y', 'Y', 'N',\n",
       "       'Y', 'N', 'N', 'N', 'Y', 'N', 'N', 'N', 'Y', 'Y', 'Y', 'N', 'Y',\n",
       "       'Y', 'Y', 'Y', 'Y', 'Y', 'Y', 'N', 'Y', 'N', 'Y', 'N', 'N', 'Y',\n",
       "       'Y', 'Y', 'Y', 'N', 'Y', 'Y', 'Y', 'N', 'N', 'N', 'Y', 'N', 'Y',\n",
       "       'Y', 'Y', 'N', 'N', 'Y', 'N', 'Y'], dtype='<U1')"
      ]
     },
     "execution_count": 6,
     "metadata": {},
     "output_type": "execute_result"
    }
   ],
   "source": [
    "new_samp = date.sample(85, with_replacement = False).column(1)\n",
    "new_samp"
   ]
  },
  {
   "cell_type": "code",
   "execution_count": 7,
   "metadata": {},
   "outputs": [
    {
     "data": {
      "text/plain": [
       "48"
      ]
     },
     "execution_count": 7,
     "metadata": {},
     "output_type": "execute_result"
    }
   ],
   "source": [
    "sum(new_samp == 'Y')"
   ]
  },
  {
   "cell_type": "markdown",
   "metadata": {},
   "source": [
    "We now recalculate the statistic a few thousand times with our standard `for` loop setup.`m"
   ]
  },
  {
   "cell_type": "code",
   "execution_count": 8,
   "metadata": {},
   "outputs": [],
   "source": [
    "yes_count = make_array()\n",
    "\n",
    "# Set reps to 2,000 or less especially if working the cloud\n",
    "reps = 50000\n",
    "\n",
    "for i in range(reps):\n",
    "    new_samp = date.sample(85, with_replacement = False).column(1)\n",
    "    new_count = sum(new_samp == 'Y')\n",
    "    yes_count = np.append(yes_count,new_count)\n",
    "\n",
    "# Remove hashtag comment below to see the results array\n",
    "# yes_count"
   ]
  },
  {
   "cell_type": "markdown",
   "metadata": {},
   "source": [
    "### Results\n",
    "\n",
    "We can use the `ab_hist` function to display a histogram of the simulated distribution for the statistic and compare 52, the observed number of Yes responses, to it."
   ]
  },
  {
   "cell_type": "code",
   "execution_count": 9,
   "metadata": {},
   "outputs": [],
   "source": [
    "def ab_hist(myArray, observed_value):\n",
    "    tab = Table().with_column('A/B Differencs',myArray)\n",
    "    tab.hist(0)\n",
    "    _ = plots.plot([observed_value, observed_value], [0, 0.1], color='red', lw=2)"
   ]
  },
  {
   "cell_type": "code",
   "execution_count": 10,
   "metadata": {},
   "outputs": [
    {
     "data": {
      "image/png": "[encoded data removed]",
      "text/plain": [
       "<Figure size 432x288 with 1 Axes>"
      ]
     },
     "metadata": {
      "filenames": {
       "image/png": "C:\\Users\\robbs\\Documents\\Conda\\GitBook\\stats\\_build\\jupyter_execute\\tests\\3_17_0.png"
      }
     },
     "output_type": "display_data"
    }
   ],
   "source": [
    "ab_hist(yes_count,52)"
   ]
  },
  {
   "cell_type": "code",
   "execution_count": 11,
   "metadata": {},
   "outputs": [
    {
     "data": {
      "text/plain": [
       "0.13992"
      ]
     },
     "execution_count": 11,
     "metadata": {},
     "output_type": "execute_result"
    }
   ],
   "source": [
    "p_value = sum( yes_count >= 52) / reps\n",
    "p_value"
   ]
  },
  {
   "cell_type": "markdown",
   "metadata": {},
   "source": [
    "Because the $p$-value is greater than 0.05, we fail to reject the null hypothesis. We have no evidence that Yes/No responses to the dating question depend on biological sex."
   ]
  },
  {
   "cell_type": "markdown",
   "metadata": {},
   "source": [
    "## Dolphin study example\n",
    "\n",
    "A group of 30 patients experiencing chronic depression were invited to a Caribean island to take part in therapy. The researchers randomly split the group in two. Half of them received clinical treatment for their depression only (along with a huge dose of beach therapy, one presumes). The other half received the same clinical treatment (and beach therapy) plus they went swimming with dolphins."
   ]
  },
  {
   "cell_type": "code",
   "execution_count": 12,
   "metadata": {},
   "outputs": [
    {
     "data": {
      "text/html": [
       "<table border=\"1\" class=\"dataframe\">\n",
       "    <thead>\n",
       "        <tr>\n",
       "            <th>Treatment</th> <th>Result</th>\n",
       "        </tr>\n",
       "    </thead>\n",
       "    <tbody>\n",
       "        <tr>\n",
       "            <td>Dolphins </td> <td>Improved</td>\n",
       "        </tr>\n",
       "        <tr>\n",
       "            <td>Dolphins </td> <td>Improved</td>\n",
       "        </tr>\n",
       "        <tr>\n",
       "            <td>Dolphins </td> <td>Improved</td>\n",
       "        </tr>\n",
       "        <tr>\n",
       "            <td>Dolphins </td> <td>Improved</td>\n",
       "        </tr>\n",
       "        <tr>\n",
       "            <td>Dolphins </td> <td>Improved</td>\n",
       "        </tr>\n",
       "        <tr>\n",
       "            <td>Dolphins </td> <td>Improved</td>\n",
       "        </tr>\n",
       "        <tr>\n",
       "            <td>Dolphins </td> <td>Improved</td>\n",
       "        </tr>\n",
       "        <tr>\n",
       "            <td>Dolphins </td> <td>Improved</td>\n",
       "        </tr>\n",
       "        <tr>\n",
       "            <td>Dolphins </td> <td>Improved</td>\n",
       "        </tr>\n",
       "        <tr>\n",
       "            <td>Dolphins </td> <td>Improved</td>\n",
       "        </tr>\n",
       "    </tbody>\n",
       "</table>\n",
       "<p>... (20 rows omitted)</p>"
      ],
      "text/plain": [
       "Treatment | Result\n",
       "Dolphins  | Improved\n",
       "Dolphins  | Improved\n",
       "Dolphins  | Improved\n",
       "Dolphins  | Improved\n",
       "Dolphins  | Improved\n",
       "Dolphins  | Improved\n",
       "Dolphins  | Improved\n",
       "Dolphins  | Improved\n",
       "Dolphins  | Improved\n",
       "Dolphins  | Improved\n",
       "... (20 rows omitted)"
      ]
     },
     "execution_count": 12,
     "metadata": {},
     "output_type": "execute_result"
    }
   ],
   "source": [
    "dolphin = Table.read_table('http://faculty.ung.edu/rsinn/dolphin.csv')\n",
    "dolphin"
   ]
  },
  {
   "cell_type": "code",
   "execution_count": 13,
   "metadata": {},
   "outputs": [
    {
     "data": {
      "text/html": [
       "<table border=\"1\" class=\"dataframe\">\n",
       "    <thead>\n",
       "        <tr>\n",
       "            <th>Treatment</th> <th>Did Not</th> <th>Improved</th>\n",
       "        </tr>\n",
       "    </thead>\n",
       "    <tbody>\n",
       "        <tr>\n",
       "            <td>Control  </td> <td>12     </td> <td>3       </td>\n",
       "        </tr>\n",
       "        <tr>\n",
       "            <td>Dolphins </td> <td>5      </td> <td>10      </td>\n",
       "        </tr>\n",
       "    </tbody>\n",
       "</table>"
      ],
      "text/plain": [
       "Treatment | Did Not | Improved\n",
       "Control   | 12      | 3\n",
       "Dolphins  | 5       | 10"
      ]
     },
     "execution_count": 13,
     "metadata": {},
     "output_type": "execute_result"
    }
   ],
   "source": [
    "dolphin.pivot('Result','Treatment')"
   ]
  },
  {
   "cell_type": "markdown",
   "metadata": {},
   "source": [
    "````{margin}\n",
    "```{seealso}\n",
    "The Rossman-Chance [Dolphin Applet](http://www.rossmanchance.com/applets/ChiSqShuffle.html?dolphins=1) provides a dynamic simulation with visualization. On left, set \"Statistic\" to \"Cell 1 Count\", check \"Show Shuffle Options\" and run up to 100,000 shuffles per click. Set \"Count Samples\" to \"greater than or equal 10\" to match our work in this example.\n",
    "```\n",
    "````\n",
    "\n",
    "The researchers want to know whether there is enough evidence to show that the dolphin therapy is significantly better than the clinical and beach therapy option. What null hypothesis will test their claim?\n",
    "\n",
    "$$H_0: \\text{Results are independent of treatment}$$\n",
    "\n",
    "How could we test it? We can randomly assign the outcomes of Improved or Did Not to a simulated dolphin group. We then check to see how often 10 or more successes land in the randomized dolphin group. The `sample` method creates a table, so we finish with a `column` to produce the output as an array."
   ]
  },
  {
   "cell_type": "code",
   "execution_count": 14,
   "metadata": {},
   "outputs": [
    {
     "data": {
      "text/plain": [
       "array(['Did Not', 'Did Not', 'Did Not', 'Did Not', 'Did Not', 'Did Not',\n",
       "       'Improved', 'Improved', 'Improved', 'Improved', 'Did Not',\n",
       "       'Improved', 'Improved', 'Improved', 'Improved'], dtype='<U8')"
      ]
     },
     "execution_count": 14,
     "metadata": {},
     "output_type": "execute_result"
    }
   ],
   "source": [
    "dolphin.sample(15, with_replacement = False).column(1)"
   ]
  },
  {
   "cell_type": "markdown",
   "metadata": {},
   "source": [
    "The following code block selects the simulated dolphin group and counts the number of participants in it who \"Improved.\""
   ]
  },
  {
   "cell_type": "code",
   "execution_count": 15,
   "metadata": {},
   "outputs": [
    {
     "data": {
      "text/plain": [
       "6"
      ]
     },
     "execution_count": 15,
     "metadata": {},
     "output_type": "execute_result"
    }
   ],
   "source": [
    "sum( dolphin.sample(15, with_replacement = False).column(1) == 'Improved' )"
   ]
  },
  {
   "cell_type": "code",
   "execution_count": 16,
   "metadata": {},
   "outputs": [],
   "source": [
    "improved_count = make_array()\n",
    "\n",
    "# Set reps to 2,000 or less especially if working the cloud\n",
    "reps = 25000\n",
    "\n",
    "for i in range(reps):\n",
    "    new_samp = dolphin.sample(15, with_replacement = False).column(1)\n",
    "    new_count = sum(new_samp == 'Improved')\n",
    "    improved_count = np.append(improved_count,new_count)\n",
    "\n",
    "# Remove hashtag comment below to see the results array\n",
    "# improved_count"
   ]
  },
  {
   "cell_type": "code",
   "execution_count": 17,
   "metadata": {},
   "outputs": [
    {
     "data": {
      "image/png": "[encoded data removed]",
      "text/plain": [
       "<Figure size 432x288 with 1 Axes>"
      ]
     },
     "metadata": {
      "filenames": {
       "image/png": "C:\\Users\\robbs\\Documents\\Conda\\GitBook\\stats\\_build\\jupyter_execute\\tests\\3_28_0.png"
      }
     },
     "output_type": "display_data"
    }
   ],
   "source": [
    "ab_hist(improved_count,10)"
   ]
  },
  {
   "cell_type": "code",
   "execution_count": 18,
   "metadata": {},
   "outputs": [
    {
     "data": {
      "text/plain": [
       "0.01304"
      ]
     },
     "execution_count": 18,
     "metadata": {},
     "output_type": "execute_result"
    }
   ],
   "source": [
    "p_val = sum (improved_count >= 10) / reps\n",
    "p_val"
   ]
  },
  {
   "cell_type": "markdown",
   "metadata": {},
   "source": [
    "The $p$-value is less than 0.05 which indicates the null hypothesis is unlikely to be true. Thus, we conclude the dolphin therapy appears to be beneficial to these patients, since a random distribution of the 'Improved' results would be unlikely to produce the observed pattern in the data."
   ]
  }
 ],
 "metadata": {
  "kernelspec": {
   "display_name": "Python 3",
   "language": "python",
   "name": "python3"
  },
  "language_info": {
   "codemirror_mode": {
    "name": "ipython",
    "version": 3
   },
   "file_extension": ".py",
   "mimetype": "text/x-python",
   "name": "python",
   "nbconvert_exporter": "python",
   "pygments_lexer": "ipython3",
   "version": "3.7.6"
  }
 },
 "nbformat": 4,
 "nbformat_minor": 4
}