{
 "cells": [
  {
   "cell_type": "code",
   "execution_count": 1,
   "metadata": {},
   "outputs": [],
   "source": [
    "from datascience import *\n",
    "import numpy as np\n",
    "\n",
    "%matplotlib inline\n",
    "\n",
    "import matplotlib.pyplot as plots\n",
    "plots.style.use('fivethirtyeight')\n",
    "\n",
    "from scipy import stats"
   ]
  },
  {
   "cell_type": "markdown",
   "metadata": {},
   "source": [
    "## Bootstrap Confidence Intervals ##\n",
    "\n",
    "Steps:\n",
    "\n",
    "||Step|Example|\n",
    "|---:|:---|:---\n",
    "1.|Ask Question |What is the weight of babies born to smoking mothers?|\n",
    "2.|Get sample data|Get weights of 100 babies born to smokers|\n",
    "3.|Choose a statistic|Mean baby weight |\n",
    "4.|Calculate the statistic of the original sample|The mean weight of the 100 babies is 114 oz.\n",
    "5.|Bootstrap the sample and calculate the statistic on the bootstrap sample|The mean weight of the 100 babies in bootstrap sample 1 is 115.3 oz.\n",
    "6.|Repeat over many bootstrap samples and record the results|\n",
    "7.|Plot the distrubution and observe the uncertainty inherent from samples of a given size|\n",
    "8.|Find the 2.5 and 97.5 percentiles of the statistic over all of the bootstrap samples to compute a 95% confidence interval for the population parameter.\n",
    "\n"
   ]
  },
  {
   "cell_type": "markdown",
   "metadata": {},
   "source": [
    "## Put useful functions in the cell below"
   ]
  },
  {
   "cell_type": "code",
   "execution_count": 2,
   "metadata": {},
   "outputs": [],
   "source": [
    "def sample_stat_without_replacement(table,samp_size):\n",
    "    our_sample = table.sample(samp_size, with_replacement=False)\n",
    "    if test_stat == 1:\n",
    "        return np.mean(our_sample.column(0))\n",
    "    else:\n",
    "        return np.median(our_sample.column(0))\n",
    "\n",
    "def sample_stat_with_replacement(sample):\n",
    "    single_sample = sample.sample(with_replacement = True)\n",
    "    if test_stat == 1:\n",
    "        return np.mean(single_sample.column(0))\n",
    "    else:\n",
    "        return np.median(single_sample.column(0))\n",
    "    "
   ]
  },
  {
   "cell_type": "markdown",
   "metadata": {},
   "source": [
    "### Step 1. Ask Question\n",
    "\n",
    "What is the median weight of babies born to smokers?"
   ]
  },
  {
   "cell_type": "markdown",
   "metadata": {},
   "source": [
    "### Step 2. Get Sample Data\n",
    "\n",
    "Read in the Data.  The data might be population data or sample data. Be aware of the diiference. If the data is population data, you will need to create a sample from the population data."
   ]
  },
  {
   "cell_type": "code",
   "execution_count": 3,
   "metadata": {},
   "outputs": [
    {
     "data": {
      "text/html": [
       "<table border=\"1\" class=\"dataframe\">\n",
       "    <thead>\n",
       "        <tr>\n",
       "            <th>Birth Weight</th> <th>Gestational Days</th> <th>Maternal Age</th> <th>Maternal Height</th> <th>Maternal Pregnancy Weight</th> <th>Maternal Smoker</th>\n",
       "        </tr>\n",
       "    </thead>\n",
       "    <tbody>\n",
       "        <tr>\n",
       "            <td>120         </td> <td>284             </td> <td>27          </td> <td>62             </td> <td>100                      </td> <td>False          </td>\n",
       "        </tr>\n",
       "        <tr>\n",
       "            <td>113         </td> <td>282             </td> <td>33          </td> <td>64             </td> <td>135                      </td> <td>False          </td>\n",
       "        </tr>\n",
       "        <tr>\n",
       "            <td>128         </td> <td>279             </td> <td>28          </td> <td>64             </td> <td>115                      </td> <td>True           </td>\n",
       "        </tr>\n",
       "        <tr>\n",
       "            <td>108         </td> <td>282             </td> <td>23          </td> <td>67             </td> <td>125                      </td> <td>True           </td>\n",
       "        </tr>\n",
       "        <tr>\n",
       "            <td>136         </td> <td>286             </td> <td>25          </td> <td>62             </td> <td>93                       </td> <td>False          </td>\n",
       "        </tr>\n",
       "    </tbody>\n",
       "</table>\n",
       "<p>... (1169 rows omitted)</p>"
      ],
      "text/plain": [
       "<IPython.core.display.HTML object>"
      ]
     },
     "metadata": {},
     "output_type": "display_data"
    }
   ],
   "source": [
    "# This is population data\n",
    "births = Table.read_table('http://faculty.ung.edu/rsinn/baby.csv')\n",
    "births.show(5)"
   ]
  },
  {
   "cell_type": "markdown",
   "metadata": {},
   "source": [
    "### Select the data of interest\n",
    "\n",
    "Select the babies born to smokers"
   ]
  },
  {
   "cell_type": "code",
   "execution_count": 4,
   "metadata": {},
   "outputs": [],
   "source": [
    "pop_data = births.where('Maternal Smoker',True).select('Birth Weight')"
   ]
  },
  {
   "cell_type": "code",
   "execution_count": 5,
   "metadata": {},
   "outputs": [
    {
     "data": {
      "text/html": [
       "<table border=\"1\" class=\"dataframe\">\n",
       "    <thead>\n",
       "        <tr>\n",
       "            <th>Birth Weight</th>\n",
       "        </tr>\n",
       "    </thead>\n",
       "    <tbody>\n",
       "        <tr>\n",
       "            <td>128         </td>\n",
       "        </tr>\n",
       "        <tr>\n",
       "            <td>108         </td>\n",
       "        </tr>\n",
       "        <tr>\n",
       "            <td>143         </td>\n",
       "        </tr>\n",
       "    </tbody>\n",
       "</table>\n",
       "<p>... (456 rows omitted)</p>"
      ],
      "text/plain": [
       "<IPython.core.display.HTML object>"
      ]
     },
     "metadata": {},
     "output_type": "display_data"
    }
   ],
   "source": [
    "pop_data.show(3)"
   ]
  },
  {
   "cell_type": "code",
   "execution_count": 6,
   "metadata": {},
   "outputs": [
    {
     "name": "stdout",
     "output_type": "stream",
     "text": [
      "The mean of the population data is 113.81917211328977\n",
      "The median of the population data is 115.0\n"
     ]
    }
   ],
   "source": [
    "pop_mean = np.mean(pop_data.column(0))\n",
    "print('The mean of the population data is', pop_mean )\n",
    "pop_median = np.median(pop_data.column(0))\n",
    "print('The median of the population data is', pop_median )"
   ]
  },
  {
   "cell_type": "markdown",
   "metadata": {},
   "source": [
    "### Choose a test statistic\n",
    "\n",
    "### set test_stat = 1 for mean, 0 for median"
   ]
  },
  {
   "cell_type": "code",
   "execution_count": 7,
   "metadata": {},
   "outputs": [],
   "source": [
    "test_stat = 1\n",
    "# test_stat = 0\n",
    "\n"
   ]
  },
  {
   "cell_type": "markdown",
   "metadata": {},
   "source": [
    "#### Get a sample if  the data above is population data.\n",
    "Choose a sample size and sample WITHOUT replacement."
   ]
  },
  {
   "cell_type": "code",
   "execution_count": 8,
   "metadata": {},
   "outputs": [
    {
     "name": "stdout",
     "output_type": "stream",
     "text": [
      "The mean of the sample data is 113.24\n",
      "The median of the sample data is 114.5\n"
     ]
    }
   ],
   "source": [
    "sample_size = 200\n",
    "\n",
    "\n",
    "original_sample = pop_data.sample(sample_size, with_replacement=False)\n",
    "original_sample_mean = np.mean(original_sample.column(0))\n",
    "original_sample_median = np.median(original_sample.column(0))\n",
    "\n",
    "print('The mean of the sample data is', original_sample_mean )\n",
    "pop_median = np.median(pop_data.column(0))\n",
    "print('The median of the sample data is', original_sample_median)\n",
    "\n",
    "if test_stat == 1:\n",
    "    sample_stat = original_sample_mean\n",
    "    stat_label = 'Means'\n",
    "else:\n",
    "    sample_stat = original_sample_median\n",
    "    stat_label = 'Medians'\n",
    "        \n"
   ]
  },
  {
   "cell_type": "markdown",
   "metadata": {},
   "source": [
    "### This sample is ALL you know about the population. What can you infer about the population from this sample?"
   ]
  },
  {
   "cell_type": "code",
   "execution_count": 9,
   "metadata": {},
   "outputs": [
    {
     "data": {
      "image/png": "[encoded data removed]",
      "text/plain": [
       "<Figure size 432x288 with 1 Axes>"
      ]
     },
     "metadata": {
      "filenames": {
       "image/png": "C:\\Users\\robbs\\Documents\\Conda\\GitBook\\stats\\_build\\jupyter_execute\\tests\\4_16_0.png"
      }
     },
     "output_type": "display_data"
    }
   ],
   "source": [
    "hist_bins = np.arange(40, 200, 10)\n",
    "original_sample.hist(bins=hist_bins)\n",
    "plots.title('Sample Distribution of ' + stat_label);"
   ]
  },
  {
   "cell_type": "markdown",
   "metadata": {},
   "source": [
    "### Variability of the Estimate / Quantifying Uncertainty\n",
    "\n",
    "#### Since all samples of the population are likely to be different, there is inherent uncertainty in what we can infer from a single sample of the population."
   ]
  },
  {
   "cell_type": "markdown",
   "metadata": {},
   "source": [
    "### Bootstrap\n",
    "\n",
    "#### Assuming that the sample is \" large enough\" , and that it is representative of the population, you can generate \"bootstrapped\" samples by resampling the original sample, WITH replacement. \n",
    "\n",
    "These new samples can be use to determine the uncertainty that results fom using a sample of a given size to infer something about a population parameter."
   ]
  },
  {
   "cell_type": "code",
   "execution_count": 10,
   "metadata": {},
   "outputs": [
    {
     "name": "stdout",
     "output_type": "stream",
     "text": [
      "Our Sample Statistic =        113.24\n"
     ]
    },
    {
     "data": {
      "image/png": "[encoded data removed]",
      "text/plain": [
       "<Figure size 432x288 with 1 Axes>"
      ]
     },
     "metadata": {
      "filenames": {
       "image/png": "C:\\Users\\robbs\\Documents\\Conda\\GitBook\\stats\\_build\\jupyter_execute\\tests\\4_19_1.png"
      }
     },
     "output_type": "display_data"
    }
   ],
   "source": [
    "# Take a bootstrap (re)sample of size sample_size, WITH replacement\n",
    "boot_sample = original_sample.sample(sample_size, with_replacement=True)\n",
    "boot_sample.hist(bins = hist_bins)\n",
    "plots.title('Distribution of a Single Bootstrapped Sample' );\n",
    "\n",
    "# print(\"Population Median =       \", pop_median)\n",
    "print(\"Our Sample Statistic =       \", sample_stat)"
   ]
  },
  {
   "cell_type": "code",
   "execution_count": 11,
   "metadata": {},
   "outputs": [],
   "source": [
    "bootstrap_stats = make_array()\n",
    "\n",
    "for i in np.arange(10000):\n",
    "    new_stat = sample_stat_with_replacement(original_sample)\n",
    "    bootstrap_stats = np.append(bootstrap_stats, new_stat)\n"
   ]
  },
  {
   "cell_type": "markdown",
   "metadata": {},
   "source": [
    "## Confidence Intervals"
   ]
  },
  {
   "cell_type": "code",
   "execution_count": 12,
   "metadata": {},
   "outputs": [
    {
     "name": "stdout",
     "output_type": "stream",
     "text": [
      "The estimate of the population statistic is between  110.685  and  115.77\n",
      "This was estimated using a sample of size  200 and a confidence level of 95  %\n"
     ]
    },
    {
     "data": {
      "image/png": "[encoded data removed]",
      "text/plain": [
       "<Figure size 432x288 with 1 Axes>"
      ]
     },
     "metadata": {
      "filenames": {
       "image/png": "C:\\Users\\robbs\\Documents\\Conda\\GitBook\\stats\\_build\\jupyter_execute\\tests\\4_22_1.png"
      }
     },
     "output_type": "display_data"
    }
   ],
   "source": [
    "# Make an interval based on the middle 95% of bootstrap samples\n",
    "confidence_level = 95\n",
    "\n",
    "left = percentile((100 - confidence_level)/2, bootstrap_stats)\n",
    "right = percentile(50 + confidence_level/2 , bootstrap_stats)\n",
    "\n",
    "print('The estimate of the population statistic is between ', left,' and ', right)\n",
    "print('This was estimated using a sample of size ', sample_size, 'and a confidence level of', confidence_level,' %')\n",
    "\n",
    "# print(left)\n",
    "# print(right)\n",
    "\n",
    "start = round(min(bootstrap_stats))\n",
    "stop = round(max(bootstrap_stats))\n",
    "stat_bins = np.arange(start,stop,1)\n",
    "\n",
    "Table().with_column(\n",
    "    'Bootstrap ' + stat_label, bootstrap_stats\n",
    ").hist('Bootstrap ' + stat_label, bins=stat_bins)\n",
    "\n",
    "\n",
    "plots.plot([left, right], [0,0], color=\"gold\",lw=10, zorder=1);\n",
    "plots.scatter(sample_stat, 0, color=\"red\", s = 200,zorder=2);\n",
    "plots.scatter(pop_median, 0, color=\"blue\", s = 100,zorder=2);"
   ]
  },
  {
   "cell_type": "markdown",
   "metadata": {},
   "source": [
    "### Repeat the process 50 times\n",
    "\n",
    "The average width of all 50 confidence intervals is returned. This might be useful for investigating how the width of the confidence interval depends on sample size, especially for test statistics such as the median, which do not play nicely with the central limit theorem."
   ]
  },
  {
   "cell_type": "code",
   "execution_count": 13,
   "metadata": {},
   "outputs": [],
   "source": [
    "# width = make_array()\n",
    "\n",
    "# for j in np.arange(50):\n",
    "    \n",
    "#     bootstrap_medians = make_array()\n",
    "#     for i in np.arange(1000):\n",
    "        \n",
    "#         new_median = one_bootstrap_median(mySample, myLabel)\n",
    "#         bootstrap_medians = np.append(bootstrap_medians, new_median)\n",
    "        \n",
    "#     left = percentile(2.5, bootstrap_medians)\n",
    "#     right = percentile(97.5, bootstrap_medians)    \n",
    "#     width = np.append(width, right - left)\n",
    "    \n",
    "# print(' The mean width of the 95% confidence intervals for samples of size ', \n",
    "#       sample_size, ' is ',np.mean(width))\n",
    "    "
   ]
  }
 ],
 "metadata": {
  "anaconda-cloud": {},
  "kernelspec": {
   "display_name": "Python 3",
   "language": "python",
   "name": "python3"
  },
  "language_info": {
   "codemirror_mode": {
    "name": "ipython",
    "version": 3
   },
   "file_extension": ".py",
   "mimetype": "text/x-python",
   "name": "python",
   "nbconvert_exporter": "python",
   "pygments_lexer": "ipython3",
   "version": "3.7.6"
  }
 },
 "nbformat": 4,
 "nbformat_minor": 4
}