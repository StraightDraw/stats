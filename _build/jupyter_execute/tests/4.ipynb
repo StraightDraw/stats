{
 "cells": [
  {
   "cell_type": "markdown",
   "metadata": {},
   "source": [
    "# 24. Bootstrapping Tools"
   ]
  },
  {
   "cell_type": "code",
   "execution_count": 1,
   "metadata": {},
   "outputs": [],
   "source": [
    "from datascience import *\n",
    "import numpy as np\n",
    "\n",
    "%matplotlib inline\n",
    "\n",
    "import matplotlib.pyplot as plots\n",
    "plots.style.use('fivethirtyeight')\n",
    "\n",
    "from scipy import stats"
   ]
  },
  {
   "cell_type": "markdown",
   "metadata": {},
   "source": [
    "## Bootstrap Confidence Intervals\n",
    "\n",
    "### Steps in bootstrapping\n",
    "\n",
    "||Step|Example|\n",
    "|---:|:---|:---\n",
    "1.|Ask Question |What is the weight of babies born to smoking mothers?|\n",
    "2.|Get sample data|Get weights of 100 babies born to smokers|\n",
    "3.|Choose a statistic|Mean baby weight |\n",
    "4.|If population data available, calculate the statistic of the original sample|The mean weight of the 100 babies is 114 oz.\n",
    "5.|Bootstrap the sample and calculate the statistic on the bootstrap sample|The mean weight of the 100 babies in bootstrap sample 1 is 115.3 oz.\n",
    "6.|Repeat over many bootstrapped samples and record the results| Usually 1k samples is more than enough.\n",
    "7.|Plot the distrubution and observe the uncertainty inherent from samples of a given size|\n",
    "8.|Find the 2.5 and 97.5 percentiles of the statistic over all of the bootstrap samples to compute a 95% confidence interval for the population parameter.\n",
    "\n"
   ]
  },
  {
   "cell_type": "markdown",
   "metadata": {},
   "source": [
    "## Creating `boot_one` function to generate a single bootstrap sample\n",
    "\n",
    "The function below will resample from the first column of a table. Ensure your data table has a numeric variables in its first column."
   ]
  },
  {
   "cell_type": "code",
   "execution_count": 2,
   "metadata": {},
   "outputs": [],
   "source": [
    "def boot_one(table, samp_size):\n",
    "    resample = table.sample(samp_size)\n",
    "    return np.average(resample.column(0))"
   ]
  },
  {
   "cell_type": "markdown",
   "metadata": {},
   "source": [
    "Let's see how it works by loading sample data. Let's resample the 'Perfectionism' variable."
   ]
  },
  {
   "cell_type": "code",
   "execution_count": 3,
   "metadata": {},
   "outputs": [
    {
     "data": {
      "text/html": [
       "<table border=\"1\" class=\"dataframe\">\n",
       "    <thead>\n",
       "        <tr>\n",
       "            <th>Sex</th> <th>G21</th> <th>Greek</th> <th>AccDate</th> <th>Stress1</th> <th>Stress2</th> <th>Perf</th> <th>Narc</th>\n",
       "        </tr>\n",
       "    </thead>\n",
       "    <tbody>\n",
       "        <tr>\n",
       "            <td>F   </td> <td>N   </td> <td>N    </td> <td>N      </td> <td>9      </td> <td>7      </td> <td>99  </td> <td>3   </td>\n",
       "        </tr>\n",
       "        <tr>\n",
       "            <td>F   </td> <td>Y   </td> <td>N    </td> <td>Y      </td> <td>11     </td> <td>13     </td> <td>86  </td> <td>2   </td>\n",
       "        </tr>\n",
       "        <tr>\n",
       "            <td>F   </td> <td>N   </td> <td>Y    </td> <td>N      </td> <td>15     </td> <td>14     </td> <td>118 </td> <td>4   </td>\n",
       "        </tr>\n",
       "        <tr>\n",
       "            <td>F   </td> <td>N   </td> <td>N    </td> <td>Y      </td> <td>16     </td> <td>15     </td> <td>113 </td> <td>2   </td>\n",
       "        </tr>\n",
       "        <tr>\n",
       "            <td>F   </td> <td>Y   </td> <td>N    </td> <td>Y      </td> <td>17     </td> <td>17     </td> <td>107 </td> <td>8   </td>\n",
       "        </tr>\n",
       "    </tbody>\n",
       "</table>\n",
       "<p>... (143 rows omitted)</p>"
      ],
      "text/plain": [
       "<IPython.core.display.HTML object>"
      ]
     },
     "metadata": {},
     "output_type": "display_data"
    }
   ],
   "source": [
    "pers = Table.read_table('http://faculty.ung.edu/rsinn/perfnarc.csv')\n",
    "pers.show(5)"
   ]
  },
  {
   "cell_type": "markdown",
   "metadata": {},
   "source": [
    "We will feed the function a one-column table with the perfectionism scores. The function will resample (n = 25) and return the mean of that sample. Re-execute the code block several times to see what typical values in the distribution look like."
   ]
  },
  {
   "cell_type": "code",
   "execution_count": 4,
   "metadata": {},
   "outputs": [
    {
     "data": {
      "text/plain": [
       "102.6"
      ]
     },
     "execution_count": 4,
     "metadata": {},
     "output_type": "execute_result"
    }
   ],
   "source": [
    "boot_one(pers.select('Perf'),25)"
   ]
  },
  {
   "cell_type": "markdown",
   "metadata": {},
   "source": [
    "### Step 1. Ask Question\n",
    "\n",
    "What is the mean weight of babies born to smokers?\n",
    "\n",
    "````{margin}\n",
    "```{tip}\n",
    "We can estimate parameters other than the mean. In fact, bootstrapping is more flexible than traditional methods estimating parameters like the median or the first quartile.\n",
    "```\n",
    "````"
   ]
  },
  {
   "cell_type": "markdown",
   "metadata": {},
   "source": [
    "### Step 2. Get Sample Data\n",
    "\n",
    "Read in the Data.  The data might be population data or sample data. Be aware of the diiference. If the data is population data, you will need to first create a sample from the population data, then resample it."
   ]
  },
  {
   "cell_type": "code",
   "execution_count": 5,
   "metadata": {},
   "outputs": [
    {
     "data": {
      "text/html": [
       "<table border=\"1\" class=\"dataframe\">\n",
       "    <thead>\n",
       "        <tr>\n",
       "            <th>Birth Weight</th> <th>Gestational Days</th> <th>Maternal Age</th> <th>Maternal Height</th> <th>Maternal Pregnancy Weight</th> <th>Maternal Smoker</th>\n",
       "        </tr>\n",
       "    </thead>\n",
       "    <tbody>\n",
       "        <tr>\n",
       "            <td>120         </td> <td>284             </td> <td>27          </td> <td>62             </td> <td>100                      </td> <td>False          </td>\n",
       "        </tr>\n",
       "        <tr>\n",
       "            <td>113         </td> <td>282             </td> <td>33          </td> <td>64             </td> <td>135                      </td> <td>False          </td>\n",
       "        </tr>\n",
       "        <tr>\n",
       "            <td>128         </td> <td>279             </td> <td>28          </td> <td>64             </td> <td>115                      </td> <td>True           </td>\n",
       "        </tr>\n",
       "        <tr>\n",
       "            <td>108         </td> <td>282             </td> <td>23          </td> <td>67             </td> <td>125                      </td> <td>True           </td>\n",
       "        </tr>\n",
       "        <tr>\n",
       "            <td>136         </td> <td>286             </td> <td>25          </td> <td>62             </td> <td>93                       </td> <td>False          </td>\n",
       "        </tr>\n",
       "    </tbody>\n",
       "</table>\n",
       "<p>... (1169 rows omitted)</p>"
      ],
      "text/plain": [
       "<IPython.core.display.HTML object>"
      ]
     },
     "metadata": {},
     "output_type": "display_data"
    }
   ],
   "source": [
    "# This is sample data\n",
    "births = Table.read_table('http://faculty.ung.edu/rsinn/baby.csv')\n",
    "births.show(5)"
   ]
  },
  {
   "cell_type": "markdown",
   "metadata": {},
   "source": [
    "### Step 3. Choose a statistic (mean)\n",
    "\n",
    "The default statistic is the mean. If we want to estimate a different statistic like the median, then we would need to take the function `boot_one` and replace the `np.average` with `np.median`. In almost every case, especially in an introductory statistics course, we will estimate the mean.\n",
    "\n",
    "Select the the birth weight of babies born to smokers as a one-column table of numeric values."
   ]
  },
  {
   "cell_type": "code",
   "execution_count": 6,
   "metadata": {},
   "outputs": [
    {
     "data": {
      "text/html": [
       "<table border=\"1\" class=\"dataframe\">\n",
       "    <thead>\n",
       "        <tr>\n",
       "            <th>Birth Weight</th>\n",
       "        </tr>\n",
       "    </thead>\n",
       "    <tbody>\n",
       "        <tr>\n",
       "            <td>128         </td>\n",
       "        </tr>\n",
       "        <tr>\n",
       "            <td>108         </td>\n",
       "        </tr>\n",
       "        <tr>\n",
       "            <td>143         </td>\n",
       "        </tr>\n",
       "        <tr>\n",
       "            <td>144         </td>\n",
       "        </tr>\n",
       "        <tr>\n",
       "            <td>141         </td>\n",
       "        </tr>\n",
       "    </tbody>\n",
       "</table>\n",
       "<p>... (454 rows omitted)</p>"
      ],
      "text/plain": [
       "<IPython.core.display.HTML object>"
      ]
     },
     "metadata": {},
     "output_type": "display_data"
    }
   ],
   "source": [
    "smoked = births.where('Maternal Smoker',True).select('Birth Weight')\n",
    "smoked.show(5)"
   ]
  },
  {
   "cell_type": "code",
   "execution_count": null,
   "metadata": {},
   "outputs": [],
   "source": []
  },
  {
   "cell_type": "markdown",
   "metadata": {},
   "source": [
    "### Step 4. Calculate the statistic of the original sample\n",
    "\n",
    "Our original data is a sample, not a population, so every time we sample that sample we are *resampling* which is another name for bootstrapping."
   ]
  },
  {
   "cell_type": "markdown",
   "metadata": {},
   "source": [
    "### Step 5. Bootstrap the sample and calculate the statistic on the bootstrap sample\n",
    "\n",
    "Choose a resample size and sample **with** replacement."
   ]
  },
  {
   "cell_type": "code",
   "execution_count": 7,
   "metadata": {},
   "outputs": [
    {
     "data": {
      "text/plain": [
       "114.21"
      ]
     },
     "execution_count": 7,
     "metadata": {},
     "output_type": "execute_result"
    }
   ],
   "source": [
    "boot_one(smoked,100)"
   ]
  },
  {
   "cell_type": "markdown",
   "metadata": {},
   "source": [
    "### Step 6. Repeat over many bootstrap samples"
   ]
  },
  {
   "cell_type": "markdown",
   "metadata": {},
   "source": [
    "We use our standard `for` loop setup with a blank results array and `np.append` to add new results to it. Our resample size is 50, but we need 500 - 1,000 resamples for an accurate bootstrap distribution."
   ]
  },
  {
   "cell_type": "code",
   "execution_count": 8,
   "metadata": {},
   "outputs": [],
   "source": [
    "boot_samp = make_array()\n",
    "resamp_size = 50\n",
    "\n",
    "# Never need more than 1k reps, use 500 or fewer if working the cloud.\n",
    "resample_reps = 1000\n",
    "\n",
    "for i in range(resample_reps):\n",
    "    new_boot = boot_one(smoked,resamp_size)\n",
    "    boot_samp = np.append(boot_samp, new_boot)\n",
    "    \n",
    "# Remove the hashtag comment symbol to see the boot_samp results array\n",
    "#boot_samp"
   ]
  },
  {
   "cell_type": "code",
   "execution_count": 9,
   "metadata": {},
   "outputs": [],
   "source": [
    "def boot_hist (array):\n",
    "    left = round(percentile(2.5, array),2)\n",
    "    right = round(percentile(97.5, array),2)\n",
    "    avg = round(np.average(array),2)\n",
    "    tab = Table().with_column('Bootstrapped Sample',array)\n",
    "    tab.hist(0)\n",
    "    _ = plots.title('95% Confidence Interval')\n",
    "    _ = plots.plot([left, left], [0, 0.1], color='red', lw=2)\n",
    "    _ = plots.plot([right, right], [0, 0.1], color='red', lw=2)\n",
    "    _ = plots.scatter(avg, 0, color=\"gold\", s = 200,zorder=2);\n",
    "    print(\"The 95% confidence interval lies between \", left,\" and \", right, \",\")\n",
    "    print(\"and the gold dot at x = \", avg, \" is the mean of the bootstrapped sample distribution.\")"
   ]
  },
  {
   "cell_type": "code",
   "execution_count": 10,
   "metadata": {},
   "outputs": [
    {
     "name": "stdout",
     "output_type": "stream",
     "text": [
      "The 95% confidence interval lies between  108.96  and  118.86 ,\n",
      "and the gold dot at x =  113.84  is the mean of the bootstrapped sample distribution.\n"
     ]
    },
    {
     "data": {
      "image/png": "[encoded data removed]",
      "text/plain": [
       "<Figure size 432x288 with 1 Axes>"
      ]
     },
     "metadata": {
      "filenames": {
       "image/png": "C:\\Users\\robbs\\Documents\\Conda\\GitBook\\stats\\_build\\jupyter_execute\\tests\\4_22_1.png"
      }
     },
     "output_type": "display_data"
    }
   ],
   "source": [
    "boot_hist(boot_samp)"
   ]
  },
  {
   "cell_type": "markdown",
   "metadata": {},
   "source": [
    "The 95% confidence interval endpoints are shown above the histogram: we are 95% confident that the true mean lies between 108.9 and 118.8."
   ]
  },
  {
   "cell_type": "markdown",
   "metadata": {},
   "source": [
    "## Compare to resamples of size 200\n",
    "\n",
    "Note that this resample size is 4 times larger than we used above. The law of large numbers indicates this larger (re)sample size should lead to a more accurate estimate."
   ]
  },
  {
   "cell_type": "code",
   "execution_count": 11,
   "metadata": {},
   "outputs": [],
   "source": [
    "boot_samp_2 = make_array()\n",
    "resamp_size = 200\n",
    "\n",
    "# Never need more than 1k reps, use 500 or fewer if working the cloud.\n",
    "resample_reps = 1000\n",
    "\n",
    "for i in range(resample_reps):\n",
    "    new_boot = boot_one(smoked,resamp_size)\n",
    "    boot_samp_2 = np.append(boot_samp_2, new_boot)\n",
    "    \n",
    "# Remove the hashtag comment symbol to see the boot_samp results array\n",
    "#boot_samp"
   ]
  },
  {
   "cell_type": "code",
   "execution_count": 12,
   "metadata": {},
   "outputs": [
    {
     "name": "stdout",
     "output_type": "stream",
     "text": [
      "The 95% confidence interval lies between  111.22  and  116.17 ,\n",
      "and the gold dot at x =  113.79  is the mean of the bootstrapped sample distribution.\n"
     ]
    },
    {
     "data": {
      "image/png": "[encoded data removed]",
      "text/plain": [
       "<Figure size 432x288 with 1 Axes>"
      ]
     },
     "metadata": {
      "filenames": {
       "image/png": "C:\\Users\\robbs\\Documents\\Conda\\GitBook\\stats\\_build\\jupyter_execute\\tests\\4_26_1.png"
      }
     },
     "output_type": "display_data"
    }
   ],
   "source": [
    "boot_hist(boot_samp_2)"
   ]
  },
  {
   "cell_type": "markdown",
   "metadata": {},
   "source": [
    "Compared to the confidence interval generated with a resample size of $n=50$, the width of the new confidence interval is approximately 5 units less."
   ]
  }
 ],
 "metadata": {
  "anaconda-cloud": {},
  "kernelspec": {
   "display_name": "Python 3",
   "language": "python",
   "name": "python3"
  },
  "language_info": {
   "codemirror_mode": {
    "name": "ipython",
    "version": 3
   },
   "file_extension": ".py",
   "mimetype": "text/x-python",
   "name": "python",
   "nbconvert_exporter": "python",
   "pygments_lexer": "ipython3",
   "version": "3.7.6"
  }
 },
 "nbformat": 4,
 "nbformat_minor": 4
}