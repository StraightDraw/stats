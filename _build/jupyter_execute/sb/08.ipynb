{
 "cells": [
  {
   "cell_type": "markdown",
   "metadata": {},
   "source": [
    "# 8. Conducting $t$-tests using Caffeine and Sleep Variables"
   ]
  },
  {
   "cell_type": "code",
   "execution_count": 1,
   "metadata": {},
   "outputs": [],
   "source": [
    "from datascience import *\n",
    "import numpy as np\n",
    "from scipy.stats import t\n",
    "\n",
    "%matplotlib inline\n",
    "import matplotlib.pyplot as plots\n",
    "plots.style.use('fivethirtyeight')"
   ]
  },
  {
   "cell_type": "markdown",
   "metadata": {},
   "source": [
    "I keep some data frames in CSV format accessible from my website. One of them is called `personality.csv` and has, as you might imagine, personality variables. In this case, we will compare and contrast sleep and caffeine consumption levels based upon the grouping variables of biological sex and whether the students are at least 21 years old (Y/N response)."
   ]
  },
  {
   "cell_type": "code",
   "execution_count": 2,
   "metadata": {},
   "outputs": [
    {
     "data": {
      "text/plain": [
       "129"
      ]
     },
     "execution_count": 2,
     "metadata": {},
     "output_type": "execute_result"
    }
   ],
   "source": [
    "pers = Table.read_table('http://faculty.ung.edu/rsinn/personality.csv')\n",
    "pers.num_rows"
   ]
  },
  {
   "cell_type": "code",
   "execution_count": 3,
   "metadata": {},
   "outputs": [
    {
     "data": {
      "text/html": [
       "<table border=\"1\" class=\"dataframe\">\n",
       "    <thead>\n",
       "        <tr>\n",
       "            <th>Age</th> <th>Yr</th> <th>Sex</th> <th>G21</th> <th>Corps</th> <th>Res</th> <th>Greek</th> <th>VarsAth</th> <th>Honor</th> <th>GPA</th> <th>Sleep</th> <th>Caff</th> <th>SitClass</th> <th>AccDate</th> <th>Friends</th> <th>TxRel</th> <th>Stress1</th> <th>Stress2</th> <th>CHS</th> <th>Thrill</th> <th>Eat</th> <th>TypeA</th> <th>Anx</th> <th>Opt</th> <th>SE</th> <th>Neuro</th> <th>Perf</th> <th>OCD</th> <th>Play</th> <th>Extro</th> <th>Narc</th> <th>HSAF</th> <th>HSSE</th> <th>HSAG</th> <th>HSSD</th> <th>PHS</th>\n",
       "        </tr>\n",
       "    </thead>\n",
       "    <tbody>\n",
       "        <tr>\n",
       "            <td>21  </td> <td>2   </td> <td>M   </td> <td>Y   </td> <td>Y    </td> <td>1   </td> <td>N    </td> <td>N      </td> <td>N    </td> <td>3.23</td> <td>3.5  </td> <td>2   </td> <td>F       </td> <td>N      </td> <td>O      </td> <td>25   </td> <td>15     </td> <td>10     </td> <td>28  </td> <td>23    </td> <td>45  </td> <td>31   </td> <td>30  </td> <td>27  </td> <td>61  </td> <td>29   </td> <td>105 </td> <td>10  </td> <td>142 </td> <td>8    </td> <td>11  </td> <td>41  </td> <td>40  </td> <td>26  </td> <td>27  </td> <td>SE  </td>\n",
       "        </tr>\n",
       "        <tr>\n",
       "            <td>20  </td> <td>3   </td> <td>F   </td> <td>N   </td> <td>N    </td> <td>2   </td> <td>Y    </td> <td>N      </td> <td>Y    </td> <td>3.95</td> <td>5.5  </td> <td>1   </td> <td>M       </td> <td>Y      </td> <td>E      </td> <td>15   </td> <td>13     </td> <td>11     </td> <td>29  </td> <td>25    </td> <td>32  </td> <td>32   </td> <td>37  </td> <td>23  </td> <td>60  </td> <td>44   </td> <td>105 </td> <td>3   </td> <td>172 </td> <td>16   </td> <td>11  </td> <td>46  </td> <td>52  </td> <td>26  </td> <td>33  </td> <td>SE  </td>\n",
       "        </tr>\n",
       "        <tr>\n",
       "            <td>22  </td> <td>3   </td> <td>M   </td> <td>Y   </td> <td>N    </td> <td>2   </td> <td>N    </td> <td>N      </td> <td>N    </td> <td>3.06</td> <td>8.5  </td> <td>1   </td> <td>B       </td> <td>Y      </td> <td>E      </td> <td>23   </td> <td>8      </td> <td>15     </td> <td>30  </td> <td>27    </td> <td>14  </td> <td>25   </td> <td>24  </td> <td>27  </td> <td>62  </td> <td>17   </td> <td>73  </td> <td>1   </td> <td>134 </td> <td>15   </td> <td>11  </td> <td>48  </td> <td>42  </td> <td>44  </td> <td>29  </td> <td>AG  </td>\n",
       "        </tr>\n",
       "        <tr>\n",
       "            <td>27  </td> <td>3   </td> <td>F   </td> <td>Y   </td> <td>N    </td> <td>3   </td> <td>N    </td> <td>N      </td> <td>N    </td> <td>2.84</td> <td>7    </td> <td>1   </td> <td>M       </td> <td>N      </td> <td>E      </td> <td>20   </td> <td>6      </td> <td>13     </td> <td>27  </td> <td>21    </td> <td>33  </td> <td>29   </td> <td>35  </td> <td>26  </td> <td>65  </td> <td>18   </td> <td>90  </td> <td>9   </td> <td>160 </td> <td>16   </td> <td>10  </td> <td>51  </td> <td>51  </td> <td>23  </td> <td>19  </td> <td>SE  </td>\n",
       "        </tr>\n",
       "        <tr>\n",
       "            <td>24  </td> <td>3   </td> <td>M   </td> <td>Y   </td> <td>N    </td> <td>2   </td> <td>N    </td> <td>N      </td> <td>N    </td> <td>2.39</td> <td>6    </td> <td>1   </td> <td>F       </td> <td>N      </td> <td>E      </td> <td>25   </td> <td>6      </td> <td>18     </td> <td>24  </td> <td>30    </td> <td>43  </td> <td>31   </td> <td>27  </td> <td>29  </td> <td>65  </td> <td>11   </td> <td>95  </td> <td>5   </td> <td>166 </td> <td>14   </td> <td>10  </td> <td>56  </td> <td>46  </td> <td>27  </td> <td>20  </td> <td>AF  </td>\n",
       "        </tr>\n",
       "        <tr>\n",
       "            <td>22  </td> <td>3   </td> <td>F   </td> <td>Y   </td> <td>N    </td> <td>2   </td> <td>Y    </td> <td>N      </td> <td>N    </td> <td>2.63</td> <td>6.5  </td> <td>0   </td> <td>F       </td> <td>N      </td> <td>E      </td> <td>18   </td> <td>17     </td> <td>12     </td> <td>16  </td> <td>26    </td> <td>39  </td> <td>31   </td> <td>34  </td> <td>20  </td> <td>68  </td> <td>43   </td> <td>114 </td> <td>20  </td> <td>133 </td> <td>10   </td> <td>9   </td> <td>40  </td> <td>27  </td> <td>31  </td> <td>28  </td> <td>AG  </td>\n",
       "        </tr>\n",
       "        <tr>\n",
       "            <td>18  </td> <td>1   </td> <td>M   </td> <td>N   </td> <td>Y    </td> <td>1   </td> <td>N    </td> <td>N      </td> <td>N    </td> <td>3.17</td> <td>6    </td> <td>3   </td> <td>M       </td> <td>Y      </td> <td>E      </td> <td>23   </td> <td>18     </td> <td>14     </td> <td>29  </td> <td>26    </td> <td>21  </td> <td>36   </td> <td>40  </td> <td>26  </td> <td>64  </td> <td>16   </td> <td>49  </td> <td>20  </td> <td>114 </td> <td>10   </td> <td>9   </td> <td>56  </td> <td>45  </td> <td>41  </td> <td>38  </td> <td>AG  </td>\n",
       "        </tr>\n",
       "        <tr>\n",
       "            <td>20  </td> <td>3   </td> <td>F   </td> <td>N   </td> <td>N    </td> <td>1   </td> <td>Y    </td> <td>N      </td> <td>N    </td> <td>3.3 </td> <td>10   </td> <td>0   </td> <td>F       </td> <td>Y      </td> <td>E      </td> <td>22   </td> <td>16     </td> <td>17     </td> <td>29  </td> <td>17    </td> <td>42  </td> <td>32   </td> <td>41  </td> <td>21  </td> <td>50  </td> <td>45   </td> <td>142 </td> <td>17  </td> <td>168 </td> <td>16   </td> <td>9   </td> <td>55  </td> <td>45  </td> <td>24  </td> <td>29  </td> <td>AF  </td>\n",
       "        </tr>\n",
       "        <tr>\n",
       "            <td>22  </td> <td>2   </td> <td>F   </td> <td>Y   </td> <td>N    </td> <td>1   </td> <td>N    </td> <td>N      </td> <td>N    </td> <td>3.02</td> <td>3    </td> <td>6   </td> <td>B       </td> <td>N      </td> <td>O      </td> <td>24   </td> <td>18     </td> <td>18     </td> <td>31  </td> <td>21    </td> <td>42  </td> <td>30   </td> <td>58  </td> <td>8   </td> <td>45  </td> <td>73   </td> <td>119 </td> <td>16  </td> <td>141 </td> <td>10   </td> <td>9   </td> <td>52  </td> <td>47  </td> <td>32  </td> <td>26  </td> <td>SE  </td>\n",
       "        </tr>\n",
       "        <tr>\n",
       "            <td>20  </td> <td>3   </td> <td>F   </td> <td>N   </td> <td>N    </td> <td>2   </td> <td>Y    </td> <td>N      </td> <td>N    </td> <td>3.22</td> <td>3    </td> <td>0   </td> <td>M       </td> <td>N      </td> <td>E      </td> <td>20   </td> <td>14     </td> <td>14     </td> <td>20  </td> <td>18    </td> <td>42  </td> <td>36   </td> <td>43  </td> <td>17  </td> <td>60  </td> <td>54   </td> <td>117 </td> <td>16  </td> <td>136 </td> <td>5    </td> <td>9   </td> <td>34  </td> <td>32  </td> <td>32  </td> <td>32  </td> <td>AG  </td>\n",
       "        </tr>\n",
       "    </tbody>\n",
       "</table>\n",
       "<p>... (119 rows omitted)</p>"
      ],
      "text/plain": [
       "Age  | Yr   | Sex  | G21  | Corps | Res  | Greek | VarsAth | Honor | GPA  | Sleep | Caff | SitClass | AccDate | Friends | TxRel | Stress1 | Stress2 | CHS  | Thrill | Eat  | TypeA | Anx  | Opt  | SE   | Neuro | Perf | OCD  | Play | Extro | Narc | HSAF | HSSE | HSAG | HSSD | PHS\n",
       "21   | 2    | M    | Y    | Y     | 1    | N     | N       | N     | 3.23 | 3.5   | 2    | F        | N       | O       | 25    | 15      | 10      | 28   | 23     | 45   | 31    | 30   | 27   | 61   | 29    | 105  | 10   | 142  | 8     | 11   | 41   | 40   | 26   | 27   | SE\n",
       "20   | 3    | F    | N    | N     | 2    | Y     | N       | Y     | 3.95 | 5.5   | 1    | M        | Y       | E       | 15    | 13      | 11      | 29   | 25     | 32   | 32    | 37   | 23   | 60   | 44    | 105  | 3    | 172  | 16    | 11   | 46   | 52   | 26   | 33   | SE\n",
       "22   | 3    | M    | Y    | N     | 2    | N     | N       | N     | 3.06 | 8.5   | 1    | B        | Y       | E       | 23    | 8       | 15      | 30   | 27     | 14   | 25    | 24   | 27   | 62   | 17    | 73   | 1    | 134  | 15    | 11   | 48   | 42   | 44   | 29   | AG\n",
       "27   | 3    | F    | Y    | N     | 3    | N     | N       | N     | 2.84 | 7     | 1    | M        | N       | E       | 20    | 6       | 13      | 27   | 21     | 33   | 29    | 35   | 26   | 65   | 18    | 90   | 9    | 160  | 16    | 10   | 51   | 51   | 23   | 19   | SE\n",
       "24   | 3    | M    | Y    | N     | 2    | N     | N       | N     | 2.39 | 6     | 1    | F        | N       | E       | 25    | 6       | 18      | 24   | 30     | 43   | 31    | 27   | 29   | 65   | 11    | 95   | 5    | 166  | 14    | 10   | 56   | 46   | 27   | 20   | AF\n",
       "22   | 3    | F    | Y    | N     | 2    | Y     | N       | N     | 2.63 | 6.5   | 0    | F        | N       | E       | 18    | 17      | 12      | 16   | 26     | 39   | 31    | 34   | 20   | 68   | 43    | 114  | 20   | 133  | 10    | 9    | 40   | 27   | 31   | 28   | AG\n",
       "18   | 1    | M    | N    | Y     | 1    | N     | N       | N     | 3.17 | 6     | 3    | M        | Y       | E       | 23    | 18      | 14      | 29   | 26     | 21   | 36    | 40   | 26   | 64   | 16    | 49   | 20   | 114  | 10    | 9    | 56   | 45   | 41   | 38   | AG\n",
       "20   | 3    | F    | N    | N     | 1    | Y     | N       | N     | 3.3  | 10    | 0    | F        | Y       | E       | 22    | 16      | 17      | 29   | 17     | 42   | 32    | 41   | 21   | 50   | 45    | 142  | 17   | 168  | 16    | 9    | 55   | 45   | 24   | 29   | AF\n",
       "22   | 2    | F    | Y    | N     | 1    | N     | N       | N     | 3.02 | 3     | 6    | B        | N       | O       | 24    | 18      | 18      | 31   | 21     | 42   | 30    | 58   | 8    | 45   | 73    | 119  | 16   | 141  | 10    | 9    | 52   | 47   | 32   | 26   | SE\n",
       "20   | 3    | F    | N    | N     | 2    | Y     | N       | N     | 3.22 | 3     | 0    | M        | N       | E       | 20    | 14      | 14      | 20   | 18     | 42   | 36    | 43   | 17   | 60   | 54    | 117  | 16   | 136  | 5     | 9    | 34   | 32   | 32   | 32   | AG\n",
       "... (119 rows omitted)"
      ]
     },
     "execution_count": 3,
     "metadata": {},
     "output_type": "execute_result"
    }
   ],
   "source": [
    "pers"
   ]
  },
  {
   "cell_type": "markdown",
   "metadata": {},
   "source": [
    "## Sleep and Caffeine Data"
   ]
  },
  {
   "cell_type": "code",
   "execution_count": 4,
   "metadata": {},
   "outputs": [
    {
     "data": {
      "text/html": [
       "<table border=\"1\" class=\"dataframe\">\n",
       "    <thead>\n",
       "        <tr>\n",
       "            <th>Sex</th> <th>Age</th> <th>G21</th> <th>Caff</th> <th>Sleep</th>\n",
       "        </tr>\n",
       "    </thead>\n",
       "    <tbody>\n",
       "        <tr>\n",
       "            <td>M   </td> <td>21  </td> <td>Y   </td> <td>2   </td> <td>3.5  </td>\n",
       "        </tr>\n",
       "        <tr>\n",
       "            <td>F   </td> <td>20  </td> <td>N   </td> <td>1   </td> <td>5.5  </td>\n",
       "        </tr>\n",
       "        <tr>\n",
       "            <td>M   </td> <td>22  </td> <td>Y   </td> <td>1   </td> <td>8.5  </td>\n",
       "        </tr>\n",
       "        <tr>\n",
       "            <td>F   </td> <td>27  </td> <td>Y   </td> <td>1   </td> <td>7    </td>\n",
       "        </tr>\n",
       "        <tr>\n",
       "            <td>M   </td> <td>24  </td> <td>Y   </td> <td>1   </td> <td>6    </td>\n",
       "        </tr>\n",
       "        <tr>\n",
       "            <td>F   </td> <td>22  </td> <td>Y   </td> <td>0   </td> <td>6.5  </td>\n",
       "        </tr>\n",
       "        <tr>\n",
       "            <td>M   </td> <td>18  </td> <td>N   </td> <td>3   </td> <td>6    </td>\n",
       "        </tr>\n",
       "        <tr>\n",
       "            <td>F   </td> <td>20  </td> <td>N   </td> <td>0   </td> <td>10   </td>\n",
       "        </tr>\n",
       "        <tr>\n",
       "            <td>F   </td> <td>22  </td> <td>Y   </td> <td>6   </td> <td>3    </td>\n",
       "        </tr>\n",
       "        <tr>\n",
       "            <td>F   </td> <td>20  </td> <td>N   </td> <td>0   </td> <td>3    </td>\n",
       "        </tr>\n",
       "    </tbody>\n",
       "</table>\n",
       "<p>... (119 rows omitted)</p>"
      ],
      "text/plain": [
       "Sex  | Age  | G21  | Caff | Sleep\n",
       "M    | 21   | Y    | 2    | 3.5\n",
       "F    | 20   | N    | 1    | 5.5\n",
       "M    | 22   | Y    | 1    | 8.5\n",
       "F    | 27   | Y    | 1    | 7\n",
       "M    | 24   | Y    | 1    | 6\n",
       "F    | 22   | Y    | 0    | 6.5\n",
       "M    | 18   | N    | 3    | 6\n",
       "F    | 20   | N    | 0    | 10\n",
       "F    | 22   | Y    | 6    | 3\n",
       "F    | 20   | N    | 0    | 3\n",
       "... (119 rows omitted)"
      ]
     },
     "execution_count": 4,
     "metadata": {},
     "output_type": "execute_result"
    }
   ],
   "source": [
    "sleep = pers.select('Sex','Age','G21', 'Caff','Sleep')\n",
    "sleep"
   ]
  },
  {
   "cell_type": "markdown",
   "metadata": {},
   "source": [
    "### Data Analysis"
   ]
  },
  {
   "cell_type": "markdown",
   "metadata": {},
   "source": [
    "#### Pivot tables with third variable averaging"
   ]
  },
  {
   "cell_type": "code",
   "execution_count": 5,
   "metadata": {},
   "outputs": [
    {
     "name": "stderr",
     "output_type": "stream",
     "text": [
      "C:\\Users\\robbs\\anaconda3\\envs\\datasci\\lib\\site-packages\\datascience\\tables.py:920: VisibleDeprecationWarning: Creating an ndarray from ragged nested sequences (which is a list-or-tuple of lists-or-tuples-or ndarrays with different lengths or shapes) is deprecated. If you meant to do this, you must specify 'dtype=object' when creating the ndarray.\n",
      "  values = np.array(tuple(values))\n"
     ]
    },
    {
     "data": {
      "text/html": [
       "<table border=\"1\" class=\"dataframe\">\n",
       "    <thead>\n",
       "        <tr>\n",
       "            <th>G21</th> <th>F</th> <th>M</th>\n",
       "        </tr>\n",
       "    </thead>\n",
       "    <tbody>\n",
       "        <tr>\n",
       "            <td>N   </td> <td>55  </td> <td>29  </td>\n",
       "        </tr>\n",
       "        <tr>\n",
       "            <td>Y   </td> <td>19  </td> <td>26  </td>\n",
       "        </tr>\n",
       "    </tbody>\n",
       "</table>"
      ],
      "text/plain": [
       "G21  | F    | M\n",
       "N    | 55   | 29\n",
       "Y    | 19   | 26"
      ]
     },
     "execution_count": 5,
     "metadata": {},
     "output_type": "execute_result"
    }
   ],
   "source": [
    "sleep.pivot('Sex','G21')"
   ]
  },
  {
   "cell_type": "code",
   "execution_count": 6,
   "metadata": {},
   "outputs": [
    {
     "data": {
      "text/html": [
       "<table border=\"1\" class=\"dataframe\">\n",
       "    <thead>\n",
       "        <tr>\n",
       "            <th>G21</th> <th>F</th> <th>M</th>\n",
       "        </tr>\n",
       "    </thead>\n",
       "    <tbody>\n",
       "        <tr>\n",
       "            <td>N   </td> <td>6.56364</td> <td>6.36207</td>\n",
       "        </tr>\n",
       "        <tr>\n",
       "            <td>Y   </td> <td>5.5    </td> <td>5.96154</td>\n",
       "        </tr>\n",
       "    </tbody>\n",
       "</table>"
      ],
      "text/plain": [
       "G21  | F       | M\n",
       "N    | 6.56364 | 6.36207\n",
       "Y    | 5.5     | 5.96154"
      ]
     },
     "execution_count": 6,
     "metadata": {},
     "output_type": "execute_result"
    }
   ],
   "source": [
    "sleep.pivot('Sex','G21','Sleep',np.average)"
   ]
  },
  {
   "cell_type": "code",
   "execution_count": 7,
   "metadata": {},
   "outputs": [
    {
     "data": {
      "text/html": [
       "<table border=\"1\" class=\"dataframe\">\n",
       "    <thead>\n",
       "        <tr>\n",
       "            <th>G21</th> <th>F</th> <th>M</th>\n",
       "        </tr>\n",
       "    </thead>\n",
       "    <tbody>\n",
       "        <tr>\n",
       "            <td>N   </td> <td>1.89091</td> <td>1.89655</td>\n",
       "        </tr>\n",
       "        <tr>\n",
       "            <td>Y   </td> <td>2.89474</td> <td>2.38462</td>\n",
       "        </tr>\n",
       "    </tbody>\n",
       "</table>"
      ],
      "text/plain": [
       "G21  | F       | M\n",
       "N    | 1.89091 | 1.89655\n",
       "Y    | 2.89474 | 2.38462"
      ]
     },
     "execution_count": 7,
     "metadata": {},
     "output_type": "execute_result"
    }
   ],
   "source": [
    "sleep.pivot('Sex','G21','Caff',np.average)"
   ]
  },
  {
   "cell_type": "markdown",
   "metadata": {},
   "source": [
    "From the pivot tables with averaging for Sleep and Caffeine, we see very little difference based on gender but more pronounced differences based on the \"older than 21 years\" variable (Y/N response)."
   ]
  },
  {
   "cell_type": "markdown",
   "metadata": {},
   "source": [
    "### Histograms with grouping"
   ]
  },
  {
   "cell_type": "code",
   "execution_count": 8,
   "metadata": {},
   "outputs": [
    {
     "data": {
      "image/png": "[encoded data removed]",
      "text/plain": [
       "<Figure size 432x288 with 1 Axes>"
      ]
     },
     "metadata": {
      "filenames": {
       "image/png": "C:\\Users\\robbs\\Documents\\Conda\\GitBook\\stats\\_build\\jupyter_execute\\sb\\08_14_0.png"
      }
     },
     "output_type": "display_data"
    }
   ],
   "source": [
    "sleep.hist('Sleep',group='Sex')"
   ]
  },
  {
   "cell_type": "code",
   "execution_count": 9,
   "metadata": {},
   "outputs": [
    {
     "name": "stderr",
     "output_type": "stream",
     "text": [
      "C:\\Users\\robbs\\anaconda3\\envs\\datasci\\lib\\site-packages\\datascience\\tables.py:920: VisibleDeprecationWarning: Creating an ndarray from ragged nested sequences (which is a list-or-tuple of lists-or-tuples-or ndarrays with different lengths or shapes) is deprecated. If you meant to do this, you must specify 'dtype=object' when creating the ndarray.\n",
      "  values = np.array(tuple(values))\n"
     ]
    },
    {
     "data": {
      "image/png": "[encoded data removed]",
      "text/plain": [
       "<Figure size 432x288 with 1 Axes>"
      ]
     },
     "metadata": {
      "filenames": {
       "image/png": "C:\\Users\\robbs\\Documents\\Conda\\GitBook\\stats\\_build\\jupyter_execute\\sb\\08_15_1.png"
      }
     },
     "output_type": "display_data"
    }
   ],
   "source": [
    "sleep.hist('Sleep',group='G21')"
   ]
  },
  {
   "cell_type": "code",
   "execution_count": 10,
   "metadata": {},
   "outputs": [
    {
     "name": "stderr",
     "output_type": "stream",
     "text": [
      "C:\\Users\\robbs\\anaconda3\\envs\\datasci\\lib\\site-packages\\datascience\\tables.py:920: VisibleDeprecationWarning: Creating an ndarray from ragged nested sequences (which is a list-or-tuple of lists-or-tuples-or ndarrays with different lengths or shapes) is deprecated. If you meant to do this, you must specify 'dtype=object' when creating the ndarray.\n",
      "  values = np.array(tuple(values))\n"
     ]
    },
    {
     "data": {
      "image/png": "[encoded data removed]",
      "text/plain": [
       "<Figure size 432x288 with 1 Axes>"
      ]
     },
     "metadata": {
      "filenames": {
       "image/png": "C:\\Users\\robbs\\Documents\\Conda\\GitBook\\stats\\_build\\jupyter_execute\\sb\\08_16_1.png"
      }
     },
     "output_type": "display_data"
    }
   ],
   "source": [
    "sleep.hist('Caff',group='Sex')"
   ]
  },
  {
   "cell_type": "code",
   "execution_count": 11,
   "metadata": {},
   "outputs": [
    {
     "name": "stderr",
     "output_type": "stream",
     "text": [
      "C:\\Users\\robbs\\anaconda3\\envs\\datasci\\lib\\site-packages\\datascience\\tables.py:920: VisibleDeprecationWarning: Creating an ndarray from ragged nested sequences (which is a list-or-tuple of lists-or-tuples-or ndarrays with different lengths or shapes) is deprecated. If you meant to do this, you must specify 'dtype=object' when creating the ndarray.\n",
      "  values = np.array(tuple(values))\n"
     ]
    },
    {
     "data": {
      "image/png": "[encoded data removed]",
      "text/plain": [
       "<Figure size 432x288 with 1 Axes>"
      ]
     },
     "metadata": {
      "filenames": {
       "image/png": "C:\\Users\\robbs\\Documents\\Conda\\GitBook\\stats\\_build\\jupyter_execute\\sb\\08_17_1.png"
      }
     },
     "output_type": "display_data"
    }
   ],
   "source": [
    "sleep.hist('Caff',group='G21')"
   ]
  },
  {
   "cell_type": "markdown",
   "metadata": {},
   "source": [
    "## Applied Statistics"
   ]
  },
  {
   "cell_type": "markdown",
   "metadata": {},
   "source": [
    "In the case of demographic grouping variables and a single numeric variables, resesearchers use a t-test which is calculated as\n",
    "\n",
    "$$t = \\frac{\\bar x_1 - \\bar x_2}{SE}$$\n",
    "\n",
    "where the standard error is\n",
    "\n",
    "$$SE = \\sqrt{\\frac{s_1^2}{n_1-1}+\\frac{s_2^2}{n_2-2}}$$\n",
    "\n",
    "We can create a couple simple functions for the standard error and degrees of freedom."
   ]
  },
  {
   "cell_type": "code",
   "execution_count": 12,
   "metadata": {},
   "outputs": [],
   "source": [
    "# Standard error for two sample t-test.\n",
    "def se_t2(array1,array2):\n",
    "    s1 = np.std(array1)\n",
    "    s2 = np.std(array2)\n",
    "    n1 = len(array1)\n",
    "    n2 = len(array2)\n",
    "    return np.sqrt(s1**2 / n1 + s2**2 / n2)\n",
    "\n",
    "# The simplest calculation of degrees of freedom for two sample t-test.\n",
    "def df_t2(array1,array2):\n",
    "    n1 = len(array1)\n",
    "    n2 = len(array2)\n",
    "    return n1 + n2 - 2\n",
    "\n",
    "# The t-test.\n",
    "def t2(array1,array2):\n",
    "    se = se_t2(array1, array2)\n",
    "    df = df_t2(array1, array2)\n",
    "    t_stat = ( np.average(array1) - np.average(array2) ) / se_t2(array1,array2)\n",
    "    p_val = t.pdf(t_stat, df)\n",
    "    print('t = ',t_stat)\n",
    "    print('p = ', p_val)"
   ]
  },
  {
   "cell_type": "markdown",
   "metadata": {},
   "source": [
    "### Creating arrays for Caff variable using G21 grouping and Sex grouping"
   ]
  },
  {
   "cell_type": "code",
   "execution_count": 13,
   "metadata": {},
   "outputs": [],
   "source": [
    "caff_older = sleep.where('G21',\"Y\").column('Caff')\n",
    "caff_younger = sleep.where('G21',\"N\").column('Caff')\n",
    "caff_males =  sleep.where('Sex','M').column('Caff')\n",
    "caff_females =  sleep.where('Sex','F').column('Caff')"
   ]
  },
  {
   "cell_type": "markdown",
   "metadata": {},
   "source": [
    "#### $t$-tests for Caffeine differences"
   ]
  },
  {
   "cell_type": "code",
   "execution_count": 14,
   "metadata": {},
   "outputs": [
    {
     "name": "stdout",
     "output_type": "stream",
     "text": [
      "t =  1.7169471147297453\n",
      "p =  0.09167664854249422\n"
     ]
    }
   ],
   "source": [
    "t2(caff_older,caff_younger)"
   ]
  },
  {
   "cell_type": "code",
   "execution_count": 15,
   "metadata": {},
   "outputs": [
    {
     "name": "stdout",
     "output_type": "stream",
     "text": [
      "t =  -0.056769284539958484\n",
      "p =  0.39751164090201024\n"
     ]
    }
   ],
   "source": [
    "t2(caff_males,caff_females)"
   ]
  },
  {
   "cell_type": "markdown",
   "metadata": {},
   "source": [
    "We find a significant difference based on age ($\\alpha = 0.05$) but not based on gender."
   ]
  },
  {
   "cell_type": "markdown",
   "metadata": {},
   "source": [
    "### Creating arrays for Sleep variable using G21 grouping and Sex grouping"
   ]
  },
  {
   "cell_type": "code",
   "execution_count": 16,
   "metadata": {},
   "outputs": [],
   "source": [
    "sleep_older = sleep.where('G21',\"Y\").column('Sleep')\n",
    "sleep_younger = sleep.where('G21',\"N\").column('Sleep')\n",
    "sleep_males =  sleep.where('Sex','M').column('Sleep')\n",
    "sleep_females =  sleep.where('Sex','F').column('Sleep')"
   ]
  },
  {
   "cell_type": "code",
   "execution_count": 17,
   "metadata": {},
   "outputs": [
    {
     "name": "stdout",
     "output_type": "stream",
     "text": [
      "t =  -1.9094401393859386\n",
      "p =  0.06506537683749603\n"
     ]
    }
   ],
   "source": [
    "t2(sleep_older,sleep_younger)"
   ]
  },
  {
   "cell_type": "code",
   "execution_count": 18,
   "metadata": {},
   "outputs": [
    {
     "name": "stdout",
     "output_type": "stream",
     "text": [
      "t =  -0.32350966692241356\n",
      "p =  0.37771074891761297\n"
     ]
    }
   ],
   "source": [
    "t2(sleep_males,sleep_females)"
   ]
  },
  {
   "cell_type": "markdown",
   "metadata": {},
   "source": [
    "As with caffeine, we find a significant difference in sleep based on age ($\\alpha = 0.05$) but not based on gender."
   ]
  }
 ],
 "metadata": {
  "kernelspec": {
   "display_name": "Python 3",
   "language": "python",
   "name": "python3"
  },
  "language_info": {
   "codemirror_mode": {
    "name": "ipython",
    "version": 3
   },
   "file_extension": ".py",
   "mimetype": "text/x-python",
   "name": "python",
   "nbconvert_exporter": "python",
   "pygments_lexer": "ipython3",
   "version": "3.7.6"
  }
 },
 "nbformat": 4,
 "nbformat_minor": 4
}