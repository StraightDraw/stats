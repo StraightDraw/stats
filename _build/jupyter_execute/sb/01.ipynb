{
 "cells": [
  {
   "cell_type": "markdown",
   "metadata": {},
   "source": [
    "# 1. Analyzing Data using Personality Variables"
   ]
  },
  {
   "cell_type": "code",
   "execution_count": 1,
   "metadata": {},
   "outputs": [],
   "source": [
    "from datascience import *\n",
    "import numpy as np\n",
    "\n",
    "%matplotlib inline\n",
    "import matplotlib.pyplot as plots\n",
    "plots.style.use('fivethirtyeight')"
   ]
  },
  {
   "cell_type": "markdown",
   "metadata": {},
   "source": [
    "I keep some data frames in CSV format accessible from my website. One of them is called `personality.csv` and has, as you might imagine, personality variables. In this case, we will compare the narcissism levels based upon the grouping variable of biological sex."
   ]
  },
  {
   "cell_type": "code",
   "execution_count": 2,
   "metadata": {},
   "outputs": [
    {
     "data": {
      "text/plain": [
       "129"
      ]
     },
     "execution_count": 2,
     "metadata": {},
     "output_type": "execute_result"
    }
   ],
   "source": [
    "pers = Table.read_table('http://faculty.ung.edu/rsinn/personality.csv')\n",
    "pers.num_rows"
   ]
  },
  {
   "cell_type": "code",
   "execution_count": 3,
   "metadata": {},
   "outputs": [
    {
     "data": {
      "text/plain": [
       "('Age',\n",
       " 'Yr',\n",
       " 'Sex',\n",
       " 'G21',\n",
       " 'Corps',\n",
       " 'Res',\n",
       " 'Greek',\n",
       " 'VarsAth',\n",
       " 'Honor',\n",
       " 'GPA',\n",
       " 'Sleep',\n",
       " 'Caff',\n",
       " 'SitClass',\n",
       " 'AccDate',\n",
       " 'Friends',\n",
       " 'TxRel',\n",
       " 'Stress1',\n",
       " 'Stress2',\n",
       " 'CHS',\n",
       " 'Thrill',\n",
       " 'Eat',\n",
       " 'TypeA',\n",
       " 'Anx',\n",
       " 'Opt',\n",
       " 'SE',\n",
       " 'Neuro',\n",
       " 'Perf',\n",
       " 'OCD',\n",
       " 'Play',\n",
       " 'Extro',\n",
       " 'Narc',\n",
       " 'HSAF',\n",
       " 'HSSE',\n",
       " 'HSAG',\n",
       " 'HSSD',\n",
       " 'PHS')"
      ]
     },
     "execution_count": 3,
     "metadata": {},
     "output_type": "execute_result"
    }
   ],
   "source": [
    "pers.labels"
   ]
  },
  {
   "cell_type": "code",
   "execution_count": 4,
   "metadata": {},
   "outputs": [
    {
     "data": {
      "text/html": [
       "<table border=\"1\" class=\"dataframe\">\n",
       "    <thead>\n",
       "        <tr>\n",
       "            <th>Age</th> <th>Yr</th> <th>Sex</th> <th>G21</th> <th>Corps</th> <th>Res</th> <th>Greek</th> <th>VarsAth</th> <th>Honor</th> <th>GPA</th> <th>Sleep</th> <th>Caff</th> <th>SitClass</th> <th>AccDate</th> <th>Friends</th> <th>TxRel</th> <th>Stress1</th> <th>Stress2</th> <th>CHS</th> <th>Thrill</th> <th>Eat</th> <th>TypeA</th> <th>Anx</th> <th>Opt</th> <th>SE</th> <th>Neuro</th> <th>Perf</th> <th>OCD</th> <th>Play</th> <th>Extro</th> <th>Narc</th> <th>HSAF</th> <th>HSSE</th> <th>HSAG</th> <th>HSSD</th> <th>PHS</th>\n",
       "        </tr>\n",
       "    </thead>\n",
       "    <tbody>\n",
       "        <tr>\n",
       "            <td>21  </td> <td>2   </td> <td>M   </td> <td>Y   </td> <td>Y    </td> <td>1   </td> <td>N    </td> <td>N      </td> <td>N    </td> <td>3.23</td> <td>3.5  </td> <td>2   </td> <td>F       </td> <td>N      </td> <td>O      </td> <td>25   </td> <td>15     </td> <td>10     </td> <td>28  </td> <td>23    </td> <td>45  </td> <td>31   </td> <td>30  </td> <td>27  </td> <td>61  </td> <td>29   </td> <td>105 </td> <td>10  </td> <td>142 </td> <td>8    </td> <td>11  </td> <td>41  </td> <td>40  </td> <td>26  </td> <td>27  </td> <td>SE  </td>\n",
       "        </tr>\n",
       "        <tr>\n",
       "            <td>20  </td> <td>3   </td> <td>F   </td> <td>N   </td> <td>N    </td> <td>2   </td> <td>Y    </td> <td>N      </td> <td>Y    </td> <td>3.95</td> <td>5.5  </td> <td>1   </td> <td>M       </td> <td>Y      </td> <td>E      </td> <td>15   </td> <td>13     </td> <td>11     </td> <td>29  </td> <td>25    </td> <td>32  </td> <td>32   </td> <td>37  </td> <td>23  </td> <td>60  </td> <td>44   </td> <td>105 </td> <td>3   </td> <td>172 </td> <td>16   </td> <td>11  </td> <td>46  </td> <td>52  </td> <td>26  </td> <td>33  </td> <td>SE  </td>\n",
       "        </tr>\n",
       "        <tr>\n",
       "            <td>22  </td> <td>3   </td> <td>M   </td> <td>Y   </td> <td>N    </td> <td>2   </td> <td>N    </td> <td>N      </td> <td>N    </td> <td>3.06</td> <td>8.5  </td> <td>1   </td> <td>B       </td> <td>Y      </td> <td>E      </td> <td>23   </td> <td>8      </td> <td>15     </td> <td>30  </td> <td>27    </td> <td>14  </td> <td>25   </td> <td>24  </td> <td>27  </td> <td>62  </td> <td>17   </td> <td>73  </td> <td>1   </td> <td>134 </td> <td>15   </td> <td>11  </td> <td>48  </td> <td>42  </td> <td>44  </td> <td>29  </td> <td>AG  </td>\n",
       "        </tr>\n",
       "        <tr>\n",
       "            <td>27  </td> <td>3   </td> <td>F   </td> <td>Y   </td> <td>N    </td> <td>3   </td> <td>N    </td> <td>N      </td> <td>N    </td> <td>2.84</td> <td>7    </td> <td>1   </td> <td>M       </td> <td>N      </td> <td>E      </td> <td>20   </td> <td>6      </td> <td>13     </td> <td>27  </td> <td>21    </td> <td>33  </td> <td>29   </td> <td>35  </td> <td>26  </td> <td>65  </td> <td>18   </td> <td>90  </td> <td>9   </td> <td>160 </td> <td>16   </td> <td>10  </td> <td>51  </td> <td>51  </td> <td>23  </td> <td>19  </td> <td>SE  </td>\n",
       "        </tr>\n",
       "        <tr>\n",
       "            <td>24  </td> <td>3   </td> <td>M   </td> <td>Y   </td> <td>N    </td> <td>2   </td> <td>N    </td> <td>N      </td> <td>N    </td> <td>2.39</td> <td>6    </td> <td>1   </td> <td>F       </td> <td>N      </td> <td>E      </td> <td>25   </td> <td>6      </td> <td>18     </td> <td>24  </td> <td>30    </td> <td>43  </td> <td>31   </td> <td>27  </td> <td>29  </td> <td>65  </td> <td>11   </td> <td>95  </td> <td>5   </td> <td>166 </td> <td>14   </td> <td>10  </td> <td>56  </td> <td>46  </td> <td>27  </td> <td>20  </td> <td>AF  </td>\n",
       "        </tr>\n",
       "        <tr>\n",
       "            <td>22  </td> <td>3   </td> <td>F   </td> <td>Y   </td> <td>N    </td> <td>2   </td> <td>Y    </td> <td>N      </td> <td>N    </td> <td>2.63</td> <td>6.5  </td> <td>0   </td> <td>F       </td> <td>N      </td> <td>E      </td> <td>18   </td> <td>17     </td> <td>12     </td> <td>16  </td> <td>26    </td> <td>39  </td> <td>31   </td> <td>34  </td> <td>20  </td> <td>68  </td> <td>43   </td> <td>114 </td> <td>20  </td> <td>133 </td> <td>10   </td> <td>9   </td> <td>40  </td> <td>27  </td> <td>31  </td> <td>28  </td> <td>AG  </td>\n",
       "        </tr>\n",
       "        <tr>\n",
       "            <td>18  </td> <td>1   </td> <td>M   </td> <td>N   </td> <td>Y    </td> <td>1   </td> <td>N    </td> <td>N      </td> <td>N    </td> <td>3.17</td> <td>6    </td> <td>3   </td> <td>M       </td> <td>Y      </td> <td>E      </td> <td>23   </td> <td>18     </td> <td>14     </td> <td>29  </td> <td>26    </td> <td>21  </td> <td>36   </td> <td>40  </td> <td>26  </td> <td>64  </td> <td>16   </td> <td>49  </td> <td>20  </td> <td>114 </td> <td>10   </td> <td>9   </td> <td>56  </td> <td>45  </td> <td>41  </td> <td>38  </td> <td>AG  </td>\n",
       "        </tr>\n",
       "        <tr>\n",
       "            <td>20  </td> <td>3   </td> <td>F   </td> <td>N   </td> <td>N    </td> <td>1   </td> <td>Y    </td> <td>N      </td> <td>N    </td> <td>3.3 </td> <td>10   </td> <td>0   </td> <td>F       </td> <td>Y      </td> <td>E      </td> <td>22   </td> <td>16     </td> <td>17     </td> <td>29  </td> <td>17    </td> <td>42  </td> <td>32   </td> <td>41  </td> <td>21  </td> <td>50  </td> <td>45   </td> <td>142 </td> <td>17  </td> <td>168 </td> <td>16   </td> <td>9   </td> <td>55  </td> <td>45  </td> <td>24  </td> <td>29  </td> <td>AF  </td>\n",
       "        </tr>\n",
       "        <tr>\n",
       "            <td>22  </td> <td>2   </td> <td>F   </td> <td>Y   </td> <td>N    </td> <td>1   </td> <td>N    </td> <td>N      </td> <td>N    </td> <td>3.02</td> <td>3    </td> <td>6   </td> <td>B       </td> <td>N      </td> <td>O      </td> <td>24   </td> <td>18     </td> <td>18     </td> <td>31  </td> <td>21    </td> <td>42  </td> <td>30   </td> <td>58  </td> <td>8   </td> <td>45  </td> <td>73   </td> <td>119 </td> <td>16  </td> <td>141 </td> <td>10   </td> <td>9   </td> <td>52  </td> <td>47  </td> <td>32  </td> <td>26  </td> <td>SE  </td>\n",
       "        </tr>\n",
       "        <tr>\n",
       "            <td>20  </td> <td>3   </td> <td>F   </td> <td>N   </td> <td>N    </td> <td>2   </td> <td>Y    </td> <td>N      </td> <td>N    </td> <td>3.22</td> <td>3    </td> <td>0   </td> <td>M       </td> <td>N      </td> <td>E      </td> <td>20   </td> <td>14     </td> <td>14     </td> <td>20  </td> <td>18    </td> <td>42  </td> <td>36   </td> <td>43  </td> <td>17  </td> <td>60  </td> <td>54   </td> <td>117 </td> <td>16  </td> <td>136 </td> <td>5    </td> <td>9   </td> <td>34  </td> <td>32  </td> <td>32  </td> <td>32  </td> <td>AG  </td>\n",
       "        </tr>\n",
       "    </tbody>\n",
       "</table>\n",
       "<p>... (119 rows omitted)</p>"
      ],
      "text/plain": [
       "Age  | Yr   | Sex  | G21  | Corps | Res  | Greek | VarsAth | Honor | GPA  | Sleep | Caff | SitClass | AccDate | Friends | TxRel | Stress1 | Stress2 | CHS  | Thrill | Eat  | TypeA | Anx  | Opt  | SE   | Neuro | Perf | OCD  | Play | Extro | Narc | HSAF | HSSE | HSAG | HSSD | PHS\n",
       "21   | 2    | M    | Y    | Y     | 1    | N     | N       | N     | 3.23 | 3.5   | 2    | F        | N       | O       | 25    | 15      | 10      | 28   | 23     | 45   | 31    | 30   | 27   | 61   | 29    | 105  | 10   | 142  | 8     | 11   | 41   | 40   | 26   | 27   | SE\n",
       "20   | 3    | F    | N    | N     | 2    | Y     | N       | Y     | 3.95 | 5.5   | 1    | M        | Y       | E       | 15    | 13      | 11      | 29   | 25     | 32   | 32    | 37   | 23   | 60   | 44    | 105  | 3    | 172  | 16    | 11   | 46   | 52   | 26   | 33   | SE\n",
       "22   | 3    | M    | Y    | N     | 2    | N     | N       | N     | 3.06 | 8.5   | 1    | B        | Y       | E       | 23    | 8       | 15      | 30   | 27     | 14   | 25    | 24   | 27   | 62   | 17    | 73   | 1    | 134  | 15    | 11   | 48   | 42   | 44   | 29   | AG\n",
       "27   | 3    | F    | Y    | N     | 3    | N     | N       | N     | 2.84 | 7     | 1    | M        | N       | E       | 20    | 6       | 13      | 27   | 21     | 33   | 29    | 35   | 26   | 65   | 18    | 90   | 9    | 160  | 16    | 10   | 51   | 51   | 23   | 19   | SE\n",
       "24   | 3    | M    | Y    | N     | 2    | N     | N       | N     | 2.39 | 6     | 1    | F        | N       | E       | 25    | 6       | 18      | 24   | 30     | 43   | 31    | 27   | 29   | 65   | 11    | 95   | 5    | 166  | 14    | 10   | 56   | 46   | 27   | 20   | AF\n",
       "22   | 3    | F    | Y    | N     | 2    | Y     | N       | N     | 2.63 | 6.5   | 0    | F        | N       | E       | 18    | 17      | 12      | 16   | 26     | 39   | 31    | 34   | 20   | 68   | 43    | 114  | 20   | 133  | 10    | 9    | 40   | 27   | 31   | 28   | AG\n",
       "18   | 1    | M    | N    | Y     | 1    | N     | N       | N     | 3.17 | 6     | 3    | M        | Y       | E       | 23    | 18      | 14      | 29   | 26     | 21   | 36    | 40   | 26   | 64   | 16    | 49   | 20   | 114  | 10    | 9    | 56   | 45   | 41   | 38   | AG\n",
       "20   | 3    | F    | N    | N     | 1    | Y     | N       | N     | 3.3  | 10    | 0    | F        | Y       | E       | 22    | 16      | 17      | 29   | 17     | 42   | 32    | 41   | 21   | 50   | 45    | 142  | 17   | 168  | 16    | 9    | 55   | 45   | 24   | 29   | AF\n",
       "22   | 2    | F    | Y    | N     | 1    | N     | N       | N     | 3.02 | 3     | 6    | B        | N       | O       | 24    | 18      | 18      | 31   | 21     | 42   | 30    | 58   | 8    | 45   | 73    | 119  | 16   | 141  | 10    | 9    | 52   | 47   | 32   | 26   | SE\n",
       "20   | 3    | F    | N    | N     | 2    | Y     | N       | N     | 3.22 | 3     | 0    | M        | N       | E       | 20    | 14      | 14      | 20   | 18     | 42   | 36    | 43   | 17   | 60   | 54    | 117  | 16   | 136  | 5     | 9    | 34   | 32   | 32   | 32   | AG\n",
       "... (119 rows omitted)"
      ]
     },
     "execution_count": 4,
     "metadata": {},
     "output_type": "execute_result"
    }
   ],
   "source": [
    "pers"
   ]
  },
  {
   "cell_type": "code",
   "execution_count": 5,
   "metadata": {},
   "outputs": [],
   "source": [
    "narc = pers.select('Sex','Narc')"
   ]
  },
  {
   "cell_type": "markdown",
   "metadata": {},
   "source": [
    "The `nan` value indicates there is no value for that cell in the table. In this case, it's a survey item that went unanswered. The `numpy` function `nanmean` takes the average but ignores any `nan` values. In a clean table, we could just use `np.mean`, instead."
   ]
  },
  {
   "cell_type": "code",
   "execution_count": 6,
   "metadata": {},
   "outputs": [
    {
     "data": {
      "text/html": [
       "<table border=\"1\" class=\"dataframe\">\n",
       "    <thead>\n",
       "        <tr>\n",
       "            <th>Sex</th> <th>Narc nanmean</th>\n",
       "        </tr>\n",
       "    </thead>\n",
       "    <tbody>\n",
       "        <tr>\n",
       "            <td>F   </td> <td>3.94595     </td>\n",
       "        </tr>\n",
       "        <tr>\n",
       "            <td>M   </td> <td>5.69091     </td>\n",
       "        </tr>\n",
       "    </tbody>\n",
       "</table>"
      ],
      "text/plain": [
       "Sex  | Narc nanmean\n",
       "F    | 3.94595\n",
       "M    | 5.69091"
      ]
     },
     "execution_count": 6,
     "metadata": {},
     "output_type": "execute_result"
    }
   ],
   "source": [
    "narc.group('Sex', np.nanmean)"
   ]
  },
  {
   "cell_type": "code",
   "execution_count": 7,
   "metadata": {},
   "outputs": [
    {
     "name": "stderr",
     "output_type": "stream",
     "text": [
      "C:\\Users\\robbs\\anaconda3\\envs\\datasci\\lib\\site-packages\\datascience\\tables.py:920: VisibleDeprecationWarning: Creating an ndarray from ragged nested sequences (which is a list-or-tuple of lists-or-tuples-or ndarrays with different lengths or shapes) is deprecated. If you meant to do this, you must specify 'dtype=object' when creating the ndarray.\n",
      "  values = np.array(tuple(values))\n"
     ]
    },
    {
     "data": {
      "image/png": "[encoded data removed]",
      "text/plain": [
       "<Figure size 432x288 with 1 Axes>"
      ]
     },
     "metadata": {
      "filenames": {
       "image/png": "C:\\Users\\robbs\\Documents\\Conda\\GitBook\\stats\\_build\\jupyter_execute\\sb\\01_9_1.png"
      }
     },
     "output_type": "display_data"
    }
   ],
   "source": [
    "integer_bins = np.arange(15)\n",
    "narc.hist('Narc', group = \"Sex\", bins = integer_bins)\n",
    "_=plots.title('Narcissism by Sex')"
   ]
  },
  {
   "cell_type": "code",
   "execution_count": 8,
   "metadata": {},
   "outputs": [],
   "source": [
    "males_narcissism = narc.where('Sex',\"M\").column('Narc')"
   ]
  },
  {
   "cell_type": "code",
   "execution_count": 9,
   "metadata": {},
   "outputs": [],
   "source": [
    "females_narcissism = narc.where('Sex',\"F\").column('Narc')"
   ]
  },
  {
   "cell_type": "code",
   "execution_count": 10,
   "metadata": {},
   "outputs": [
    {
     "name": "stdout",
     "output_type": "stream",
     "text": [
      "The average narcissism level for males is 5.69 \r\n",
      " and the average narcissism level for females is 3.95\n"
     ]
    }
   ],
   "source": [
    "print('The average narcissism level for males is',\n",
    "      np.round(np.nanmean(males_narcissism),2),\n",
    "      \"\\r\\n\",\n",
    "      'and the average narcissism level for females is', \n",
    "      np.round(np.nanmean(females_narcissism),2)\n",
    "     )"
   ]
  },
  {
   "cell_type": "code",
   "execution_count": 11,
   "metadata": {},
   "outputs": [],
   "source": [
    "from scipy import stats"
   ]
  },
  {
   "cell_type": "code",
   "execution_count": 12,
   "metadata": {},
   "outputs": [
    {
     "data": {
      "text/plain": [
       "Ttest_indResult(statistic=3.741532206524153, pvalue=0.00027577173246558825)"
      ]
     },
     "execution_count": 12,
     "metadata": {},
     "output_type": "execute_result"
    }
   ],
   "source": [
    "stats.ttest_ind(males_narcissism, females_narcissism, axis=0, \n",
    "                equal_var=True, \n",
    "                nan_policy='omit', \n",
    "                alternative='two-sided')"
   ]
  }
 ],
 "metadata": {
  "kernelspec": {
   "display_name": "Python 3",
   "language": "python",
   "name": "python3"
  },
  "language_info": {
   "codemirror_mode": {
    "name": "ipython",
    "version": 3
   },
   "file_extension": ".py",
   "mimetype": "text/x-python",
   "name": "python",
   "nbconvert_exporter": "python",
   "pygments_lexer": "ipython3",
   "version": "3.7.6"
  }
 },
 "nbformat": 4,
 "nbformat_minor": 4
}