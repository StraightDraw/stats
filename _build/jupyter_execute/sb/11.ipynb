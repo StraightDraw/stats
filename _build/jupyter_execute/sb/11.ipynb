{
 "cells": [
  {
   "cell_type": "markdown",
   "metadata": {},
   "source": [
    "# 1.11 Narcissism, Perfectionism and A/B Testing"
   ]
  },
  {
   "cell_type": "code",
   "execution_count": 1,
   "metadata": {},
   "outputs": [],
   "source": [
    "from datascience import *\n",
    "import numpy as np\n",
    "\n",
    "%matplotlib inline\n",
    "\n",
    "import matplotlib.pyplot as plots\n",
    "plots.style.use('fivethirtyeight')\n",
    "\n",
    "from scipy import stats"
   ]
  },
  {
   "cell_type": "markdown",
   "metadata": {},
   "source": [
    "I keep some data frames in CSV format accessible from my website. One of them is called `personality.csv` and has, as you might imagine, personality variables. In this case, we are using a subset of the personality data with variables like perfectionsism, narcissism with grouping variables like biological sex and the `AccDate` variable which has Yes/No responses to the following question:\n",
    "\n",
    "\"At a time in your life when you are not involved with anyone, a person asks you out. This person has a great personality, but you do not find this person physically attractive. Do you accept the date?\""
   ]
  },
  {
   "cell_type": "code",
   "execution_count": 2,
   "metadata": {},
   "outputs": [
    {
     "data": {
      "text/plain": [
       "148"
      ]
     },
     "execution_count": 2,
     "metadata": {},
     "output_type": "execute_result"
    }
   ],
   "source": [
    "pers = Table.read_table('http://faculty.ung.edu/rsinn/perfnarc.csv')\n",
    "pers.num_rows"
   ]
  },
  {
   "cell_type": "code",
   "execution_count": 3,
   "metadata": {},
   "outputs": [
    {
     "data": {
      "text/plain": [
       "('Sex', 'G21', 'Greek', 'AccDate', 'Stress1', 'Stress2', 'Perf', 'Narc')"
      ]
     },
     "execution_count": 3,
     "metadata": {},
     "output_type": "execute_result"
    }
   ],
   "source": [
    "pers.labels"
   ]
  },
  {
   "cell_type": "code",
   "execution_count": 4,
   "metadata": {},
   "outputs": [
    {
     "data": {
      "text/html": [
       "<table border=\"1\" class=\"dataframe\">\n",
       "    <thead>\n",
       "        <tr>\n",
       "            <th>Sex</th> <th>G21</th> <th>Greek</th> <th>AccDate</th> <th>Stress1</th> <th>Stress2</th> <th>Perf</th> <th>Narc</th>\n",
       "        </tr>\n",
       "    </thead>\n",
       "    <tbody>\n",
       "        <tr>\n",
       "            <td>F   </td> <td>N   </td> <td>N    </td> <td>N      </td> <td>9      </td> <td>7      </td> <td>99  </td> <td>3   </td>\n",
       "        </tr>\n",
       "        <tr>\n",
       "            <td>F   </td> <td>Y   </td> <td>N    </td> <td>Y      </td> <td>11     </td> <td>13     </td> <td>86  </td> <td>2   </td>\n",
       "        </tr>\n",
       "        <tr>\n",
       "            <td>F   </td> <td>N   </td> <td>Y    </td> <td>N      </td> <td>15     </td> <td>14     </td> <td>118 </td> <td>4   </td>\n",
       "        </tr>\n",
       "        <tr>\n",
       "            <td>F   </td> <td>N   </td> <td>N    </td> <td>Y      </td> <td>16     </td> <td>15     </td> <td>113 </td> <td>2   </td>\n",
       "        </tr>\n",
       "        <tr>\n",
       "            <td>F   </td> <td>Y   </td> <td>N    </td> <td>Y      </td> <td>17     </td> <td>17     </td> <td>107 </td> <td>8   </td>\n",
       "        </tr>\n",
       "        <tr>\n",
       "            <td>F   </td> <td>N   </td> <td>N    </td> <td>N      </td> <td>10     </td> <td>7      </td> <td>123 </td> <td>1   </td>\n",
       "        </tr>\n",
       "        <tr>\n",
       "            <td>F   </td> <td>N   </td> <td>N    </td> <td>N      </td> <td>16     </td> <td>18     </td> <td>93  </td> <td>4   </td>\n",
       "        </tr>\n",
       "        <tr>\n",
       "            <td>F   </td> <td>N   </td> <td>Y    </td> <td>Y      </td> <td>12     </td> <td>12     </td> <td>126 </td> <td>7   </td>\n",
       "        </tr>\n",
       "        <tr>\n",
       "            <td>F   </td> <td>N   </td> <td>N    </td> <td>Y      </td> <td>11     </td> <td>16     </td> <td>91  </td> <td>5   </td>\n",
       "        </tr>\n",
       "        <tr>\n",
       "            <td>F   </td> <td>Y   </td> <td>N    </td> <td>Y      </td> <td>18     </td> <td>16     </td> <td>111 </td> <td>1   </td>\n",
       "        </tr>\n",
       "    </tbody>\n",
       "</table>\n",
       "<p>... (138 rows omitted)</p>"
      ],
      "text/plain": [
       "Sex  | G21  | Greek | AccDate | Stress1 | Stress2 | Perf | Narc\n",
       "F    | N    | N     | N       | 9       | 7       | 99   | 3\n",
       "F    | Y    | N     | Y       | 11      | 13      | 86   | 2\n",
       "F    | N    | Y     | N       | 15      | 14      | 118  | 4\n",
       "F    | N    | N     | Y       | 16      | 15      | 113  | 2\n",
       "F    | Y    | N     | Y       | 17      | 17      | 107  | 8\n",
       "F    | N    | N     | N       | 10      | 7       | 123  | 1\n",
       "F    | N    | N     | N       | 16      | 18      | 93   | 4\n",
       "F    | N    | Y     | Y       | 12      | 12      | 126  | 7\n",
       "F    | N    | N     | Y       | 11      | 16      | 91   | 5\n",
       "F    | Y    | N     | Y       | 18      | 16      | 111  | 1\n",
       "... (138 rows omitted)"
      ]
     },
     "execution_count": 4,
     "metadata": {},
     "output_type": "execute_result"
    }
   ],
   "source": [
    "pers"
   ]
  },
  {
   "cell_type": "code",
   "execution_count": 5,
   "metadata": {},
   "outputs": [],
   "source": [
    "narc = pers.select('Sex','Narc')"
   ]
  },
  {
   "cell_type": "markdown",
   "metadata": {},
   "source": [
    "The `nan` value indicates there is no value for that cell in the table. In this case, it's a survey item that went unanswered. The `numpy` function `nanmean` takes the average but ignores any `nan` values. In a clean table, we could just use `np.mean`, instead."
   ]
  },
  {
   "cell_type": "code",
   "execution_count": 6,
   "metadata": {},
   "outputs": [
    {
     "data": {
      "text/html": [
       "<table border=\"1\" class=\"dataframe\">\n",
       "    <thead>\n",
       "        <tr>\n",
       "            <th>Sex</th> <th>Narc average</th>\n",
       "        </tr>\n",
       "    </thead>\n",
       "    <tbody>\n",
       "        <tr>\n",
       "            <td>F   </td> <td>3.81176     </td>\n",
       "        </tr>\n",
       "        <tr>\n",
       "            <td>M   </td> <td>5.57143     </td>\n",
       "        </tr>\n",
       "    </tbody>\n",
       "</table>"
      ],
      "text/plain": [
       "Sex  | Narc average\n",
       "F    | 3.81176\n",
       "M    | 5.57143"
      ]
     },
     "execution_count": 6,
     "metadata": {},
     "output_type": "execute_result"
    }
   ],
   "source": [
    "narc.group('Sex', np.average)"
   ]
  },
  {
   "cell_type": "code",
   "execution_count": 7,
   "metadata": {},
   "outputs": [
    {
     "data": {
      "text/plain": [
       "3.8117647058823527"
      ]
     },
     "execution_count": 7,
     "metadata": {},
     "output_type": "execute_result"
    }
   ],
   "source": [
    "a_mean = narc.group(0,np.average).column(1).item(0)\n",
    "a_mean"
   ]
  },
  {
   "cell_type": "code",
   "execution_count": 8,
   "metadata": {},
   "outputs": [
    {
     "data": {
      "text/plain": [
       "5.571428571428571"
      ]
     },
     "execution_count": 8,
     "metadata": {},
     "output_type": "execute_result"
    }
   ],
   "source": [
    "b_mean = narc.group(0,np.average).column(1).item(1)\n",
    "b_mean"
   ]
  },
  {
   "cell_type": "code",
   "execution_count": 9,
   "metadata": {},
   "outputs": [
    {
     "data": {
      "text/plain": [
       "-1.7596638655462185"
      ]
     },
     "execution_count": 9,
     "metadata": {},
     "output_type": "execute_result"
    }
   ],
   "source": [
    "observed_difference = a_mean - b_mean\n",
    "observed_difference"
   ]
  },
  {
   "cell_type": "code",
   "execution_count": 10,
   "metadata": {},
   "outputs": [
    {
     "name": "stderr",
     "output_type": "stream",
     "text": [
      "C:\\Users\\robbs\\anaconda3\\envs\\datasci\\lib\\site-packages\\datascience\\tables.py:920: VisibleDeprecationWarning: Creating an ndarray from ragged nested sequences (which is a list-or-tuple of lists-or-tuples-or ndarrays with different lengths or shapes) is deprecated. If you meant to do this, you must specify 'dtype=object' when creating the ndarray.\n",
      "  values = np.array(tuple(values))\n"
     ]
    },
    {
     "data": {
      "image/png": "[encoded data removed]",
      "text/plain": [
       "<Figure size 432x288 with 1 Axes>"
      ]
     },
     "metadata": {
      "filenames": {
       "image/png": "C:\\Users\\robbs\\Documents\\Conda\\GitBook\\stats\\_build\\jupyter_execute\\sb\\11_12_1.png"
      }
     },
     "output_type": "display_data"
    }
   ],
   "source": [
    "integer_bins = np.arange(15)\n",
    "narc.hist('Narc', group = \"Sex\", bins = integer_bins)\n",
    "_=plots.title('Narcissism by Sex')"
   ]
  },
  {
   "cell_type": "markdown",
   "metadata": {},
   "source": [
    "## An A/B Test for differences in narcissism based on biological sex."
   ]
  },
  {
   "cell_type": "markdown",
   "metadata": {},
   "source": [
    "Notice that we simplify to the `narc` table which has only two columns, a grouping variable (Male/Female) and a numeric variable (narcissism score)."
   ]
  },
  {
   "cell_type": "code",
   "execution_count": 11,
   "metadata": {},
   "outputs": [
    {
     "data": {
      "text/html": [
       "<table border=\"1\" class=\"dataframe\">\n",
       "    <thead>\n",
       "        <tr>\n",
       "            <th>Sex</th> <th>Narc</th>\n",
       "        </tr>\n",
       "    </thead>\n",
       "    <tbody>\n",
       "        <tr>\n",
       "            <td>F   </td> <td>3   </td>\n",
       "        </tr>\n",
       "        <tr>\n",
       "            <td>F   </td> <td>2   </td>\n",
       "        </tr>\n",
       "        <tr>\n",
       "            <td>F   </td> <td>4   </td>\n",
       "        </tr>\n",
       "        <tr>\n",
       "            <td>F   </td> <td>2   </td>\n",
       "        </tr>\n",
       "        <tr>\n",
       "            <td>F   </td> <td>8   </td>\n",
       "        </tr>\n",
       "        <tr>\n",
       "            <td>F   </td> <td>1   </td>\n",
       "        </tr>\n",
       "        <tr>\n",
       "            <td>F   </td> <td>4   </td>\n",
       "        </tr>\n",
       "        <tr>\n",
       "            <td>F   </td> <td>7   </td>\n",
       "        </tr>\n",
       "        <tr>\n",
       "            <td>F   </td> <td>5   </td>\n",
       "        </tr>\n",
       "        <tr>\n",
       "            <td>F   </td> <td>1   </td>\n",
       "        </tr>\n",
       "    </tbody>\n",
       "</table>\n",
       "<p>... (138 rows omitted)</p>"
      ],
      "text/plain": [
       "Sex  | Narc\n",
       "F    | 3\n",
       "F    | 2\n",
       "F    | 4\n",
       "F    | 2\n",
       "F    | 8\n",
       "F    | 1\n",
       "F    | 4\n",
       "F    | 7\n",
       "F    | 5\n",
       "F    | 1\n",
       "... (138 rows omitted)"
      ]
     },
     "execution_count": 11,
     "metadata": {},
     "output_type": "execute_result"
    }
   ],
   "source": [
    "narc"
   ]
  },
  {
   "cell_type": "markdown",
   "metadata": {},
   "source": [
    "## Let's shuffle the labels in the grouping variable column"
   ]
  },
  {
   "cell_type": "code",
   "execution_count": 12,
   "metadata": {},
   "outputs": [
    {
     "data": {
      "text/plain": [
       "array(['F', 'F', 'F', 'M', 'F', 'F', 'M', 'M', 'F', 'F', 'F', 'F', 'F',\n",
       "       'F', 'F', 'F', 'M', 'M', 'F', 'M', 'M', 'F', 'F', 'F', 'F', 'M',\n",
       "       'M', 'M', 'F', 'M', 'M', 'F', 'M', 'F', 'F', 'F', 'F', 'M', 'F',\n",
       "       'M', 'F', 'M', 'F', 'M', 'F', 'M', 'M', 'F', 'F', 'M', 'M', 'F',\n",
       "       'M', 'M', 'M', 'M', 'M', 'M', 'F', 'M', 'F', 'M', 'F', 'F', 'F',\n",
       "       'M', 'M', 'F', 'M', 'M', 'F', 'F', 'F', 'F', 'M', 'F', 'M', 'F',\n",
       "       'F', 'F', 'F', 'M', 'F', 'M', 'F', 'F', 'F', 'F', 'M', 'F', 'F',\n",
       "       'F', 'M', 'F', 'M', 'M', 'M', 'M', 'F', 'M', 'F', 'F', 'F', 'M',\n",
       "       'F', 'M', 'F', 'M', 'F', 'M', 'M', 'F', 'F', 'M', 'F', 'F', 'F',\n",
       "       'F', 'F', 'M', 'M', 'F', 'F', 'F', 'M', 'F', 'M', 'F', 'F', 'M',\n",
       "       'M', 'F', 'F', 'M', 'M', 'M', 'M', 'F', 'M', 'M', 'F', 'F', 'F',\n",
       "       'F', 'F', 'M', 'F', 'F'], dtype='<U1')"
      ]
     },
     "execution_count": 12,
     "metadata": {},
     "output_type": "execute_result"
    }
   ],
   "source": [
    "shuffle_sex = narc.sample(with_replacement = False).column(0)\n",
    "shuffle_sex"
   ]
  },
  {
   "cell_type": "code",
   "execution_count": 13,
   "metadata": {},
   "outputs": [
    {
     "data": {
      "text/html": [
       "<table border=\"1\" class=\"dataframe\">\n",
       "    <thead>\n",
       "        <tr>\n",
       "            <th>Shuffled Grouping</th> <th>Narc</th>\n",
       "        </tr>\n",
       "    </thead>\n",
       "    <tbody>\n",
       "        <tr>\n",
       "            <td>F                </td> <td>3   </td>\n",
       "        </tr>\n",
       "        <tr>\n",
       "            <td>F                </td> <td>2   </td>\n",
       "        </tr>\n",
       "        <tr>\n",
       "            <td>F                </td> <td>4   </td>\n",
       "        </tr>\n",
       "        <tr>\n",
       "            <td>M                </td> <td>2   </td>\n",
       "        </tr>\n",
       "        <tr>\n",
       "            <td>F                </td> <td>8   </td>\n",
       "        </tr>\n",
       "        <tr>\n",
       "            <td>F                </td> <td>1   </td>\n",
       "        </tr>\n",
       "        <tr>\n",
       "            <td>M                </td> <td>4   </td>\n",
       "        </tr>\n",
       "        <tr>\n",
       "            <td>M                </td> <td>7   </td>\n",
       "        </tr>\n",
       "        <tr>\n",
       "            <td>F                </td> <td>5   </td>\n",
       "        </tr>\n",
       "        <tr>\n",
       "            <td>F                </td> <td>1   </td>\n",
       "        </tr>\n",
       "    </tbody>\n",
       "</table>\n",
       "<p>... (138 rows omitted)</p>"
      ],
      "text/plain": [
       "Shuffled Grouping | Narc\n",
       "F                 | 3\n",
       "F                 | 2\n",
       "F                 | 4\n",
       "M                 | 2\n",
       "F                 | 8\n",
       "F                 | 1\n",
       "M                 | 4\n",
       "M                 | 7\n",
       "F                 | 5\n",
       "F                 | 1\n",
       "... (138 rows omitted)"
      ]
     },
     "execution_count": 13,
     "metadata": {},
     "output_type": "execute_result"
    }
   ],
   "source": [
    "shuffled_narc = narc.with_column(\"Shuffled Grouping\",shuffle_sex).select(2,1)\n",
    "shuffled_narc"
   ]
  },
  {
   "cell_type": "code",
   "execution_count": 14,
   "metadata": {},
   "outputs": [
    {
     "data": {
      "text/html": [
       "<table border=\"1\" class=\"dataframe\">\n",
       "    <thead>\n",
       "        <tr>\n",
       "            <th>Shuffled Grouping</th> <th>Narc average</th>\n",
       "        </tr>\n",
       "    </thead>\n",
       "    <tbody>\n",
       "        <tr>\n",
       "            <td>F                </td> <td>4.27059     </td>\n",
       "        </tr>\n",
       "        <tr>\n",
       "            <td>M                </td> <td>4.95238     </td>\n",
       "        </tr>\n",
       "    </tbody>\n",
       "</table>"
      ],
      "text/plain": [
       "Shuffled Grouping | Narc average\n",
       "F                 | 4.27059\n",
       "M                 | 4.95238"
      ]
     },
     "execution_count": 14,
     "metadata": {},
     "output_type": "execute_result"
    }
   ],
   "source": [
    "shuffled_narc.group('Shuffled Grouping',np.average)"
   ]
  },
  {
   "cell_type": "markdown",
   "metadata": {},
   "source": [
    "### Create a function that produces a random shuffle of the grouping variable column"
   ]
  },
  {
   "cell_type": "markdown",
   "metadata": {},
   "source": [
    "We're copy-pasting the code from the previous 3-4 code blocks to make our function, and using the generic name `tab` for our data table."
   ]
  },
  {
   "cell_type": "code",
   "execution_count": 15,
   "metadata": {},
   "outputs": [
    {
     "data": {
      "text/html": [
       "<table border=\"1\" class=\"dataframe\">\n",
       "    <thead>\n",
       "        <tr>\n",
       "            <th>Shuffled Grouping</th> <th>Narc</th>\n",
       "        </tr>\n",
       "    </thead>\n",
       "    <tbody>\n",
       "        <tr>\n",
       "            <td>M                </td> <td>3   </td>\n",
       "        </tr>\n",
       "        <tr>\n",
       "            <td>M                </td> <td>2   </td>\n",
       "        </tr>\n",
       "        <tr>\n",
       "            <td>M                </td> <td>4   </td>\n",
       "        </tr>\n",
       "        <tr>\n",
       "            <td>F                </td> <td>2   </td>\n",
       "        </tr>\n",
       "        <tr>\n",
       "            <td>F                </td> <td>8   </td>\n",
       "        </tr>\n",
       "        <tr>\n",
       "            <td>M                </td> <td>1   </td>\n",
       "        </tr>\n",
       "        <tr>\n",
       "            <td>F                </td> <td>4   </td>\n",
       "        </tr>\n",
       "        <tr>\n",
       "            <td>F                </td> <td>7   </td>\n",
       "        </tr>\n",
       "        <tr>\n",
       "            <td>F                </td> <td>5   </td>\n",
       "        </tr>\n",
       "        <tr>\n",
       "            <td>F                </td> <td>1   </td>\n",
       "        </tr>\n",
       "    </tbody>\n",
       "</table>\n",
       "<p>... (138 rows omitted)</p>"
      ],
      "text/plain": [
       "Shuffled Grouping | Narc\n",
       "M                 | 3\n",
       "M                 | 2\n",
       "M                 | 4\n",
       "F                 | 2\n",
       "F                 | 8\n",
       "M                 | 1\n",
       "F                 | 4\n",
       "F                 | 7\n",
       "F                 | 5\n",
       "F                 | 1\n",
       "... (138 rows omitted)"
      ]
     },
     "execution_count": 15,
     "metadata": {},
     "output_type": "execute_result"
    }
   ],
   "source": [
    "def ab_shuffle(tab):\n",
    "    shuffle_group = tab.sample(with_replacement = False).column(0)\n",
    "    shuffled_tab = tab.with_column(\"Shuffled Grouping\",shuffle_group).select(2,1)\n",
    "    return shuffled_tab\n",
    "\n",
    "ab_shuffle(narc)"
   ]
  },
  {
   "cell_type": "markdown",
   "metadata": {},
   "source": [
    "### Function that calculates difference in means between shuffled A/B groups"
   ]
  },
  {
   "cell_type": "markdown",
   "metadata": {},
   "source": [
    "From above, we were using the `.group` method to find our group means."
   ]
  },
  {
   "cell_type": "code",
   "execution_count": 16,
   "metadata": {},
   "outputs": [
    {
     "data": {
      "text/html": [
       "<table border=\"1\" class=\"dataframe\">\n",
       "    <thead>\n",
       "        <tr>\n",
       "            <th>Shuffled Grouping</th> <th>Narc average</th>\n",
       "        </tr>\n",
       "    </thead>\n",
       "    <tbody>\n",
       "        <tr>\n",
       "            <td>F                </td> <td>4.27059     </td>\n",
       "        </tr>\n",
       "        <tr>\n",
       "            <td>M                </td> <td>4.95238     </td>\n",
       "        </tr>\n",
       "    </tbody>\n",
       "</table>"
      ],
      "text/plain": [
       "Shuffled Grouping | Narc average\n",
       "F                 | 4.27059\n",
       "M                 | 4.95238"
      ]
     },
     "execution_count": 16,
     "metadata": {},
     "output_type": "execute_result"
    }
   ],
   "source": [
    "shuffled_narc.group('Shuffled Grouping',np.average)"
   ]
  },
  {
   "cell_type": "code",
   "execution_count": 17,
   "metadata": {},
   "outputs": [
    {
     "data": {
      "text/plain": [
       "4.270588235294118"
      ]
     },
     "execution_count": 17,
     "metadata": {},
     "output_type": "execute_result"
    }
   ],
   "source": [
    "a_mean = shuffled_narc.group('Shuffled Grouping',np.average).column(1).item(0)\n",
    "a_mean"
   ]
  },
  {
   "cell_type": "code",
   "execution_count": 18,
   "metadata": {},
   "outputs": [
    {
     "data": {
      "text/plain": [
       "4.9523809523809526"
      ]
     },
     "execution_count": 18,
     "metadata": {},
     "output_type": "execute_result"
    }
   ],
   "source": [
    "b_mean = shuffled_narc.group('Shuffled Grouping',np.average).column(1).item(1)\n",
    "b_mean"
   ]
  },
  {
   "cell_type": "code",
   "execution_count": 19,
   "metadata": {},
   "outputs": [
    {
     "data": {
      "text/plain": [
       "-0.681792717086835"
      ]
     },
     "execution_count": 19,
     "metadata": {},
     "output_type": "execute_result"
    }
   ],
   "source": [
    "diff = a_mean - b_mean\n",
    "diff"
   ]
  },
  {
   "cell_type": "markdown",
   "metadata": {},
   "source": [
    "We can see that we need to accept a generic two-column table where the grouping variable is listed first. Then we can use the above 3-4 to create our function."
   ]
  },
  {
   "cell_type": "code",
   "execution_count": 20,
   "metadata": {},
   "outputs": [
    {
     "data": {
      "text/plain": [
       "-0.681792717086835"
      ]
     },
     "execution_count": 20,
     "metadata": {},
     "output_type": "execute_result"
    }
   ],
   "source": [
    "def ab_diff(tab):\n",
    "    tab.group(0,np.average)\n",
    "    a_mean = tab.group(0,np.average).column(1).item(0)\n",
    "    b_mean = tab.group(0,np.average).column(1).item(1)\n",
    "    return a_mean - b_mean\n",
    "\n",
    "ab_diff(shuffled_narc)"
   ]
  },
  {
   "cell_type": "markdown",
   "metadata": {},
   "source": [
    "### Run simulation lots of times"
   ]
  },
  {
   "cell_type": "code",
   "execution_count": 21,
   "metadata": {},
   "outputs": [],
   "source": [
    "diffs = make_array()\n",
    "\n",
    "reps = 1000\n",
    "\n",
    "for i in range(reps):\n",
    "    shuffled_tab = ab_shuffle(narc)\n",
    "    new_diff = ab_diff(shuffled_tab)\n",
    "    diffs = np.append(diffs, new_diff)\n",
    "    \n",
    "# diffs"
   ]
  },
  {
   "cell_type": "code",
   "execution_count": 22,
   "metadata": {},
   "outputs": [
    {
     "data": {
      "image/png": "[encoded data removed]",
      "text/plain": [
       "<Figure size 432x288 with 1 Axes>"
      ]
     },
     "metadata": {
      "filenames": {
       "image/png": "C:\\Users\\robbs\\Documents\\Conda\\GitBook\\stats\\_build\\jupyter_execute\\sb\\11_33_0.png"
      }
     },
     "output_type": "display_data"
    }
   ],
   "source": [
    "def ab_hist(myArray, obs_diff):\n",
    "    tab = Table().with_column('A/B Differencs',myArray)\n",
    "    tab.hist(0)\n",
    "    _ = plots.plot([obs_diff, obs_diff], [0, 0.1], color='red', lw=2)\n",
    "\n",
    "ab_hist(diffs,observed_difference)"
   ]
  },
  {
   "cell_type": "markdown",
   "metadata": {},
   "source": [
    "Create a truth array for the number of randomized A/B differences in means that were less than the `observed_difference`"
   ]
  },
  {
   "cell_type": "code",
   "execution_count": 23,
   "metadata": {},
   "outputs": [
    {
     "data": {
      "text/plain": [
       "0"
      ]
     },
     "execution_count": 23,
     "metadata": {},
     "output_type": "execute_result"
    }
   ],
   "source": [
    "sum(diffs <= observed_difference)"
   ]
  },
  {
   "cell_type": "code",
   "execution_count": 24,
   "metadata": {},
   "outputs": [
    {
     "data": {
      "text/plain": [
       "0.0"
      ]
     },
     "execution_count": 24,
     "metadata": {},
     "output_type": "execute_result"
    }
   ],
   "source": [
    "p_val = sum(diffs <= observed_difference) / reps\n",
    "p_val"
   ]
  },
  {
   "cell_type": "markdown",
   "metadata": {},
   "source": [
    "## Example with perfectionism"
   ]
  },
  {
   "cell_type": "code",
   "execution_count": 25,
   "metadata": {},
   "outputs": [
    {
     "data": {
      "text/html": [
       "<table border=\"1\" class=\"dataframe\">\n",
       "    <thead>\n",
       "        <tr>\n",
       "            <th>Sex</th> <th>Perf</th>\n",
       "        </tr>\n",
       "    </thead>\n",
       "    <tbody>\n",
       "        <tr>\n",
       "            <td>F   </td> <td>99  </td>\n",
       "        </tr>\n",
       "        <tr>\n",
       "            <td>F   </td> <td>86  </td>\n",
       "        </tr>\n",
       "        <tr>\n",
       "            <td>F   </td> <td>118 </td>\n",
       "        </tr>\n",
       "        <tr>\n",
       "            <td>F   </td> <td>113 </td>\n",
       "        </tr>\n",
       "        <tr>\n",
       "            <td>F   </td> <td>107 </td>\n",
       "        </tr>\n",
       "        <tr>\n",
       "            <td>F   </td> <td>123 </td>\n",
       "        </tr>\n",
       "        <tr>\n",
       "            <td>F   </td> <td>93  </td>\n",
       "        </tr>\n",
       "        <tr>\n",
       "            <td>F   </td> <td>126 </td>\n",
       "        </tr>\n",
       "        <tr>\n",
       "            <td>F   </td> <td>91  </td>\n",
       "        </tr>\n",
       "        <tr>\n",
       "            <td>F   </td> <td>111 </td>\n",
       "        </tr>\n",
       "    </tbody>\n",
       "</table>\n",
       "<p>... (138 rows omitted)</p>"
      ],
      "text/plain": [
       "Sex  | Perf\n",
       "F    | 99\n",
       "F    | 86\n",
       "F    | 118\n",
       "F    | 113\n",
       "F    | 107\n",
       "F    | 123\n",
       "F    | 93\n",
       "F    | 126\n",
       "F    | 91\n",
       "F    | 111\n",
       "... (138 rows omitted)"
      ]
     },
     "execution_count": 25,
     "metadata": {},
     "output_type": "execute_result"
    }
   ],
   "source": [
    "perf = pers.select('Sex','Perf')\n",
    "perf"
   ]
  },
  {
   "cell_type": "code",
   "execution_count": 26,
   "metadata": {},
   "outputs": [
    {
     "data": {
      "text/plain": [
       "2.5915966386554743"
      ]
     },
     "execution_count": 26,
     "metadata": {},
     "output_type": "execute_result"
    }
   ],
   "source": [
    "obs_diff_perf = ab_diff(perf)\n",
    "obs_diff_perf"
   ]
  },
  {
   "cell_type": "code",
   "execution_count": 27,
   "metadata": {},
   "outputs": [
    {
     "data": {
      "text/html": [
       "<table border=\"1\" class=\"dataframe\">\n",
       "    <thead>\n",
       "        <tr>\n",
       "            <th>Shuffled Grouping</th> <th>Perf</th>\n",
       "        </tr>\n",
       "    </thead>\n",
       "    <tbody>\n",
       "        <tr>\n",
       "            <td>M                </td> <td>99  </td>\n",
       "        </tr>\n",
       "        <tr>\n",
       "            <td>F                </td> <td>86  </td>\n",
       "        </tr>\n",
       "        <tr>\n",
       "            <td>F                </td> <td>118 </td>\n",
       "        </tr>\n",
       "        <tr>\n",
       "            <td>F                </td> <td>113 </td>\n",
       "        </tr>\n",
       "        <tr>\n",
       "            <td>F                </td> <td>107 </td>\n",
       "        </tr>\n",
       "        <tr>\n",
       "            <td>F                </td> <td>123 </td>\n",
       "        </tr>\n",
       "        <tr>\n",
       "            <td>M                </td> <td>93  </td>\n",
       "        </tr>\n",
       "        <tr>\n",
       "            <td>F                </td> <td>126 </td>\n",
       "        </tr>\n",
       "        <tr>\n",
       "            <td>M                </td> <td>91  </td>\n",
       "        </tr>\n",
       "        <tr>\n",
       "            <td>F                </td> <td>111 </td>\n",
       "        </tr>\n",
       "    </tbody>\n",
       "</table>\n",
       "<p>... (138 rows omitted)</p>"
      ],
      "text/plain": [
       "Shuffled Grouping | Perf\n",
       "M                 | 99\n",
       "F                 | 86\n",
       "F                 | 118\n",
       "F                 | 113\n",
       "F                 | 107\n",
       "F                 | 123\n",
       "M                 | 93\n",
       "F                 | 126\n",
       "M                 | 91\n",
       "F                 | 111\n",
       "... (138 rows omitted)"
      ]
     },
     "execution_count": 27,
     "metadata": {},
     "output_type": "execute_result"
    }
   ],
   "source": [
    "ab_shuffle(perf)"
   ]
  },
  {
   "cell_type": "code",
   "execution_count": 28,
   "metadata": {},
   "outputs": [
    {
     "data": {
      "text/plain": [
       "2.315219421101773"
      ]
     },
     "execution_count": 28,
     "metadata": {},
     "output_type": "execute_result"
    }
   ],
   "source": [
    "ab_diff(ab_shuffle(perf))"
   ]
  },
  {
   "cell_type": "code",
   "execution_count": 29,
   "metadata": {},
   "outputs": [],
   "source": [
    "perf_diffs = make_array()\n",
    "\n",
    "reps = 1000\n",
    "\n",
    "for i in range(reps):\n",
    "    new_diff = ab_diff(ab_shuffle(perf))\n",
    "    perf_diffs = np.append(perf_diffs, new_diff)\n",
    "\n",
    "# perf_diffs    "
   ]
  },
  {
   "cell_type": "code",
   "execution_count": 30,
   "metadata": {},
   "outputs": [
    {
     "data": {
      "image/png": "[encoded data removed]",
      "text/plain": [
       "<Figure size 432x288 with 1 Axes>"
      ]
     },
     "metadata": {
      "filenames": {
       "image/png": "C:\\Users\\robbs\\Documents\\Conda\\GitBook\\stats\\_build\\jupyter_execute\\sb\\11_43_0.png"
      }
     },
     "output_type": "display_data"
    }
   ],
   "source": [
    "ab_hist(perf_diffs,obs_diff_perf)"
   ]
  },
  {
   "cell_type": "code",
   "execution_count": 31,
   "metadata": {},
   "outputs": [
    {
     "data": {
      "text/plain": [
       "0.203"
      ]
     },
     "execution_count": 31,
     "metadata": {},
     "output_type": "execute_result"
    }
   ],
   "source": [
    "p_value = sum(perf_diffs >= obs_diff_perf) / reps \n",
    "p_value"
   ]
  },
  {
   "cell_type": "code",
   "execution_count": null,
   "metadata": {},
   "outputs": [],
   "source": []
  }
 ],
 "metadata": {
  "kernelspec": {
   "display_name": "Python 3",
   "language": "python",
   "name": "python3"
  },
  "language_info": {
   "codemirror_mode": {
    "name": "ipython",
    "version": 3
   },
   "file_extension": ".py",
   "mimetype": "text/x-python",
   "name": "python",
   "nbconvert_exporter": "python",
   "pygments_lexer": "ipython3",
   "version": "3.7.6"
  }
 },
 "nbformat": 4,
 "nbformat_minor": 4
}