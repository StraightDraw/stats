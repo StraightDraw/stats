{
 "cells": [
  {
   "cell_type": "markdown",
   "metadata": {},
   "source": [
    "# 1. A/B Testing Tools"
   ]
  },
  {
   "cell_type": "code",
   "execution_count": 1,
   "metadata": {},
   "outputs": [],
   "source": [
    "from datascience import *\n",
    "import numpy as np\n",
    "\n",
    "%matplotlib inline\n",
    "\n",
    "import matplotlib.pyplot as plots\n",
    "plots.style.use('fivethirtyeight')\n",
    "\n",
    "from scipy import stats"
   ]
  },
  {
   "cell_type": "markdown",
   "metadata": {},
   "source": [
    "I keep some data frames in CSV format accessible from my website. One of them is called `personality.csv` and has, as you might imagine, personality variables. In this case, we are using a subset of the personality data with variables like perfectionsism, narcissism with grouping variables like biological sex and the `AccDate` variable which has Yes/No responses to the following question:\n",
    "\n",
    "\"At a time in your life when you are not involved with anyone, a person asks you out. This person has a great personality, but you do not find this person physically attractive. Do you accept the date?\"\n",
    "\n",
    "The Stress1 and Stress2 variables are pre-post data collected from the 2nd week and 7th week of the semester respectively to see if college students experience more stress during midterms."
   ]
  },
  {
   "cell_type": "code",
   "execution_count": 2,
   "metadata": {},
   "outputs": [
    {
     "data": {
      "text/html": [
       "<table border=\"1\" class=\"dataframe\">\n",
       "    <thead>\n",
       "        <tr>\n",
       "            <th>Sex</th> <th>G21</th> <th>Greek</th> <th>AccDate</th> <th>Stress1</th> <th>Stress2</th> <th>Perf</th> <th>Narc</th>\n",
       "        </tr>\n",
       "    </thead>\n",
       "    <tbody>\n",
       "        <tr>\n",
       "            <td>F   </td> <td>N   </td> <td>N    </td> <td>N      </td> <td>9      </td> <td>7      </td> <td>99  </td> <td>3   </td>\n",
       "        </tr>\n",
       "        <tr>\n",
       "            <td>F   </td> <td>Y   </td> <td>N    </td> <td>Y      </td> <td>11     </td> <td>13     </td> <td>86  </td> <td>2   </td>\n",
       "        </tr>\n",
       "        <tr>\n",
       "            <td>F   </td> <td>N   </td> <td>Y    </td> <td>N      </td> <td>15     </td> <td>14     </td> <td>118 </td> <td>4   </td>\n",
       "        </tr>\n",
       "        <tr>\n",
       "            <td>F   </td> <td>N   </td> <td>N    </td> <td>Y      </td> <td>16     </td> <td>15     </td> <td>113 </td> <td>2   </td>\n",
       "        </tr>\n",
       "        <tr>\n",
       "            <td>F   </td> <td>Y   </td> <td>N    </td> <td>Y      </td> <td>17     </td> <td>17     </td> <td>107 </td> <td>8   </td>\n",
       "        </tr>\n",
       "        <tr>\n",
       "            <td>F   </td> <td>N   </td> <td>N    </td> <td>N      </td> <td>10     </td> <td>7      </td> <td>123 </td> <td>1   </td>\n",
       "        </tr>\n",
       "        <tr>\n",
       "            <td>F   </td> <td>N   </td> <td>N    </td> <td>N      </td> <td>16     </td> <td>18     </td> <td>93  </td> <td>4   </td>\n",
       "        </tr>\n",
       "        <tr>\n",
       "            <td>F   </td> <td>N   </td> <td>Y    </td> <td>Y      </td> <td>12     </td> <td>12     </td> <td>126 </td> <td>7   </td>\n",
       "        </tr>\n",
       "        <tr>\n",
       "            <td>F   </td> <td>N   </td> <td>N    </td> <td>Y      </td> <td>11     </td> <td>16     </td> <td>91  </td> <td>5   </td>\n",
       "        </tr>\n",
       "        <tr>\n",
       "            <td>F   </td> <td>Y   </td> <td>N    </td> <td>Y      </td> <td>18     </td> <td>16     </td> <td>111 </td> <td>1   </td>\n",
       "        </tr>\n",
       "    </tbody>\n",
       "</table>\n",
       "<p>... (138 rows omitted)</p>"
      ],
      "text/plain": [
       "Sex  | G21  | Greek | AccDate | Stress1 | Stress2 | Perf | Narc\n",
       "F    | N    | N     | N       | 9       | 7       | 99   | 3\n",
       "F    | Y    | N     | Y       | 11      | 13      | 86   | 2\n",
       "F    | N    | Y     | N       | 15      | 14      | 118  | 4\n",
       "F    | N    | N     | Y       | 16      | 15      | 113  | 2\n",
       "F    | Y    | N     | Y       | 17      | 17      | 107  | 8\n",
       "F    | N    | N     | N       | 10      | 7       | 123  | 1\n",
       "F    | N    | N     | N       | 16      | 18      | 93   | 4\n",
       "F    | N    | Y     | Y       | 12      | 12      | 126  | 7\n",
       "F    | N    | N     | Y       | 11      | 16      | 91   | 5\n",
       "F    | Y    | N     | Y       | 18      | 16      | 111  | 1\n",
       "... (138 rows omitted)"
      ]
     },
     "execution_count": 2,
     "metadata": {},
     "output_type": "execute_result"
    }
   ],
   "source": [
    "pers = Table.read_table('http://faculty.ung.edu/rsinn/perfnarc.csv')\n",
    "pers"
   ]
  },
  {
   "cell_type": "markdown",
   "metadata": {},
   "source": [
    "## Tools for A/B Testing\n",
    "\n",
    "As we walk through an example with narcissism, we will build three functions that will help us conduct A/B tests.\n",
    "\n",
    "1. `ab_shuffle`\n",
    "2. `ab_diff`\n",
    "3. `ab_hist`\n",
    "\n",
    "All three expect an input of a 2-column table with the grouping variable in the first column and a numeric variable in the second.\n",
    "\n",
    "### Creating a 2-column table for A/B Testing\n",
    "\n",
    "We will use the grouping variable of biological sex and numeric variable of narcissism scores."
   ]
  },
  {
   "cell_type": "code",
   "execution_count": 3,
   "metadata": {},
   "outputs": [],
   "source": [
    "narc = pers.select('Sex','Narc')"
   ]
  },
  {
   "cell_type": "code",
   "execution_count": 4,
   "metadata": {},
   "outputs": [
    {
     "data": {
      "text/html": [
       "<table border=\"1\" class=\"dataframe\">\n",
       "    <thead>\n",
       "        <tr>\n",
       "            <th>Sex</th> <th>count</th>\n",
       "        </tr>\n",
       "    </thead>\n",
       "    <tbody>\n",
       "        <tr>\n",
       "            <td>F   </td> <td>85   </td>\n",
       "        </tr>\n",
       "        <tr>\n",
       "            <td>M   </td> <td>63   </td>\n",
       "        </tr>\n",
       "    </tbody>\n",
       "</table>"
      ],
      "text/plain": [
       "Sex  | count\n",
       "F    | 85\n",
       "M    | 63"
      ]
     },
     "execution_count": 4,
     "metadata": {},
     "output_type": "execute_result"
    }
   ],
   "source": [
    "narc.group('Sex')"
   ]
  },
  {
   "cell_type": "code",
   "execution_count": 5,
   "metadata": {},
   "outputs": [
    {
     "data": {
      "text/html": [
       "<table border=\"1\" class=\"dataframe\">\n",
       "    <thead>\n",
       "        <tr>\n",
       "            <th>Sex</th> <th>Narc average</th>\n",
       "        </tr>\n",
       "    </thead>\n",
       "    <tbody>\n",
       "        <tr>\n",
       "            <td>F   </td> <td>3.81176     </td>\n",
       "        </tr>\n",
       "        <tr>\n",
       "            <td>M   </td> <td>5.57143     </td>\n",
       "        </tr>\n",
       "    </tbody>\n",
       "</table>"
      ],
      "text/plain": [
       "Sex  | Narc average\n",
       "F    | 3.81176\n",
       "M    | 5.57143"
      ]
     },
     "execution_count": 5,
     "metadata": {},
     "output_type": "execute_result"
    }
   ],
   "source": [
    "narc.group('Sex', np.average)"
   ]
  },
  {
   "cell_type": "markdown",
   "metadata": {},
   "source": [
    "### Calculating observed difference in means for A/B groups"
   ]
  },
  {
   "cell_type": "code",
   "execution_count": 6,
   "metadata": {},
   "outputs": [
    {
     "data": {
      "text/plain": [
       "3.8117647058823527"
      ]
     },
     "execution_count": 6,
     "metadata": {},
     "output_type": "execute_result"
    }
   ],
   "source": [
    "a_mean = narc.group(0,np.average).column(1).item(0)\n",
    "a_mean"
   ]
  },
  {
   "cell_type": "code",
   "execution_count": 7,
   "metadata": {},
   "outputs": [
    {
     "data": {
      "text/plain": [
       "5.571428571428571"
      ]
     },
     "execution_count": 7,
     "metadata": {},
     "output_type": "execute_result"
    }
   ],
   "source": [
    "b_mean = narc.group(0,np.average).column(1).item(1)\n",
    "b_mean"
   ]
  },
  {
   "cell_type": "code",
   "execution_count": 8,
   "metadata": {},
   "outputs": [
    {
     "data": {
      "text/plain": [
       "-1.7596638655462185"
      ]
     },
     "execution_count": 8,
     "metadata": {},
     "output_type": "execute_result"
    }
   ],
   "source": [
    "observed_difference = a_mean - b_mean\n",
    "observed_difference"
   ]
  },
  {
   "cell_type": "code",
   "execution_count": 9,
   "metadata": {},
   "outputs": [
    {
     "name": "stderr",
     "output_type": "stream",
     "text": [
      "C:\\Users\\robbs\\anaconda3\\envs\\datasci\\lib\\site-packages\\datascience\\tables.py:920: VisibleDeprecationWarning: Creating an ndarray from ragged nested sequences (which is a list-or-tuple of lists-or-tuples-or ndarrays with different lengths or shapes) is deprecated. If you meant to do this, you must specify 'dtype=object' when creating the ndarray.\n",
      "  values = np.array(tuple(values))\n"
     ]
    },
    {
     "data": {
      "image/png": "[encoded data removed]",
      "text/plain": [
       "<Figure size 432x288 with 1 Axes>"
      ]
     },
     "metadata": {
      "filenames": {
       "image/png": "C:\\Users\\robbs\\Documents\\Conda\\GitBook\\stats\\_build\\jupyter_execute\\sb\\11_12_1.png"
      }
     },
     "output_type": "display_data"
    }
   ],
   "source": [
    "integer_bins = np.arange(15)\n",
    "narc.hist('Narc', group = \"Sex\", bins = integer_bins)\n",
    "_= plots.title('Narcissism by Sex')"
   ]
  },
  {
   "cell_type": "markdown",
   "metadata": {},
   "source": [
    "### The A/B hypothesis test for differences in narcissism based on biological sex"
   ]
  },
  {
   "cell_type": "markdown",
   "metadata": {},
   "source": [
    "The null hypothesis is that the male and female groups are drawn from the same distribution. If so, then randomly shuffling the grouping labels should not matter. The observed difference in A/B means should fall well within the distribution of shuffled differences in A/B means which we can simulate."
   ]
  },
  {
   "cell_type": "markdown",
   "metadata": {},
   "source": [
    "### Creating `ab_shuffle`: a function for shuffling the grouping labels\n",
    "\n",
    "Let's first demonstrate step by step what we need the function to do. Then we can create the function. The first code block below demonstrates our \"shuffle\" command which uses the `sample` method and draws without replacement."
   ]
  },
  {
   "cell_type": "code",
   "execution_count": 10,
   "metadata": {},
   "outputs": [
    {
     "data": {
      "text/html": [
       "<table border=\"1\" class=\"dataframe\">\n",
       "    <thead>\n",
       "        <tr>\n",
       "            <th>Sex</th> <th>Narc</th>\n",
       "        </tr>\n",
       "    </thead>\n",
       "    <tbody>\n",
       "        <tr>\n",
       "            <td>M   </td> <td>6   </td>\n",
       "        </tr>\n",
       "        <tr>\n",
       "            <td>F   </td> <td>2   </td>\n",
       "        </tr>\n",
       "        <tr>\n",
       "            <td>M   </td> <td>8   </td>\n",
       "        </tr>\n",
       "        <tr>\n",
       "            <td>F   </td> <td>9   </td>\n",
       "        </tr>\n",
       "        <tr>\n",
       "            <td>F   </td> <td>6   </td>\n",
       "        </tr>\n",
       "    </tbody>\n",
       "</table>\n",
       "<p>... (143 rows omitted)</p>"
      ],
      "text/plain": [
       "<IPython.core.display.HTML object>"
      ]
     },
     "metadata": {},
     "output_type": "display_data"
    }
   ],
   "source": [
    "shuffle_sex = narc.sample(with_replacement = False)\n",
    "shuffle_sex.show(5)"
   ]
  },
  {
   "cell_type": "code",
   "execution_count": 11,
   "metadata": {},
   "outputs": [
    {
     "data": {
      "text/plain": [
       "array(['M', 'F', 'M', 'F', 'M', 'F', 'F', 'F', 'M', 'M', 'F', 'F', 'M',\n",
       "       'M', 'M', 'F', 'F', 'F', 'F', 'M', 'M', 'M', 'M', 'F', 'M', 'F',\n",
       "       'M', 'F', 'F', 'F', 'F', 'M', 'F', 'M', 'M', 'M', 'M', 'F', 'F',\n",
       "       'F', 'M', 'F', 'F', 'F', 'F', 'F', 'F', 'F', 'F', 'F', 'F', 'M',\n",
       "       'M', 'F', 'M', 'M', 'M', 'F', 'F', 'F', 'M', 'F', 'F', 'M', 'M',\n",
       "       'F', 'F', 'M', 'F', 'M', 'F', 'F', 'F', 'M', 'F', 'F', 'M', 'M',\n",
       "       'M', 'F', 'F', 'F', 'M', 'M', 'M', 'F', 'M', 'F', 'M', 'F', 'F',\n",
       "       'M', 'M', 'F', 'F', 'F', 'F', 'F', 'F', 'F', 'M', 'F', 'M', 'M',\n",
       "       'F', 'F', 'M', 'M', 'M', 'F', 'M', 'M', 'F', 'F', 'M', 'F', 'F',\n",
       "       'F', 'M', 'F', 'F', 'F', 'M', 'M', 'F', 'F', 'M', 'M', 'M', 'F',\n",
       "       'F', 'M', 'M', 'F', 'M', 'M', 'M', 'M', 'F', 'F', 'F', 'F', 'F',\n",
       "       'F', 'F', 'M', 'F', 'F'], dtype='<U1')"
      ]
     },
     "execution_count": 11,
     "metadata": {},
     "output_type": "execute_result"
    }
   ],
   "source": [
    "shuffle_sex = narc.sample(with_replacement = False).column(0)\n",
    "shuffle_sex"
   ]
  },
  {
   "cell_type": "markdown",
   "metadata": {},
   "source": [
    "After creating an array of shuffled labels, we need to include that array as column in our table. We can add the shuffled labels as a third column, then use the `select` method to create a two-column table with the columns in the correct order."
   ]
  },
  {
   "cell_type": "code",
   "execution_count": 12,
   "metadata": {},
   "outputs": [
    {
     "data": {
      "text/html": [
       "<table border=\"1\" class=\"dataframe\">\n",
       "    <thead>\n",
       "        <tr>\n",
       "            <th>Sex</th> <th>Narc</th> <th>Shuffled Grouping</th>\n",
       "        </tr>\n",
       "    </thead>\n",
       "    <tbody>\n",
       "        <tr>\n",
       "            <td>F   </td> <td>3   </td> <td>M                </td>\n",
       "        </tr>\n",
       "        <tr>\n",
       "            <td>F   </td> <td>2   </td> <td>F                </td>\n",
       "        </tr>\n",
       "        <tr>\n",
       "            <td>F   </td> <td>4   </td> <td>M                </td>\n",
       "        </tr>\n",
       "        <tr>\n",
       "            <td>F   </td> <td>2   </td> <td>F                </td>\n",
       "        </tr>\n",
       "        <tr>\n",
       "            <td>F   </td> <td>8   </td> <td>M                </td>\n",
       "        </tr>\n",
       "    </tbody>\n",
       "</table>\n",
       "<p>... (143 rows omitted)</p>"
      ],
      "text/plain": [
       "<IPython.core.display.HTML object>"
      ]
     },
     "metadata": {},
     "output_type": "display_data"
    }
   ],
   "source": [
    "shuffled_narc = narc.with_column(\"Shuffled Grouping\",shuffle_sex)\n",
    "shuffled_narc.show(5)"
   ]
  },
  {
   "cell_type": "code",
   "execution_count": 13,
   "metadata": {},
   "outputs": [
    {
     "data": {
      "text/html": [
       "<table border=\"1\" class=\"dataframe\">\n",
       "    <thead>\n",
       "        <tr>\n",
       "            <th>Shuffled Grouping</th> <th>Narc</th>\n",
       "        </tr>\n",
       "    </thead>\n",
       "    <tbody>\n",
       "        <tr>\n",
       "            <td>M                </td> <td>3   </td>\n",
       "        </tr>\n",
       "        <tr>\n",
       "            <td>F                </td> <td>2   </td>\n",
       "        </tr>\n",
       "        <tr>\n",
       "            <td>M                </td> <td>4   </td>\n",
       "        </tr>\n",
       "        <tr>\n",
       "            <td>F                </td> <td>2   </td>\n",
       "        </tr>\n",
       "        <tr>\n",
       "            <td>M                </td> <td>8   </td>\n",
       "        </tr>\n",
       "    </tbody>\n",
       "</table>\n",
       "<p>... (143 rows omitted)</p>"
      ],
      "text/plain": [
       "<IPython.core.display.HTML object>"
      ]
     },
     "metadata": {},
     "output_type": "display_data"
    }
   ],
   "source": [
    "shuffled_narc = narc.with_column(\"Shuffled Grouping\",shuffle_sex).select(2,1)\n",
    "shuffled_narc.show(5)"
   ]
  },
  {
   "cell_type": "code",
   "execution_count": 14,
   "metadata": {},
   "outputs": [
    {
     "data": {
      "text/html": [
       "<table border=\"1\" class=\"dataframe\">\n",
       "    <thead>\n",
       "        <tr>\n",
       "            <th>Shuffled Grouping</th> <th>Narc average</th>\n",
       "        </tr>\n",
       "    </thead>\n",
       "    <tbody>\n",
       "        <tr>\n",
       "            <td>F                </td> <td>4.50588     </td>\n",
       "        </tr>\n",
       "        <tr>\n",
       "            <td>M                </td> <td>4.63492     </td>\n",
       "        </tr>\n",
       "    </tbody>\n",
       "</table>"
      ],
      "text/plain": [
       "Shuffled Grouping | Narc average\n",
       "F                 | 4.50588\n",
       "M                 | 4.63492"
      ]
     },
     "execution_count": 14,
     "metadata": {},
     "output_type": "execute_result"
    }
   ],
   "source": [
    "shuffled_narc.group('Shuffled Grouping',np.average)"
   ]
  },
  {
   "cell_type": "markdown",
   "metadata": {},
   "source": [
    "#### The `ab_shuffle` function"
   ]
  },
  {
   "cell_type": "markdown",
   "metadata": {},
   "source": [
    "Our function just combines the previous several code blocks. Notice that the expected input is a two-column table with the grouping variable be in the first column."
   ]
  },
  {
   "cell_type": "code",
   "execution_count": 15,
   "metadata": {},
   "outputs": [
    {
     "data": {
      "text/html": [
       "<table border=\"1\" class=\"dataframe\">\n",
       "    <thead>\n",
       "        <tr>\n",
       "            <th>Shuffled Grouping</th> <th>Narc</th>\n",
       "        </tr>\n",
       "    </thead>\n",
       "    <tbody>\n",
       "        <tr>\n",
       "            <td>F                </td> <td>3   </td>\n",
       "        </tr>\n",
       "        <tr>\n",
       "            <td>M                </td> <td>2   </td>\n",
       "        </tr>\n",
       "        <tr>\n",
       "            <td>F                </td> <td>4   </td>\n",
       "        </tr>\n",
       "        <tr>\n",
       "            <td>F                </td> <td>2   </td>\n",
       "        </tr>\n",
       "        <tr>\n",
       "            <td>M                </td> <td>8   </td>\n",
       "        </tr>\n",
       "        <tr>\n",
       "            <td>F                </td> <td>1   </td>\n",
       "        </tr>\n",
       "        <tr>\n",
       "            <td>F                </td> <td>4   </td>\n",
       "        </tr>\n",
       "        <tr>\n",
       "            <td>F                </td> <td>7   </td>\n",
       "        </tr>\n",
       "        <tr>\n",
       "            <td>M                </td> <td>5   </td>\n",
       "        </tr>\n",
       "        <tr>\n",
       "            <td>F                </td> <td>1   </td>\n",
       "        </tr>\n",
       "    </tbody>\n",
       "</table>\n",
       "<p>... (138 rows omitted)</p>"
      ],
      "text/plain": [
       "Shuffled Grouping | Narc\n",
       "F                 | 3\n",
       "M                 | 2\n",
       "F                 | 4\n",
       "F                 | 2\n",
       "M                 | 8\n",
       "F                 | 1\n",
       "F                 | 4\n",
       "F                 | 7\n",
       "M                 | 5\n",
       "F                 | 1\n",
       "... (138 rows omitted)"
      ]
     },
     "execution_count": 15,
     "metadata": {},
     "output_type": "execute_result"
    }
   ],
   "source": [
    "def ab_shuffle(tab):\n",
    "    shuffle_group = tab.sample(with_replacement = False).column(0)\n",
    "    shuffled_tab = tab.with_column(\"Shuffled Grouping\",shuffle_group).select(2,1)\n",
    "    return shuffled_tab\n",
    "\n",
    "ab_shuffle(narc)"
   ]
  },
  {
   "cell_type": "markdown",
   "metadata": {},
   "source": [
    "### Creating `ab_diff`: a function that calculates the difference in A/B group means"
   ]
  },
  {
   "cell_type": "markdown",
   "metadata": {},
   "source": [
    "We can add a function to the `.group` method to find the A/B group means."
   ]
  },
  {
   "cell_type": "code",
   "execution_count": 16,
   "metadata": {},
   "outputs": [
    {
     "data": {
      "text/html": [
       "<table border=\"1\" class=\"dataframe\">\n",
       "    <thead>\n",
       "        <tr>\n",
       "            <th>Shuffled Grouping</th> <th>Narc average</th>\n",
       "        </tr>\n",
       "    </thead>\n",
       "    <tbody>\n",
       "        <tr>\n",
       "            <td>F                </td> <td>4.50588     </td>\n",
       "        </tr>\n",
       "        <tr>\n",
       "            <td>M                </td> <td>4.63492     </td>\n",
       "        </tr>\n",
       "    </tbody>\n",
       "</table>"
      ],
      "text/plain": [
       "Shuffled Grouping | Narc average\n",
       "F                 | 4.50588\n",
       "M                 | 4.63492"
      ]
     },
     "execution_count": 16,
     "metadata": {},
     "output_type": "execute_result"
    }
   ],
   "source": [
    "shuffled_narc.group('Shuffled Grouping',np.average)"
   ]
  },
  {
   "cell_type": "code",
   "execution_count": 17,
   "metadata": {},
   "outputs": [
    {
     "data": {
      "text/plain": [
       "4.5058823529411764"
      ]
     },
     "execution_count": 17,
     "metadata": {},
     "output_type": "execute_result"
    }
   ],
   "source": [
    "a_mean = shuffled_narc.group('Shuffled Grouping',np.average).column(1).item(0)\n",
    "a_mean"
   ]
  },
  {
   "cell_type": "code",
   "execution_count": 18,
   "metadata": {},
   "outputs": [
    {
     "data": {
      "text/plain": [
       "4.634920634920635"
      ]
     },
     "execution_count": 18,
     "metadata": {},
     "output_type": "execute_result"
    }
   ],
   "source": [
    "b_mean = shuffled_narc.group('Shuffled Grouping',np.average).column(1).item(1)\n",
    "b_mean"
   ]
  },
  {
   "cell_type": "code",
   "execution_count": 19,
   "metadata": {},
   "outputs": [
    {
     "data": {
      "text/plain": [
       "-0.12903828197945888"
      ]
     },
     "execution_count": 19,
     "metadata": {},
     "output_type": "execute_result"
    }
   ],
   "source": [
    "diff = a_mean - b_mean\n",
    "diff"
   ]
  },
  {
   "cell_type": "markdown",
   "metadata": {},
   "source": [
    "#### The `ab_diff` function\n",
    "\n",
    "Using the above code blocks as a template, we can write a function that grabs the means from the grouping table. Again, the expected input is a two-column table with the grouping variable first."
   ]
  },
  {
   "cell_type": "code",
   "execution_count": 20,
   "metadata": {},
   "outputs": [
    {
     "data": {
      "text/plain": [
       "-0.12903828197945888"
      ]
     },
     "execution_count": 20,
     "metadata": {},
     "output_type": "execute_result"
    }
   ],
   "source": [
    "def ab_diff(tab):\n",
    "    tab.group(0,np.average)\n",
    "    a_mean = tab.group(0,np.average).column(1).item(0)\n",
    "    b_mean = tab.group(0,np.average).column(1).item(1)\n",
    "    return a_mean - b_mean\n",
    "\n",
    "ab_diff(shuffled_narc)"
   ]
  },
  {
   "cell_type": "markdown",
   "metadata": {},
   "source": [
    "## Simulating the statistic\n",
    "\n",
    "The statistic we need is the difference in shuffled A/B group means. Our plan is to use a `for` loop to repeatedly reshuffle the labels and calculate this statistic. The output will be an array representing a random sampling of this statistic.\n",
    "\n",
    "The engine in the `for` loop is quite simple. We shuffle the data table and calculate the difference in A/B means in one line using the two functions we created above."
   ]
  },
  {
   "cell_type": "code",
   "execution_count": 21,
   "metadata": {},
   "outputs": [],
   "source": [
    "diffs = make_array()\n",
    "\n",
    "reps = 1000\n",
    "\n",
    "for i in range(reps):\n",
    "    new_diff = ab_diff(ab_shuffle(narc))\n",
    "    diffs = np.append(diffs, new_diff)\n",
    "\n",
    "# Remove the hashtag/comment symbol to see the array output\n",
    "# diffs"
   ]
  },
  {
   "cell_type": "markdown",
   "metadata": {},
   "source": [
    "## Displaying the distribution of the null hypothesis statistic\n",
    "\n",
    "Let's create a third function, one that will take an array of simulated statistics along with an observed value and plot a histogram showing both."
   ]
  },
  {
   "cell_type": "code",
   "execution_count": 22,
   "metadata": {},
   "outputs": [
    {
     "data": {
      "image/png": "[encoded data removed]",
      "text/plain": [
       "<Figure size 432x288 with 1 Axes>"
      ]
     },
     "metadata": {
      "filenames": {
       "image/png": "C:\\Users\\robbs\\Documents\\Conda\\GitBook\\stats\\_build\\jupyter_execute\\sb\\11_36_0.png"
      }
     },
     "output_type": "display_data"
    }
   ],
   "source": [
    "def ab_hist(myArray, obs_diff):\n",
    "    tab = Table().with_column('A/B Differencs',myArray)\n",
    "    tab.hist(0)\n",
    "    _ = plots.plot([obs_diff, obs_diff], [0, 0.1], color='red', lw=2)\n",
    "\n",
    "ab_hist(diffs,observed_difference)"
   ]
  },
  {
   "cell_type": "markdown",
   "metadata": {},
   "source": [
    "Conside what the above visualization means.\n",
    "\n",
    "1. The blue histogram represents the null hypothesis statistic\n",
    "2. The red line indicates the observed value of the statistic\n",
    "\n",
    "To calculate a $p$-value, we first creat a truth array for the number of randomized A/B differences in means that were less than the `observed_difference`. Then we can sum the truth array which counts all simulated values at least as extreme as the observed value."
   ]
  },
  {
   "cell_type": "code",
   "execution_count": 23,
   "metadata": {},
   "outputs": [
    {
     "data": {
      "text/plain": [
       "array([False, False, False, False, False, False, False, False, False,\n",
       "       False, False, False, False, False, False, False, False, False,\n",
       "       False, False, False, False, False, False, False, False, False,\n",
       "       False, False, False, False, False, False, False, False, False,\n",
       "       False, False, False, False, False, False, False, False, False,\n",
       "       False, False, False, False, False, False, False, False, False,\n",
       "       False, False, False, False, False, False, False, False, False,\n",
       "       False, False, False, False, False, False, False, False, False,\n",
       "       False, False, False, False, False, False, False, False, False,\n",
       "       False, False, False, False, False, False, False, False, False,\n",
       "       False, False, False, False, False, False, False, False, False,\n",
       "       False, False, False, False, False, False, False, False, False,\n",
       "       False, False, False, False, False, False, False, False, False,\n",
       "       False, False, False, False, False, False, False, False, False,\n",
       "       False, False, False, False, False, False, False, False, False,\n",
       "       False, False, False, False, False, False, False, False, False,\n",
       "       False, False, False, False, False, False, False, False, False,\n",
       "       False, False, False, False, False, False, False, False, False,\n",
       "       False, False, False, False, False, False, False, False, False,\n",
       "       False, False, False, False, False, False, False, False, False,\n",
       "       False, False, False, False, False, False, False, False, False,\n",
       "       False, False, False, False, False, False, False, False, False,\n",
       "       False, False, False, False, False, False, False, False, False,\n",
       "       False, False, False, False, False, False, False, False, False,\n",
       "       False, False, False, False, False, False, False, False, False,\n",
       "       False, False, False, False, False, False, False, False, False,\n",
       "       False, False, False, False, False, False, False, False, False,\n",
       "       False, False, False, False, False, False, False, False, False,\n",
       "       False, False, False, False, False, False, False, False, False,\n",
       "       False, False, False, False, False, False, False, False, False,\n",
       "       False, False, False, False, False, False, False, False, False,\n",
       "       False, False, False, False, False, False, False, False, False,\n",
       "       False, False, False, False, False, False, False, False, False,\n",
       "       False, False, False, False, False, False, False, False, False,\n",
       "       False, False, False, False, False, False, False, False, False,\n",
       "       False, False, False, False, False, False, False, False, False,\n",
       "       False, False, False, False, False, False, False, False, False,\n",
       "       False, False, False, False, False, False, False, False, False,\n",
       "       False, False, False, False, False, False, False, False, False,\n",
       "       False, False, False, False, False, False, False, False, False,\n",
       "       False, False, False, False, False, False, False, False, False,\n",
       "       False, False, False, False, False, False, False, False, False,\n",
       "       False, False, False, False, False, False, False, False, False,\n",
       "       False, False, False, False, False, False, False, False, False,\n",
       "       False, False, False, False, False, False, False, False, False,\n",
       "       False, False, False, False, False, False, False, False, False,\n",
       "       False, False, False, False, False, False, False, False, False,\n",
       "       False, False, False, False, False, False, False, False, False,\n",
       "       False, False, False, False, False, False, False, False, False,\n",
       "       False, False, False, False, False, False, False, False, False,\n",
       "       False, False, False, False, False, False, False, False, False,\n",
       "       False, False, False, False, False, False, False, False, False,\n",
       "       False, False, False, False, False, False, False, False, False,\n",
       "       False, False, False, False, False, False, False, False, False,\n",
       "       False, False, False, False, False, False, False, False, False,\n",
       "       False, False, False, False, False, False, False, False, False,\n",
       "       False, False, False, False, False, False, False, False, False,\n",
       "       False, False, False, False, False, False, False, False, False,\n",
       "       False, False, False, False, False, False, False, False, False,\n",
       "       False, False, False, False, False, False, False, False, False,\n",
       "       False, False, False, False, False, False, False, False, False,\n",
       "       False, False, False, False, False, False, False, False, False,\n",
       "       False, False, False, False, False, False, False, False, False,\n",
       "       False, False, False, False, False, False, False, False, False,\n",
       "       False, False, False, False, False, False, False, False, False,\n",
       "       False, False, False, False, False, False, False, False, False,\n",
       "       False, False, False, False, False, False, False, False, False,\n",
       "       False, False, False, False, False, False, False, False, False,\n",
       "       False, False, False, False, False, False, False, False, False,\n",
       "       False, False, False, False, False, False, False, False, False,\n",
       "       False, False, False, False, False, False, False, False, False,\n",
       "       False, False, False, False, False, False, False, False, False,\n",
       "       False, False, False, False, False, False, False, False, False,\n",
       "       False, False, False, False, False, False, False, False, False,\n",
       "       False, False, False, False, False, False, False, False, False,\n",
       "       False, False, False, False, False, False, False, False, False,\n",
       "       False, False, False, False, False, False, False, False, False,\n",
       "       False, False, False, False, False, False, False, False, False,\n",
       "       False, False, False, False, False, False, False, False, False,\n",
       "       False, False, False, False, False, False, False, False, False,\n",
       "       False, False, False, False, False, False, False, False, False,\n",
       "       False, False, False, False, False, False, False, False, False,\n",
       "       False, False, False, False, False, False, False, False, False,\n",
       "       False, False, False, False, False, False, False, False, False,\n",
       "       False, False, False, False, False, False, False, False, False,\n",
       "       False, False, False, False, False, False, False, False, False,\n",
       "       False, False, False, False, False, False, False, False, False,\n",
       "       False, False, False, False, False, False, False, False, False,\n",
       "       False, False, False, False, False, False, False, False, False,\n",
       "       False, False, False, False, False, False, False, False, False,\n",
       "       False, False, False, False, False, False, False, False, False,\n",
       "       False, False, False, False, False, False, False, False, False,\n",
       "       False, False, False, False, False, False, False, False, False,\n",
       "       False, False, False, False, False, False, False, False, False,\n",
       "       False, False, False, False, False, False, False, False, False,\n",
       "       False, False, False, False, False, False, False, False, False,\n",
       "       False, False, False, False, False, False, False, False, False,\n",
       "       False, False, False, False, False, False, False, False, False,\n",
       "       False, False, False, False, False, False, False, False, False,\n",
       "       False, False, False, False, False, False, False, False, False,\n",
       "       False, False, False, False, False, False, False, False, False,\n",
       "       False, False, False, False, False, False, False, False, False,\n",
       "       False, False, False, False, False, False, False, False, False,\n",
       "       False, False, False, False, False, False, False, False, False,\n",
       "       False, False, False, False, False, False, False, False, False,\n",
       "       False, False, False, False, False, False, False, False, False,\n",
       "       False, False, False, False, False, False, False, False, False,\n",
       "       False, False, False, False, False, False, False, False, False,\n",
       "       False, False, False, False, False, False, False, False, False,\n",
       "       False, False, False, False, False, False, False, False, False,\n",
       "       False, False, False, False, False, False, False, False, False,\n",
       "       False])"
      ]
     },
     "execution_count": 23,
     "metadata": {},
     "output_type": "execute_result"
    }
   ],
   "source": [
    "diffs <= observed_difference"
   ]
  },
  {
   "cell_type": "code",
   "execution_count": 24,
   "metadata": {},
   "outputs": [
    {
     "data": {
      "text/plain": [
       "0"
      ]
     },
     "execution_count": 24,
     "metadata": {},
     "output_type": "execute_result"
    }
   ],
   "source": [
    "sum(diffs <= observed_difference)"
   ]
  },
  {
   "cell_type": "code",
   "execution_count": 25,
   "metadata": {},
   "outputs": [
    {
     "data": {
      "text/plain": [
       "0.0"
      ]
     },
     "execution_count": 25,
     "metadata": {},
     "output_type": "execute_result"
    }
   ],
   "source": [
    "p_val = sum(diffs <= observed_difference) / reps\n",
    "p_val"
   ]
  },
  {
   "cell_type": "markdown",
   "metadata": {},
   "source": [
    "## Example with perfectionism"
   ]
  },
  {
   "cell_type": "code",
   "execution_count": 26,
   "metadata": {},
   "outputs": [
    {
     "data": {
      "text/html": [
       "<table border=\"1\" class=\"dataframe\">\n",
       "    <thead>\n",
       "        <tr>\n",
       "            <th>Sex</th> <th>Perf</th>\n",
       "        </tr>\n",
       "    </thead>\n",
       "    <tbody>\n",
       "        <tr>\n",
       "            <td>F   </td> <td>99  </td>\n",
       "        </tr>\n",
       "        <tr>\n",
       "            <td>F   </td> <td>86  </td>\n",
       "        </tr>\n",
       "        <tr>\n",
       "            <td>F   </td> <td>118 </td>\n",
       "        </tr>\n",
       "        <tr>\n",
       "            <td>F   </td> <td>113 </td>\n",
       "        </tr>\n",
       "        <tr>\n",
       "            <td>F   </td> <td>107 </td>\n",
       "        </tr>\n",
       "        <tr>\n",
       "            <td>F   </td> <td>123 </td>\n",
       "        </tr>\n",
       "        <tr>\n",
       "            <td>F   </td> <td>93  </td>\n",
       "        </tr>\n",
       "        <tr>\n",
       "            <td>F   </td> <td>126 </td>\n",
       "        </tr>\n",
       "        <tr>\n",
       "            <td>F   </td> <td>91  </td>\n",
       "        </tr>\n",
       "        <tr>\n",
       "            <td>F   </td> <td>111 </td>\n",
       "        </tr>\n",
       "    </tbody>\n",
       "</table>\n",
       "<p>... (138 rows omitted)</p>"
      ],
      "text/plain": [
       "Sex  | Perf\n",
       "F    | 99\n",
       "F    | 86\n",
       "F    | 118\n",
       "F    | 113\n",
       "F    | 107\n",
       "F    | 123\n",
       "F    | 93\n",
       "F    | 126\n",
       "F    | 91\n",
       "F    | 111\n",
       "... (138 rows omitted)"
      ]
     },
     "execution_count": 26,
     "metadata": {},
     "output_type": "execute_result"
    }
   ],
   "source": [
    "perf = pers.select('Sex','Perf')\n",
    "perf"
   ]
  },
  {
   "cell_type": "code",
   "execution_count": 27,
   "metadata": {},
   "outputs": [
    {
     "data": {
      "text/plain": [
       "2.5915966386554743"
      ]
     },
     "execution_count": 27,
     "metadata": {},
     "output_type": "execute_result"
    }
   ],
   "source": [
    "obs_diff_perf = ab_diff(perf)\n",
    "obs_diff_perf"
   ]
  },
  {
   "cell_type": "code",
   "execution_count": 28,
   "metadata": {},
   "outputs": [
    {
     "data": {
      "text/html": [
       "<table border=\"1\" class=\"dataframe\">\n",
       "    <thead>\n",
       "        <tr>\n",
       "            <th>Shuffled Grouping</th> <th>Perf</th>\n",
       "        </tr>\n",
       "    </thead>\n",
       "    <tbody>\n",
       "        <tr>\n",
       "            <td>F                </td> <td>99  </td>\n",
       "        </tr>\n",
       "        <tr>\n",
       "            <td>M                </td> <td>86  </td>\n",
       "        </tr>\n",
       "        <tr>\n",
       "            <td>F                </td> <td>118 </td>\n",
       "        </tr>\n",
       "        <tr>\n",
       "            <td>M                </td> <td>113 </td>\n",
       "        </tr>\n",
       "        <tr>\n",
       "            <td>F                </td> <td>107 </td>\n",
       "        </tr>\n",
       "        <tr>\n",
       "            <td>F                </td> <td>123 </td>\n",
       "        </tr>\n",
       "        <tr>\n",
       "            <td>F                </td> <td>93  </td>\n",
       "        </tr>\n",
       "        <tr>\n",
       "            <td>F                </td> <td>126 </td>\n",
       "        </tr>\n",
       "        <tr>\n",
       "            <td>F                </td> <td>91  </td>\n",
       "        </tr>\n",
       "        <tr>\n",
       "            <td>M                </td> <td>111 </td>\n",
       "        </tr>\n",
       "    </tbody>\n",
       "</table>\n",
       "<p>... (138 rows omitted)</p>"
      ],
      "text/plain": [
       "Shuffled Grouping | Perf\n",
       "F                 | 99\n",
       "M                 | 86\n",
       "F                 | 118\n",
       "M                 | 113\n",
       "F                 | 107\n",
       "F                 | 123\n",
       "F                 | 93\n",
       "F                 | 126\n",
       "F                 | 91\n",
       "M                 | 111\n",
       "... (138 rows omitted)"
      ]
     },
     "execution_count": 28,
     "metadata": {},
     "output_type": "execute_result"
    }
   ],
   "source": [
    "ab_shuffle(perf)"
   ]
  },
  {
   "cell_type": "code",
   "execution_count": 29,
   "metadata": {},
   "outputs": [
    {
     "data": {
      "text/plain": [
       "-2.687208216619979"
      ]
     },
     "execution_count": 29,
     "metadata": {},
     "output_type": "execute_result"
    }
   ],
   "source": [
    "ab_diff(ab_shuffle(perf))"
   ]
  },
  {
   "cell_type": "code",
   "execution_count": 30,
   "metadata": {},
   "outputs": [],
   "source": [
    "perf_diffs = make_array()\n",
    "\n",
    "reps = 1000\n",
    "\n",
    "for i in range(reps):\n",
    "    new_diff = ab_diff(ab_shuffle(perf))\n",
    "    perf_diffs = np.append(perf_diffs, new_diff)\n",
    "\n",
    "# perf_diffs    "
   ]
  },
  {
   "cell_type": "code",
   "execution_count": 31,
   "metadata": {},
   "outputs": [
    {
     "data": {
      "image/png": "[encoded data removed]",
      "text/plain": [
       "<Figure size 432x288 with 1 Axes>"
      ]
     },
     "metadata": {
      "filenames": {
       "image/png": "C:\\Users\\robbs\\Documents\\Conda\\GitBook\\stats\\_build\\jupyter_execute\\sb\\11_47_0.png"
      }
     },
     "output_type": "display_data"
    }
   ],
   "source": [
    "ab_hist(perf_diffs,obs_diff_perf)"
   ]
  },
  {
   "cell_type": "code",
   "execution_count": 32,
   "metadata": {},
   "outputs": [
    {
     "data": {
      "text/plain": [
       "0.215"
      ]
     },
     "execution_count": 32,
     "metadata": {},
     "output_type": "execute_result"
    }
   ],
   "source": [
    "p_value = sum(perf_diffs >= obs_diff_perf) / reps \n",
    "p_value"
   ]
  },
  {
   "cell_type": "code",
   "execution_count": null,
   "metadata": {},
   "outputs": [],
   "source": []
  }
 ],
 "metadata": {
  "kernelspec": {
   "display_name": "Python 3",
   "language": "python",
   "name": "python3"
  },
  "language_info": {
   "codemirror_mode": {
    "name": "ipython",
    "version": 3
   },
   "file_extension": ".py",
   "mimetype": "text/x-python",
   "name": "python",
   "nbconvert_exporter": "python",
   "pygments_lexer": "ipython3",
   "version": "3.7.6"
  }
 },
 "nbformat": 4,
 "nbformat_minor": 4
}