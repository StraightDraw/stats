{
 "cells": [
  {
   "cell_type": "markdown",
   "metadata": {},
   "source": [
    "# 27. Correlation and Regression"
   ]
  },
  {
   "cell_type": "code",
   "execution_count": 78,
   "metadata": {},
   "outputs": [],
   "source": [
    "from datascience import *\n",
    "import numpy as np\n",
    "\n",
    "%matplotlib inline\n",
    "\n",
    "import matplotlib.pyplot as plots\n",
    "plots.style.use('fivethirtyeight')\n",
    "\n",
    "from scipy import stats"
   ]
  },
  {
   "cell_type": "markdown",
   "metadata": {},
   "source": [
    "I keep some data frames in CSV format accessible from my website. One of them is called personality.csv and has, as you might imagine, personality variables. In this case, we are using the `neuroanx` subset which compares [neuroticism](https://www.webmd.com/mental-health/neurotic-behavior-overview), anxiety and several related variables:\n",
    "\n",
    "G21\n",
    ": Y/N response to \"are you 21 years old or older?\"\n",
    "\n",
    "SitClass\n",
    ": Front/middle/back response to \"where do you prefer to sit in class?\"\n",
    "\n",
    "Friends\n",
    ": Same/opposite/no difference response to \"which sex do you find it easiest to make friends with.\"\n",
    "\n",
    "TxRel\n",
    ": Toxic relationships beliefs, higher scores indicate more toxicity.\n",
    "\n",
    "Opt\n",
    ": Optimism, higher scores indicate more optimism\n",
    "\n",
    "SE\n",
    ": Self-esteem, higher score indicate higher levels of self-esteem"
   ]
  },
  {
   "cell_type": "markdown",
   "metadata": {},
   "source": [
    "## Standard descriptives for numeric variables\n",
    "\n",
    "For each statistic below, we need an array of numeric data as the input. Let's grab some data from the `personality.csv` file."
   ]
  },
  {
   "cell_type": "code",
   "execution_count": 119,
   "metadata": {},
   "outputs": [
    {
     "data": {
      "text/html": [
       "<table border=\"1\" class=\"dataframe\">\n",
       "    <thead>\n",
       "        <tr>\n",
       "            <th>Sex</th> <th>G21</th> <th>SitClass</th> <th>Friends</th> <th>TxRel</th> <th>Anx</th> <th>Opt</th> <th>SE</th> <th>Neuro</th>\n",
       "        </tr>\n",
       "    </thead>\n",
       "    <tbody>\n",
       "        <tr>\n",
       "            <td>M   </td> <td>N   </td> <td>F       </td> <td>O      </td> <td>26   </td> <td>23  </td> <td>20  </td> <td>70  </td> <td>10   </td>\n",
       "        </tr>\n",
       "        <tr>\n",
       "            <td>F   </td> <td>N   </td> <td>M       </td> <td>S      </td> <td>21   </td> <td>24  </td> <td>22  </td> <td>68  </td> <td>11   </td>\n",
       "        </tr>\n",
       "        <tr>\n",
       "            <td>M   </td> <td>Y   </td> <td>F       </td> <td>E      </td> <td>25   </td> <td>27  </td> <td>29  </td> <td>65  </td> <td>11   </td>\n",
       "        </tr>\n",
       "        <tr>\n",
       "            <td>M   </td> <td>Y   </td> <td>B       </td> <td>E      </td> <td>22   </td> <td>30  </td> <td>28  </td> <td>61  </td> <td>15   </td>\n",
       "        </tr>\n",
       "        <tr>\n",
       "            <td>M   </td> <td>N   </td> <td>M       </td> <td>E      </td> <td>23   </td> <td>40  </td> <td>26  </td> <td>64  </td> <td>16   </td>\n",
       "        </tr>\n",
       "    </tbody>\n",
       "</table>\n",
       "<p>... (137 rows omitted)</p>"
      ],
      "text/plain": [
       "<IPython.core.display.HTML object>"
      ]
     },
     "metadata": {},
     "output_type": "display_data"
    }
   ],
   "source": [
    "pers = Table.read_table('http://faculty.ung.edu/rsinn/neuroanx.csv')\n",
    "pers.show(5)"
   ]
  },
  {
   "cell_type": "code",
   "execution_count": 120,
   "metadata": {},
   "outputs": [],
   "source": [
    "neuroanx = pers.select('Neuro','Anx')\n",
    "neuro = neuroanx.column(0)"
   ]
  },
  {
   "cell_type": "markdown",
   "metadata": {},
   "source": [
    "### Mean ( $\\overline x$ )\n",
    "\n",
    "Given an array, we simply use `np.average` or `np.mean`."
   ]
  },
  {
   "cell_type": "code",
   "execution_count": 121,
   "metadata": {},
   "outputs": [
    {
     "data": {
      "text/plain": [
       "42.66197183098591"
      ]
     },
     "execution_count": 121,
     "metadata": {},
     "output_type": "execute_result"
    }
   ],
   "source": [
    "mean = np.mean(neuro)\n",
    "mean"
   ]
  },
  {
   "cell_type": "markdown",
   "metadata": {},
   "source": [
    "## Sample size ( $n$ )"
   ]
  },
  {
   "cell_type": "code",
   "execution_count": 122,
   "metadata": {},
   "outputs": [
    {
     "data": {
      "text/plain": [
       "142"
      ]
     },
     "execution_count": 122,
     "metadata": {},
     "output_type": "execute_result"
    }
   ],
   "source": [
    "n = len(neuro)\n",
    "n"
   ]
  },
  {
   "cell_type": "markdown",
   "metadata": {},
   "source": [
    "### Standard deviation\n",
    "\n",
    "A deviation is the distance between a data point and the mean. The *sample* standard deviation is the sum of the squared deviations divided by one less than the sample size ($n-1$)."
   ]
  },
  {
   "cell_type": "code",
   "execution_count": 123,
   "metadata": {},
   "outputs": [],
   "source": [
    "devs_squared = ( neuro - mean ) ** 2"
   ]
  },
  {
   "cell_type": "code",
   "execution_count": 124,
   "metadata": {},
   "outputs": [
    {
     "data": {
      "text/plain": [
       "13.946141246193354"
      ]
     },
     "execution_count": 124,
     "metadata": {},
     "output_type": "execute_result"
    }
   ],
   "source": [
    "s = np.sqrt(sum(devs_squared / (n-1)))\n",
    "s"
   ]
  },
  {
   "cell_type": "markdown",
   "metadata": {},
   "source": [
    "We can test whether or not our formula is correct using the `numpy` function `std` with the `ddof=1` option on. You will notice some rounding error."
   ]
  },
  {
   "cell_type": "code",
   "execution_count": 125,
   "metadata": {},
   "outputs": [
    {
     "data": {
      "text/plain": [
       "13.946141246193347"
      ]
     },
     "execution_count": 125,
     "metadata": {},
     "output_type": "execute_result"
    }
   ],
   "source": [
    "np.std(neuro, ddof=1)"
   ]
  },
  {
   "cell_type": "markdown",
   "metadata": {},
   "source": [
    "### Print descriptives\n",
    "\n",
    "The following three statistics are considered the *standard descriptives* by quantiative researchers. In a scientific report, each data set should be accompanied by these three descriptive statistics: \n",
    "\n",
    "* mean\n",
    "* sample size\n",
    "* standard deviation\n",
    "\n",
    "To help detect skew and outliers, the median can be useful. Most researchers would not consider it a standard descriptive."
   ]
  },
  {
   "cell_type": "code",
   "execution_count": 126,
   "metadata": {},
   "outputs": [],
   "source": [
    "def describe (array):\n",
    "    mean = np.mean(array)\n",
    "    median = np.median(array)\n",
    "    n = len(array)\n",
    "    s = np.std(array, ddof=1)\n",
    "    print('The mean is', round(mean,2))\n",
    "    print('The median is', median)\n",
    "    print('The sample size is', n)\n",
    "    print('The standard deviation is', round(s,2))\n",
    "    Table().with_column('Data',array).hist(0)"
   ]
  },
  {
   "cell_type": "code",
   "execution_count": 127,
   "metadata": {},
   "outputs": [
    {
     "name": "stdout",
     "output_type": "stream",
     "text": [
      "The mean is 42.66\n",
      "The median is 43.0\n",
      "The sample size is 142\n",
      "The standard deviation is 13.95\n"
     ]
    },
    {
     "data": {
      "image/png": "[encoded data removed]",
      "text/plain": [
       "<Figure size 432x288 with 1 Axes>"
      ]
     },
     "metadata": {},
     "output_type": "display_data"
    }
   ],
   "source": [
    "describe(neuro)"
   ]
  },
  {
   "cell_type": "markdown",
   "metadata": {},
   "source": [
    "## Standardized scores\n",
    "\n",
    "The formula for the standardized score is:\n",
    "\n",
    "$$z = \\frac{x-\\mu}{\\sigma}$$\n",
    "\n",
    "where $x$ is the score from the data set and $\\mu$ and $\\sigma$ are the population mean and standard deviation respectively."
   ]
  },
  {
   "cell_type": "markdown",
   "metadata": {},
   "source": [
    "### Creating a `z_scores` function"
   ]
  },
  {
   "cell_type": "code",
   "execution_count": 128,
   "metadata": {},
   "outputs": [],
   "source": [
    "def z_scores(array):\n",
    "    mean = np.mean(array)\n",
    "    sd = np.std(array)\n",
    "    return (array - mean) / sd"
   ]
  },
  {
   "cell_type": "code",
   "execution_count": 129,
   "metadata": {},
   "outputs": [
    {
     "data": {
      "text/plain": [
       "array([-2.35029814, -2.27833989, -2.27833989, -1.99050692, -1.91854867,\n",
       "       -1.84659043, -1.77463219, -1.70267394, -1.48679921, -1.41484097,\n",
       "       -1.34288272, -1.34288272, -1.34288272, -1.27092448, -1.27092448,\n",
       "       -1.19896623, -1.19896623, -1.12700799, -1.05504975, -1.05504975,\n",
       "       -1.05504975, -0.9830915 , -0.9830915 , -0.9830915 , -0.9830915 ,\n",
       "       -0.9830915 , -0.9830915 , -0.91113326, -0.91113326, -0.91113326,\n",
       "       -0.83917501, -0.83917501, -0.76721677, -0.76721677, -0.69525853,\n",
       "       -0.69525853, -0.62330028, -0.62330028, -0.62330028, -0.62330028,\n",
       "       -0.62330028, -0.62330028, -0.62330028, -0.62330028, -0.55134204,\n",
       "       -0.55134204, -0.55134204, -0.47938379, -0.47938379, -0.40742555,\n",
       "       -0.40742555, -0.40742555, -0.33546731, -0.33546731, -0.33546731,\n",
       "       -0.26350906, -0.26350906, -0.19155082, -0.19155082, -0.19155082,\n",
       "       -0.19155082, -0.19155082, -0.11959257, -0.11959257, -0.11959257,\n",
       "       -0.11959257, -0.11959257, -0.11959257, -0.04763433,  0.02432391,\n",
       "        0.02432391,  0.02432391,  0.09628216,  0.09628216,  0.09628216,\n",
       "        0.09628216,  0.09628216,  0.09628216,  0.09628216,  0.1682404 ,\n",
       "        0.1682404 ,  0.1682404 ,  0.24019865,  0.24019865,  0.24019865,\n",
       "        0.24019865,  0.31215689,  0.31215689,  0.38411513,  0.38411513,\n",
       "        0.38411513,  0.45607338,  0.45607338,  0.45607338,  0.45607338,\n",
       "        0.52803162,  0.52803162,  0.52803162,  0.52803162,  0.52803162,\n",
       "        0.59998987,  0.59998987,  0.67194811,  0.67194811,  0.67194811,\n",
       "        0.74390635,  0.74390635,  0.74390635,  0.74390635,  0.74390635,\n",
       "        0.74390635,  0.74390635,  0.8158646 ,  0.8158646 ,  0.8158646 ,\n",
       "        0.8158646 ,  0.88782284,  0.95978108,  0.95978108,  1.03173933,\n",
       "        1.03173933,  1.03173933,  1.03173933,  1.03173933,  1.03173933,\n",
       "        1.10369757,  1.17565582,  1.17565582,  1.17565582,  1.39153055,\n",
       "        1.46348879,  1.67936352,  1.67936352,  1.67936352,  1.67936352,\n",
       "        1.75132177,  1.82328001,  1.89523826,  1.9671965 ,  2.18307123,\n",
       "        2.18307123,  2.47090421])"
      ]
     },
     "execution_count": 129,
     "metadata": {},
     "output_type": "execute_result"
    }
   ],
   "source": [
    "z_scores(neuro)"
   ]
  },
  {
   "cell_type": "markdown",
   "metadata": {},
   "source": [
    "## Correlation"
   ]
  },
  {
   "cell_type": "markdown",
   "metadata": {},
   "source": [
    "Let's check to see if the two numeric variables of `neuro` (neuroticism) and `anx` (anxiety) are associated."
   ]
  },
  {
   "cell_type": "code",
   "execution_count": 130,
   "metadata": {},
   "outputs": [
    {
     "data": {
      "text/html": [
       "<table border=\"1\" class=\"dataframe\">\n",
       "    <thead>\n",
       "        <tr>\n",
       "            <th>Neuro</th> <th>Anx</th>\n",
       "        </tr>\n",
       "    </thead>\n",
       "    <tbody>\n",
       "        <tr>\n",
       "            <td>10   </td> <td>23  </td>\n",
       "        </tr>\n",
       "        <tr>\n",
       "            <td>11   </td> <td>24  </td>\n",
       "        </tr>\n",
       "        <tr>\n",
       "            <td>11   </td> <td>27  </td>\n",
       "        </tr>\n",
       "        <tr>\n",
       "            <td>15   </td> <td>30  </td>\n",
       "        </tr>\n",
       "        <tr>\n",
       "            <td>16   </td> <td>40  </td>\n",
       "        </tr>\n",
       "    </tbody>\n",
       "</table>\n",
       "<p>... (137 rows omitted)</p>"
      ],
      "text/plain": [
       "<IPython.core.display.HTML object>"
      ]
     },
     "metadata": {},
     "output_type": "display_data"
    }
   ],
   "source": [
    "data = pers.select('Neuro','Anx')\n",
    "data.show(5)"
   ]
  },
  {
   "cell_type": "markdown",
   "metadata": {},
   "source": [
    "The correlation can be calculated in terms of $z$-scores (standardized scores).\n",
    "\n",
    "$$r = \\frac{1}{n-1} \\sum z_{x_i} z_{y_i}$$\n",
    "\n",
    "meaning we multiply all $xy$-pairs of standardized scores, sum them and divide by $n-1$.\n",
    "\n",
    "The line of best fit always passes through the point\n",
    "\n",
    "$$\\left(\\overline{x},\\overline{y}\\right)$$\n",
    "\n",
    "and has slope\n",
    "\n",
    "$$m = r \\left(\\frac{s_y}{s_x}\\right)$$\n",
    "\n",
    "where $s_x$ and $s_y$ are the sample standard deviations for the $x$ and $y$ variables respectively. In statistics, we write the line of best fit as\n",
    "\n",
    "$$y = a + bx$$\n",
    "\n",
    "where $a$ is the $y$-intercept and $b$ is the slope."
   ]
  },
  {
   "cell_type": "markdown",
   "metadata": {},
   "source": [
    "### Creating the `reg_r` and `reg_stat` function to calculate regression statistics and produce a scatter plot"
   ]
  },
  {
   "cell_type": "code",
   "execution_count": 136,
   "metadata": {},
   "outputs": [],
   "source": [
    "def reg_r (tab):\n",
    "    x = tab.column(0)\n",
    "    y = tab.column(1)\n",
    "    return sum(z_scores(x)*z_scores(y))/(n-1)"
   ]
  },
  {
   "cell_type": "code",
   "execution_count": 137,
   "metadata": {},
   "outputs": [],
   "source": [
    "def reg_stat (tab):\n",
    "    x = tab.column(0)\n",
    "    y = tab.column(1)\n",
    "    r = reg_r(tab)\n",
    "    b = r * np.std(y) / np.std(x)\n",
    "    a = np.mean(y) - b * np.mean(x)\n",
    "    print('The correlation is ', r)\n",
    "    print('The line of best fit is y =',round(a,4), '+',round(b,4),'x')\n",
    "    tab.scatter(0,1, fit_line = True)"
   ]
  },
  {
   "cell_type": "code",
   "execution_count": 138,
   "metadata": {},
   "outputs": [
    {
     "name": "stdout",
     "output_type": "stream",
     "text": [
      "The correlation is  0.7140323446533897\n",
      "The line of best fit is y = 16.8451 + 0.4833 x\n"
     ]
    },
    {
     "data": {
      "image/png": "[encoded data removed]",
      "text/plain": [
       "<Figure size 360x360 with 1 Axes>"
      ]
     },
     "metadata": {},
     "output_type": "display_data"
    }
   ],
   "source": [
    "reg_stat(data)"
   ]
  },
  {
   "cell_type": "markdown",
   "metadata": {},
   "source": [
    "### Creating the `reg_shuffle` function\n",
    "\n",
    "While not a descriptive statistic, we do need a test for significant correlation. The idea is similar to A/B testing. We can randomly shuffle the $y$-variable and determine a distribution that assumes a zero correlation. We can compare our observed correlation to that value.\n",
    "\n",
    "Let's begin with the `ab_shuffle` function and tweak it slightly.\n",
    "\n",
    "```\n",
    "def ab_shuffle(tab):\n",
    "    shuffle_group = tab.sample(with_replacement = False).column(0)\n",
    "    shuffled_tab = tab.with_column(\"Shuffled Grouping\",shuffle_group).select(2,1)\n",
    "    return shuffled_tab\n",
    "```\n",
    "\n",
    "We want to feed our function a two-column table with the $x$-variable listed in the first column, and shuffle the second column. (The `ab_shuffle` function shuffles the first column.) We also need to return the original $x$ column with the shuffled $y$, e.g. the first and third columns."
   ]
  },
  {
   "cell_type": "code",
   "execution_count": 139,
   "metadata": {},
   "outputs": [],
   "source": [
    "def reg_shuffle(tab):\n",
    "    shuffled_y = tab.sample(with_replacement = False).column(1)\n",
    "    shuffled_tab = tab.with_column(\"Shuffled Y\",shuffled_y).select(0,2)\n",
    "    return shuffled_tab"
   ]
  },
  {
   "cell_type": "code",
   "execution_count": 140,
   "metadata": {},
   "outputs": [
    {
     "data": {
      "text/html": [
       "<table border=\"1\" class=\"dataframe\">\n",
       "    <thead>\n",
       "        <tr>\n",
       "            <th>Neuro</th> <th>Shuffled Y</th>\n",
       "        </tr>\n",
       "    </thead>\n",
       "    <tbody>\n",
       "        <tr>\n",
       "            <td>10   </td> <td>51        </td>\n",
       "        </tr>\n",
       "        <tr>\n",
       "            <td>11   </td> <td>40        </td>\n",
       "        </tr>\n",
       "        <tr>\n",
       "            <td>11   </td> <td>32        </td>\n",
       "        </tr>\n",
       "        <tr>\n",
       "            <td>15   </td> <td>24        </td>\n",
       "        </tr>\n",
       "        <tr>\n",
       "            <td>16   </td> <td>42        </td>\n",
       "        </tr>\n",
       "        <tr>\n",
       "            <td>17   </td> <td>33        </td>\n",
       "        </tr>\n",
       "        <tr>\n",
       "            <td>18   </td> <td>31        </td>\n",
       "        </tr>\n",
       "        <tr>\n",
       "            <td>19   </td> <td>41        </td>\n",
       "        </tr>\n",
       "        <tr>\n",
       "            <td>22   </td> <td>36        </td>\n",
       "        </tr>\n",
       "        <tr>\n",
       "            <td>23   </td> <td>44        </td>\n",
       "        </tr>\n",
       "    </tbody>\n",
       "</table>\n",
       "<p>... (132 rows omitted)</p>"
      ],
      "text/plain": [
       "Neuro | Shuffled Y\n",
       "10    | 51\n",
       "11    | 40\n",
       "11    | 32\n",
       "15    | 24\n",
       "16    | 42\n",
       "17    | 33\n",
       "18    | 31\n",
       "19    | 41\n",
       "22    | 36\n",
       "23    | 44\n",
       "... (132 rows omitted)"
      ]
     },
     "execution_count": 140,
     "metadata": {},
     "output_type": "execute_result"
    }
   ],
   "source": [
    "reg_shuffle(neuroanx)"
   ]
  },
  {
   "cell_type": "markdown",
   "metadata": {},
   "source": [
    "This will allow us to build a `for` loop and create the distribution of the test statistic that models a zero correlation."
   ]
  }
 ],
 "metadata": {
  "anaconda-cloud": {},
  "kernelspec": {
   "display_name": "Python 3",
   "language": "python",
   "name": "python3"
  },
  "language_info": {
   "codemirror_mode": {
    "name": "ipython",
    "version": 3
   },
   "file_extension": ".py",
   "mimetype": "text/x-python",
   "name": "python",
   "nbconvert_exporter": "python",
   "pygments_lexer": "ipython3",
   "version": "3.7.6"
  }
 },
 "nbformat": 4,
 "nbformat_minor": 4
}
