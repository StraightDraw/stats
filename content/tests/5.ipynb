{
 "cells": [
  {
   "cell_type": "markdown",
   "metadata": {},
   "source": [
    "# 25. Bootstrapping Examples"
   ]
  },
  {
   "cell_type": "code",
   "execution_count": 1,
   "metadata": {},
   "outputs": [],
   "source": [
    "from datascience import *\n",
    "import numpy as np\n",
    "\n",
    "%matplotlib inline\n",
    "\n",
    "import matplotlib.pyplot as plots\n",
    "plots.style.use('fivethirtyeight')\n",
    "\n",
    "from scipy import stats"
   ]
  },
  {
   "cell_type": "markdown",
   "metadata": {},
   "source": [
    "## Bootstrapping functions\n",
    "\n",
    "The function `boot_one` creates a single resample and find its average. The function `boot_hist` takes an array representing a bootstrap distribution, plots it and calculates the 95% confidence interval."
   ]
  },
  {
   "cell_type": "code",
   "execution_count": 26,
   "metadata": {},
   "outputs": [],
   "source": [
    "def boot_one(table, samp_size):\n",
    "    resample = table.sample(samp_size)\n",
    "    return np.average(resample.column(0))"
   ]
  },
  {
   "cell_type": "code",
   "execution_count": 27,
   "metadata": {},
   "outputs": [],
   "source": [
    "def boot_hist (array):\n",
    "    left = round(percentile(2.5, array),2)\n",
    "    right = round(percentile(97.5, array),2)\n",
    "    avg = round(np.average(array),2)\n",
    "    tab = Table().with_column('Bootstrapped Sample',array)\n",
    "    tab.hist(0)\n",
    "    _ = plots.title('95% Confidence Interval')\n",
    "    _ = plots.plot([left, left], [0, 0.1], color='red', lw=2)\n",
    "    _ = plots.plot([right, right], [0, 0.1], color='red', lw=2)\n",
    "    _ = plots.scatter(avg, 0, color=\"gold\", s = 200,zorder=2);\n",
    "    print(\"The 95% confidence interval lies between \", left,\" and \", right, \",\")\n",
    "    print(\"and the gold dot at x = \", avg, \" is the mean of the bootstrapped sample distribution.\")"
   ]
  },
  {
   "cell_type": "markdown",
   "metadata": {},
   "source": [
    "Often, creating a 90% confidence interval is useful. The code block below is indentical to the above except that it finds a 90% confidence interval instead."
   ]
  },
  {
   "cell_type": "code",
   "execution_count": 97,
   "metadata": {},
   "outputs": [],
   "source": [
    "def boot_hist_90 (array):\n",
    "    left = round(percentile(5, array),2)\n",
    "    right = round(percentile(95, array),2)\n",
    "    avg = round(np.average(array),2)\n",
    "    tab = Table().with_column('Bootstrapped Sample',array)\n",
    "    tab.hist(0)\n",
    "    _ = plots.title('90% Confidence Interval')\n",
    "    _ = plots.plot([left, left], [0, 0.1], color='red', lw=2)\n",
    "    _ = plots.plot([right, right], [0, 0.1], color='red', lw=2)\n",
    "    _ = plots.scatter(avg, 0, color=\"gold\", s = 200,zorder=2);\n",
    "    print(\"The 90% confidence interval lies between \", left,\" and \", right, \",\")\n",
    "    print(\"and the gold dot at x = \", avg, \" is the mean of the bootstrapped sample distribution.\")"
   ]
  },
  {
   "cell_type": "code",
   "execution_count": 9,
   "metadata": {},
   "outputs": [
    {
     "data": {
      "text/html": [
       "<table border=\"1\" class=\"dataframe\">\n",
       "    <thead>\n",
       "        <tr>\n",
       "            <th>Sex</th> <th>G21</th> <th>Greek</th> <th>AccDate</th> <th>Stress1</th> <th>Stress2</th> <th>Perf</th> <th>Narc</th>\n",
       "        </tr>\n",
       "    </thead>\n",
       "    <tbody>\n",
       "        <tr>\n",
       "            <td>F   </td> <td>N   </td> <td>N    </td> <td>N      </td> <td>9      </td> <td>7      </td> <td>99  </td> <td>3   </td>\n",
       "        </tr>\n",
       "        <tr>\n",
       "            <td>F   </td> <td>Y   </td> <td>N    </td> <td>Y      </td> <td>11     </td> <td>13     </td> <td>86  </td> <td>2   </td>\n",
       "        </tr>\n",
       "        <tr>\n",
       "            <td>F   </td> <td>N   </td> <td>Y    </td> <td>N      </td> <td>15     </td> <td>14     </td> <td>118 </td> <td>4   </td>\n",
       "        </tr>\n",
       "        <tr>\n",
       "            <td>F   </td> <td>N   </td> <td>N    </td> <td>Y      </td> <td>16     </td> <td>15     </td> <td>113 </td> <td>2   </td>\n",
       "        </tr>\n",
       "        <tr>\n",
       "            <td>F   </td> <td>Y   </td> <td>N    </td> <td>Y      </td> <td>17     </td> <td>17     </td> <td>107 </td> <td>8   </td>\n",
       "        </tr>\n",
       "    </tbody>\n",
       "</table>\n",
       "<p>... (143 rows omitted)</p>"
      ],
      "text/plain": [
       "<IPython.core.display.HTML object>"
      ]
     },
     "metadata": {},
     "output_type": "display_data"
    }
   ],
   "source": [
    "pers = Table.read_table('http://faculty.ung.edu/rsinn/perfnarc.csv')\n",
    "pers.show(5)"
   ]
  },
  {
   "cell_type": "markdown",
   "metadata": {},
   "source": [
    "### Example 1: Narcissism"
   ]
  },
  {
   "cell_type": "markdown",
   "metadata": {},
   "source": [
    "Estimate the average naricissism level for females undergraduates at UNG. We need to create a table with the correct numeric variable in the first column."
   ]
  },
  {
   "cell_type": "code",
   "execution_count": 12,
   "metadata": {},
   "outputs": [
    {
     "data": {
      "text/html": [
       "<table border=\"1\" class=\"dataframe\">\n",
       "    <thead>\n",
       "        <tr>\n",
       "            <th>Narc</th>\n",
       "        </tr>\n",
       "    </thead>\n",
       "    <tbody>\n",
       "        <tr>\n",
       "            <td>3   </td>\n",
       "        </tr>\n",
       "        <tr>\n",
       "            <td>2   </td>\n",
       "        </tr>\n",
       "        <tr>\n",
       "            <td>4   </td>\n",
       "        </tr>\n",
       "        <tr>\n",
       "            <td>2   </td>\n",
       "        </tr>\n",
       "        <tr>\n",
       "            <td>8   </td>\n",
       "        </tr>\n",
       "    </tbody>\n",
       "</table>\n",
       "<p>... (80 rows omitted)</p>"
      ],
      "text/plain": [
       "<IPython.core.display.HTML object>"
      ]
     },
     "metadata": {},
     "output_type": "display_data"
    }
   ],
   "source": [
    "fem_narc = pers.where('Sex','F').select('Narc')\n",
    "fem_narc.show(5)"
   ]
  },
  {
   "cell_type": "code",
   "execution_count": 28,
   "metadata": {},
   "outputs": [],
   "source": [
    "boot_samp = make_array()\n",
    "resamp_size = 50\n",
    "\n",
    "# Never need more than 1k reps, use 500 or fewer if working the cloud.\n",
    "resample_reps = 1000\n",
    "\n",
    "for i in range(resample_reps):\n",
    "    new_boot = boot_one(fem_narc,resamp_size)\n",
    "    boot_samp = np.append(boot_samp, new_boot)\n",
    "    \n",
    "# Remove the hashtag comment symbol to see the boot_samp results array\n",
    "#boot_samp"
   ]
  },
  {
   "cell_type": "code",
   "execution_count": 14,
   "metadata": {},
   "outputs": [
    {
     "name": "stdout",
     "output_type": "stream",
     "text": [
      "The 95% confidence interval lies between  3.04  and  4.54 ,\n",
      "and the gold dot at x =  3.81  is the mean of the bootstrapped sample distribution.\n"
     ]
    },
    {
     "data": {
      "image/png": "[encoded data removed]",
      "text/plain": [
       "<Figure size 432x288 with 1 Axes>"
      ]
     },
     "metadata": {},
     "output_type": "display_data"
    }
   ],
   "source": [
    "boot_hist(boot_samp)"
   ]
  },
  {
   "cell_type": "markdown",
   "metadata": {},
   "source": [
    "## Example 2: Prestest Stress"
   ]
  },
  {
   "cell_type": "markdown",
   "metadata": {},
   "source": [
    "Let's create two bootstrap confidence interval, one for pretest Stress (measured 2nd week of classes), one for posttest Stress (measured 7th week)."
   ]
  },
  {
   "cell_type": "code",
   "execution_count": 54,
   "metadata": {},
   "outputs": [
    {
     "data": {
      "text/html": [
       "<table border=\"1\" class=\"dataframe\">\n",
       "    <thead>\n",
       "        <tr>\n",
       "            <th>Stress1</th>\n",
       "        </tr>\n",
       "    </thead>\n",
       "    <tbody>\n",
       "        <tr>\n",
       "            <td>9      </td>\n",
       "        </tr>\n",
       "        <tr>\n",
       "            <td>11     </td>\n",
       "        </tr>\n",
       "        <tr>\n",
       "            <td>15     </td>\n",
       "        </tr>\n",
       "        <tr>\n",
       "            <td>16     </td>\n",
       "        </tr>\n",
       "        <tr>\n",
       "            <td>17     </td>\n",
       "        </tr>\n",
       "    </tbody>\n",
       "</table>\n",
       "<p>... (143 rows omitted)</p>"
      ],
      "text/plain": [
       "<IPython.core.display.HTML object>"
      ]
     },
     "metadata": {},
     "output_type": "display_data"
    }
   ],
   "source": [
    "pre = pers.select('Stress1')\n",
    "pre.show(5)"
   ]
  },
  {
   "cell_type": "code",
   "execution_count": 55,
   "metadata": {},
   "outputs": [
    {
     "data": {
      "text/plain": [
       "13.56"
      ]
     },
     "execution_count": 55,
     "metadata": {},
     "output_type": "execute_result"
    }
   ],
   "source": [
    "boot_one(pre,50)"
   ]
  },
  {
   "cell_type": "code",
   "execution_count": 66,
   "metadata": {},
   "outputs": [],
   "source": [
    "boot_samp_pre = make_array()\n",
    "resamp_size = 50\n",
    "\n",
    "# Never need more than 1k reps, use 500 or fewer if working the cloud.\n",
    "resample_reps = 1000\n",
    "\n",
    "for i in range(resample_reps):\n",
    "    new_boot = boot_one(pre,resamp_size)\n",
    "    boot_samp_pre = np.append(boot_samp_pre, new_boot)\n",
    "    \n",
    "# Remove the hashtag comment symbol to see the boot_samp results array\n",
    "# boot_samp_pre"
   ]
  },
  {
   "cell_type": "code",
   "execution_count": 67,
   "metadata": {},
   "outputs": [
    {
     "name": "stdout",
     "output_type": "stream",
     "text": [
      "The 95% confidence interval lies between  12.04  and  14.0 ,\n",
      "and the gold dot at x =  13.03  is the mean of the bootstrapped sample distribution.\n"
     ]
    },
    {
     "data": {
      "image/png": "[encoded data removed]",
      "text/plain": [
       "<Figure size 432x288 with 1 Axes>"
      ]
     },
     "metadata": {},
     "output_type": "display_data"
    }
   ],
   "source": [
    "boot_hist(boot_samp_pre)"
   ]
  },
  {
   "cell_type": "markdown",
   "metadata": {},
   "source": [
    "## Example 2b: Posttest Stress\n",
    "\n",
    "Let's compare the boostrap distributions from Pre and Post."
   ]
  },
  {
   "cell_type": "code",
   "execution_count": 68,
   "metadata": {},
   "outputs": [
    {
     "data": {
      "text/html": [
       "<table border=\"1\" class=\"dataframe\">\n",
       "    <thead>\n",
       "        <tr>\n",
       "            <th>Stress2</th>\n",
       "        </tr>\n",
       "    </thead>\n",
       "    <tbody>\n",
       "        <tr>\n",
       "            <td>7      </td>\n",
       "        </tr>\n",
       "        <tr>\n",
       "            <td>13     </td>\n",
       "        </tr>\n",
       "        <tr>\n",
       "            <td>14     </td>\n",
       "        </tr>\n",
       "        <tr>\n",
       "            <td>15     </td>\n",
       "        </tr>\n",
       "        <tr>\n",
       "            <td>17     </td>\n",
       "        </tr>\n",
       "    </tbody>\n",
       "</table>\n",
       "<p>... (143 rows omitted)</p>"
      ],
      "text/plain": [
       "<IPython.core.display.HTML object>"
      ]
     },
     "metadata": {},
     "output_type": "display_data"
    }
   ],
   "source": [
    "post = pers.select('Stress2')\n",
    "post.show(5)"
   ]
  },
  {
   "cell_type": "code",
   "execution_count": 70,
   "metadata": {},
   "outputs": [],
   "source": [
    "boot_samp_post = make_array()\n",
    "resamp_size = 50\n",
    "\n",
    "# Never need more than 1k reps, use 500 or fewer if working the cloud.\n",
    "resample_reps = 1000\n",
    "\n",
    "for i in range(resample_reps):\n",
    "    new_boot = boot_one(pre,resamp_size)\n",
    "    boot_samp_post = np.append(boot_samp_post, new_boot)\n",
    "    \n",
    "# Remove the hashtag comment symbol to see the boot_samp results array\n",
    "# boot_samp_pre"
   ]
  },
  {
   "cell_type": "code",
   "execution_count": 71,
   "metadata": {},
   "outputs": [
    {
     "name": "stdout",
     "output_type": "stream",
     "text": [
      "The 95% confidence interval lies between  12.08  and  13.94 ,\n",
      "and the gold dot at x =  13.0  is the mean of the bootstrapped sample distribution.\n"
     ]
    },
    {
     "data": {
      "image/png": "[encoded data removed]",
      "text/plain": [
       "<Figure size 432x288 with 1 Axes>"
      ]
     },
     "metadata": {},
     "output_type": "display_data"
    }
   ],
   "source": [
    "boot_hist(boot_samp_post)"
   ]
  },
  {
   "cell_type": "markdown",
   "metadata": {},
   "source": [
    "Comparing the bootstrap confidence intervals is like conducting an A/B test. Because the 95% confidence intervals overlap, we fail to the reject the null hypothesis at the 0.05 level. However, this is paired data. It would be interesting to bootstrap the **gain score** distribution to see typical gains are greater than zero.\n"
   ]
  },
  {
   "cell_type": "code",
   "execution_count": 87,
   "metadata": {},
   "outputs": [
    {
     "data": {
      "text/html": [
       "<table border=\"1\" class=\"dataframe\">\n",
       "    <thead>\n",
       "        <tr>\n",
       "            <th>Gain</th>\n",
       "        </tr>\n",
       "    </thead>\n",
       "    <tbody>\n",
       "        <tr>\n",
       "            <td>-2  </td>\n",
       "        </tr>\n",
       "        <tr>\n",
       "            <td>2   </td>\n",
       "        </tr>\n",
       "        <tr>\n",
       "            <td>-1  </td>\n",
       "        </tr>\n",
       "        <tr>\n",
       "            <td>-1  </td>\n",
       "        </tr>\n",
       "        <tr>\n",
       "            <td>0   </td>\n",
       "        </tr>\n",
       "    </tbody>\n",
       "</table>\n",
       "<p>... (143 rows omitted)</p>"
      ],
      "text/plain": [
       "<IPython.core.display.HTML object>"
      ]
     },
     "metadata": {},
     "output_type": "display_data"
    }
   ],
   "source": [
    "gain_array = pers.select('Stress2').column(0) - pers.select('Stress1').column(0)\n",
    "gain = Table().with_column('Gain',gain_array)\n",
    "gain.show(5)"
   ]
  },
  {
   "cell_type": "code",
   "execution_count": 92,
   "metadata": {},
   "outputs": [
    {
     "data": {
      "text/plain": [
       "1.0"
      ]
     },
     "execution_count": 92,
     "metadata": {},
     "output_type": "execute_result"
    }
   ],
   "source": [
    "boot_one(gain,len(gain))"
   ]
  },
  {
   "cell_type": "code",
   "execution_count": 99,
   "metadata": {},
   "outputs": [],
   "source": [
    "boot_samp_gain = make_array()\n",
    "resamp_size = 50\n",
    "\n",
    "# Never need more than 1k reps, use 500 or fewer if working the cloud.\n",
    "resample_reps = 1000\n",
    "\n",
    "for i in range(resample_reps):\n",
    "    new_boot = boot_one(gain, resamp_size)\n",
    "    boot_samp_gain = np.append(boot_samp_gain, new_boot)\n",
    "    \n",
    "# Remove the hashtag comment symbol to see the boot_samp results array\n",
    "# boot_samp_gain"
   ]
  },
  {
   "cell_type": "code",
   "execution_count": 100,
   "metadata": {},
   "outputs": [
    {
     "name": "stdout",
     "output_type": "stream",
     "text": [
      "The 90% confidence interval lies between  0.04  and  1.6 ,\n",
      "and the gold dot at x =  0.84  is the mean of the bootstrapped sample distribution.\n"
     ]
    },
    {
     "data": {
      "image/png": "[encoded data removed]",
      "text/plain": [
       "<Figure size 432x288 with 1 Axes>"
      ]
     },
     "metadata": {},
     "output_type": "display_data"
    }
   ],
   "source": [
    "boot_hist_90(boot_samp_gain)"
   ]
  },
  {
   "cell_type": "markdown",
   "metadata": {},
   "source": [
    "Since the 90% confidence interval does not include zero, we can conclude that the Gain in the Stress variable is positive. This result is analogous to a one-tailed pre-post hypothesis test at the 0.05 level of significance."
   ]
  }
 ],
 "metadata": {
  "anaconda-cloud": {},
  "kernelspec": {
   "display_name": "Python 3",
   "language": "python",
   "name": "python3"
  },
  "language_info": {
   "codemirror_mode": {
    "name": "ipython",
    "version": 3
   },
   "file_extension": ".py",
   "mimetype": "text/x-python",
   "name": "python",
   "nbconvert_exporter": "python",
   "pygments_lexer": "ipython3",
   "version": "3.7.6"
  }
 },
 "nbformat": 4,
 "nbformat_minor": 4
}
