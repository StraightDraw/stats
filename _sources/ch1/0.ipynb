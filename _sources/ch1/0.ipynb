{
 "cells": [
  {
   "cell_type": "markdown",
   "metadata": {},
   "source": [
    "# Building Blocks"
   ]
  },
  {
   "cell_type": "markdown",
   "metadata": {},
   "source": [
    "Anaconda will be the quarterback running from your local machine, and GitHub will be the engine that runs your web content. Best news? It's all open-source and available free.\n",
    "\n",
    "````{margin}\n",
    "MYST has several pre-defined special code blocks: *tips*, *warnings*, *notes*, *margins* (which display in right margin like this) and *see also*.\n",
    "````\n",
    "\n",
    "````{note}\n",
    "Anaconda is often abbreviated *conda*. *Repo* stands for repository.\n",
    "````\n",
    "\n",
    "I have created a set of template files that you can copy-paste into your repo. Since I've compiled them already, I know that they will work when you run JupyterBook and not throw error codes. At the moment, you should email me if you'd like them. I plan to have them linked online soon.\n",
    "\n",
    "````{margin}\n",
    "Numbered lists in MYST are far easier than LaTeX or HTML.\n",
    "````"
   ]
  },
  {
   "cell_type": "markdown",
   "metadata": {},
   "source": [
    "## Quick Overview: Creating a JupyterBook \n",
    "\n",
    "1. Create online repo on github\n",
    "2. Clone the repo onto local machine\n",
    "3. Paste template files into local repo\n",
    "4. Add, commit, push to get files out to github\n",
    "5. Create branch in github repo\n",
    "6. Build JupyterBook on local machine\n",
    "7. Add, commit, push again\n",
    "8. Run ghp-import script to knit the whole thing together and publish it online"
   ]
  }
 ],
 "metadata": {
  "kernelspec": {
   "display_name": "Python 3",
   "language": "python",
   "name": "python3"
  },
  "language_info": {
   "codemirror_mode": {
    "name": "ipython",
    "version": 3
   },
   "file_extension": ".py",
   "mimetype": "text/x-python",
   "name": "python",
   "nbconvert_exporter": "python",
   "pygments_lexer": "ipython3",
   "version": "3.8.5"
  }
 },
 "nbformat": 4,
 "nbformat_minor": 4
}
