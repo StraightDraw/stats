{
 "cells": [
  {
   "cell_type": "markdown",
   "metadata": {},
   "source": [
    "# 1.3 JupyterBooks"
   ]
  },
  {
   "cell_type": "markdown",
   "metadata": {},
   "source": [
    "The hard part is over, and let's be real. It was not that hard. It wasn't that hard when I spent twenty hours of my life figuring it out, either, but it felt that way. I like understanding the tools I'm using and how they work, but these are super powerful tools with lots of applications, so you can spend a lot of time digging around and not getting anywhere. If you've made it here, give yourself a big pat on the back."
   ]
  },
  {
   "cell_type": "markdown",
   "metadata": {},
   "source": [
    "Make sure to open Conda in Administrator mode. If you didn't, close it and reopen. Open the CMD.exe Prompt from Conda Navigator, and use the **cd** command (change directory) to get to the \"newbook\" folder on your local machine. For me, it looked like this:\n",
    "\n",
    "```\n",
    "cd documents/conda/newbook\n",
    "```\n",
    "\n",
    "Now we're ready to use JupyterBooks to build out all the ipynb source files into HTML a browser can understand.\n",
    "\n",
    "```\n",
    "jb build content\n",
    "```\n",
    "\n",
    "The \"jb\" is short for jupyter-book, so this version also works (but you'll never use it).\n",
    "\n",
    "```\n",
    "jupyter-book build content\n",
    "```\n",
    "\n",
    "We're asking the jupyter-book package to run its build command on everything inside the content folder."
   ]
  },
  {
   "cell_type": "markdown",
   "metadata": {},
   "source": [
    "## Add, Commit, Push\n",
    "\n",
    "These commands work exactly as before. Now that we've built out our JupyterBook, we have a bunch of new files in our repo folder. Check out the \\_build folder, and you'll see tons of stuff. Go to the html folder and click on the file \"Introduction.html\" to preview your JupyterBook compile locally. You'll be doing this often as you update your JupyterBook.\n",
    "\n",
    "Still, your repos have no idea the new files exist, so we use the same process as before.\n",
    "\n",
    "```\n",
    "git add ./*\n",
    "```\n",
    "```\n",
    "git commit -m \"Put a note here\"\n",
    "```\n",
    "```\n",
    "git push\n",
    "```\n",
    "\n",
    "## Lauch your JupyterBook Online\n",
    "\n",
    "The **ghp-import** script is a wonderful tool. While building a website on GitHub using Jekyll isn't impossible, it can be tricky to get all the settings exactly right. Not for us, though.\n",
    "\n",
    "````{margin}\n",
    "```{warning}\n",
    "My Norton firewall prevented this command from executing, and I had to click on the pop-up warning and create an exception. Depending on your settings, you firewall may object earlier or later.\n",
    "```\n",
    "````\n",
    "\n",
    "```\n",
    "ghp-import -n -p -f _build/html\n",
    "```\n",
    "\n",
    "We have three options indicated by the dashes.\n",
    "\n",
    "* -n means to **not** use Jekyll to build out the HTML on GitHub Pages. JupyterBooks has handled that part already.\n",
    "* -p is a push\n",
    "* -f forces the push\n",
    "\n",
    "The script does not work for me without all three options included. If it doesn't bonk, you're website is live.\n",
    "\n",
    "````{warning}\n",
    "Soon, you will be able to reference your URL without case sensivity, and various shortcuts will work like leaving off the .html on web references. For now, only the perfect URL will link you up, and GitHub's default point to the \"index.html\" probably will throw a 404 error code at you.\n",
    "````\n",
    "For the first few minutes your website is live, you will have to locate it using the Introduction.html page. Since my username is Straightdraw, the URL looks like this:\n",
    "\n",
    "```\n",
    "https://straightdraw.github.io/newbook/Introduction.html\n",
    "```\n",
    "\n",
    "Tweak the username, and copy-paste into your web browser. Congratulations! You now have a live JupyterBook published on the interwebs."
   ]
  }
 ],
 "metadata": {
  "kernelspec": {
   "display_name": "Python 3",
   "language": "python",
   "name": "python3"
  },
  "language_info": {
   "codemirror_mode": {
    "name": "ipython",
    "version": 3
   },
   "file_extension": ".py",
   "mimetype": "text/x-python",
   "name": "python",
   "nbconvert_exporter": "python",
   "pygments_lexer": "ipython3",
   "version": "3.8.5"
  }
 },
 "nbformat": 4,
 "nbformat_minor": 4
}
