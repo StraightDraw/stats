{
 "cells": [
  {
   "cell_type": "markdown",
   "metadata": {},
   "source": [
    "# 1.1 Conda"
   ]
  },
  {
   "cell_type": "markdown",
   "metadata": {},
   "source": [
    "Anaconda is your quarterback. Set it up correctly, and life is good.\n",
    "\n",
    "````{margin}\n",
    "MYST special code blocks are really easy. This one's a warning, and below you see a tip and hint which use the same styling.\n",
    "````\n",
    "\n",
    "````{warning}\n",
    "The name Miniconda seems like it might be great option that's easier to use, but Anaconda Navigator is best for beginners.\n",
    "````"
   ]
  },
  {
   "cell_type": "markdown",
   "metadata": {},
   "source": [
    "## Download Anaconda. Use Navigator\n",
    "\n",
    "Go to [Anaconda.com](https://www.anaconda.com/products/individual) and dowload the free individual package of Anaconda. Once it's installed, find **Anaconda Navigator**. Don't just open it, put the icon in your start menu. You'll neeed it often.\n",
    "\n",
    "````{tip}\n",
    "Always open Anaconda using the \"Run as administrator\" option  (right click, then \"more\" menu). You don't need administrator level access for most things, but it's annoying to have correct commands fail for no apparent reason.\n",
    "````\n",
    "\n",
    "Conda is an environment manager which can handle multiple complex coding environments. We don't need that. We just want one simple coding environment. We'll create a new environment and keep things simple.\n",
    "\n",
    "````{margin}\n",
    "To create the hint, we just use the following:\n",
    "```\n",
    "````{hint}\n",
    "```\n",
    "````\n",
    "\n",
    "\n",
    "\n",
    "````{hint}\n",
    "Don't make any changes to the base(root) environment. That's the control center.\n",
    "````"
   ]
  },
  {
   "cell_type": "markdown",
   "metadata": {},
   "source": [
    "### Python Environment\n",
    "I suggest you begin with a Python environment, just to get started. My entire Geometry Juypyterbook was built in a plain vanilla Python envrionment. Why not get everything working properly in less than an hour, then work on other environments and engines? Wish I had.\n",
    "\n",
    "To create your new environment, click the \"Environments\" tab on the left menu bar, then create as shown below.\n",
    "\n",
    "````{margin}\n",
    "Check out this [wiki](https://wiki.math.ntnu.no/_media/anaconda) for pretty good instructions about installing and setting up Anaconda.\n",
    "````\n",
    "\n",
    "![Conda Navigator Illustrion](https://wiki.math.ntnu.no/_media/anaconda/navigator-create-environment.png?w=550&tok=9ef301)\n"
   ]
  },
  {
   "cell_type": "markdown",
   "metadata": {},
   "source": [
    "In the pop-up, select the most recent stable version of Python which, as of January, 2021, is Python 3.8. That's your engine. If you want to use R, MATLAB or SciLab as your engine I'll try to help with that later. The install will take a minute or two. When it's ready, click back to \"Home\" from the top-left menu and use the drop-down to make sure you are in the new environment.\n",
    "\n",
    "You'll have the option to install several packages, all of which have their uses. For JupyterBooks, we only need to install JupyterLabs and the CMD.exe Prompt."
   ]
  },
  {
   "cell_type": "markdown",
   "metadata": {},
   "source": [
    "### Installing packages\n",
    "\n",
    "We need to get the **JupyterBooks** and **github** packages installed, and the Python installer program **pip** helps with that. Open the CMD.exe Prompt and execute these commands:"
   ]
  },
  {
   "cell_type": "markdown",
   "metadata": {},
   "source": [
    "````\n",
    "conda install pip\n",
    "````\n",
    "````\n",
    "conda install git\n",
    "````\n",
    "````\n",
    "pip install -U jupyter-book\n",
    "````\n",
    "````\n",
    "pip install ghp-import\n",
    "````"
   ]
  },
  {
   "cell_type": "markdown",
   "metadata": {},
   "source": [
    "Now we have all the tools we need to throw this JupyterBooks touchdown."
   ]
  }
 ],
 "metadata": {
  "kernelspec": {
   "display_name": "Python 3",
   "language": "python",
   "name": "python3"
  },
  "language_info": {
   "codemirror_mode": {
    "name": "ipython",
    "version": 3
   },
   "file_extension": ".py",
   "mimetype": "text/x-python",
   "name": "python",
   "nbconvert_exporter": "python",
   "pygments_lexer": "ipython3",
   "version": "3.8.5"
  }
 },
 "nbformat": 4,
 "nbformat_minor": 4
}
