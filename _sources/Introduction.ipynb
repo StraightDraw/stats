{
 "cells": [
  {
   "cell_type": "markdown",
   "metadata": {},
   "source": [
    "# Template for New JupyterBook"
   ]
  },
  {
   "cell_type": "markdown",
   "metadata": {},
   "source": [
    "## A rescource for developing your own content in a JupyterBook."
   ]
  },
  {
   "cell_type": "markdown",
   "metadata": {},
   "source": [
    "````{margin}\n",
    "```{seealso}\n",
    "Check out the JupyterBook overview documentation at: [jupyterbook.org/intro](https://jupyterbook.org/intro.html)\n",
    "```\n",
    "````\n",
    "JupyterBooks makes publishing interactive web content incredibly easy, and all the powerful tools needed to make it work are open-source and free. Hands down, JupyterBooks is the best set of tools for displaying mathematics and science content whether you are sharing with a faculty team or creating materials for your students.\n",
    "\n",
    "I made notes while learning to use [Python](https://www.python.org/), [Anaconda](https://www.anaconda.com/products/individual), [GitHub](https://github.com/), [MYST](https://jupyterbook.org/content/myst.html) and the Jupyter tools: JupyterLabs, JupyterHub and [JupyterBooks](https://jupyterbook.org/). It's a lot to take in when you're brand new to it, but now I can create a new JupyterBook and get it deployed oneline in less than five minutes.\n",
    "\n",
    "````{margin}\n",
    "This template is a show-and-tell combined with a tutorial. In the right margin, I'll be making notes like this one about the special features of [MYST markdown](https://jupyterbook.org/content/content-blocks.html) that are creating the effects.\n",
    "````\n",
    "\n",
    "````{warning}\n",
    "No warranty is implied or intended. I'm a self-taught noobie sharing advice for others who want to use these tools, especially my colleagues at the University of North Georgia.\n",
    "````\n",
    "\n",
    "MYST is an easy-to-learn markdown language that incorporates LaTeX, HTML and executable code blocks from an array of programming languages like MATLAB, R or Python. JupyterBooks adds the structure: logo, chapters, navigation structure, and previous-next buttons. MYST adds everything else: hyperlinks, images, equations and special code blocks.\n",
    "\n",
    "\n",
    "\n",
    "\n"
   ]
  }
 ],
 "metadata": {
  "kernelspec": {
   "display_name": "Python 3",
   "language": "python",
   "name": "python3"
  },
  "language_info": {
   "codemirror_mode": {
    "name": "ipython",
    "version": 3
   },
   "file_extension": ".py",
   "mimetype": "text/x-python",
   "name": "python",
   "nbconvert_exporter": "python",
   "pygments_lexer": "ipython3",
   "version": "3.8.5"
  }
 },
 "nbformat": 4,
 "nbformat_minor": 4
}
