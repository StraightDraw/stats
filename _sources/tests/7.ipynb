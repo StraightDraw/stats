{
 "cells": [
  {
   "cell_type": "markdown",
   "metadata": {},
   "source": [
    "# 27. Correlation and Regression"
   ]
  },
  {
   "cell_type": "code",
   "execution_count": 1,
   "metadata": {},
   "outputs": [],
   "source": [
    "from datascience import *\n",
    "import numpy as np\n",
    "\n",
    "%matplotlib inline\n",
    "\n",
    "import matplotlib.pyplot as plots\n",
    "plots.style.use('fivethirtyeight')\n",
    "\n",
    "from scipy import stats"
   ]
  },
  {
   "cell_type": "markdown",
   "metadata": {},
   "source": [
    "I keep some data frames in CSV format accessible from my website. One of them is called personality.csv and has, as you might imagine, personality variables. In this case, we are using the `neuroanx` subset which compares [neuroticism](https://www.webmd.com/mental-health/neurotic-behavior-overview), anxiety and several related variables:\n",
    "\n",
    "G21\n",
    ": Y/N response to \"are you 21 years old or older?\"\n",
    "\n",
    "SitClass\n",
    ": Front/middle/back response to \"where do you prefer to sit in class?\"\n",
    "\n",
    "Friends\n",
    ": Same/opposite/no difference response to \"which sex do you find it easiest to make friends with.\"\n",
    "\n",
    "TxRel\n",
    ": Toxic relationships beliefs, higher scores indicate more toxicity.\n",
    "\n",
    "Opt\n",
    ": Optimism, higher scores indicate more optimism\n",
    "\n",
    "SE\n",
    ": Self-esteem, higher score indicate higher levels of self-esteem"
   ]
  },
  {
   "cell_type": "markdown",
   "metadata": {},
   "source": [
    "## Correlation\n",
    "\n",
    "When two numeric variables are associated, we say they are correlated. However, just as association does not imply causation, neither does correlation. \n",
    "\n",
    "We have three valuable functions that we can use to investigate the linear correlation of two variables. Similar to A/B testing, we can randomly shuffle the $y$-variable to test whether the correlation between $x$ and $y$ is significant.\n",
    "\n",
    "1. `reg_r`\n",
    "2. `reg_stat`\n",
    "3. `reg_shuffle`\n",
    "\n",
    "The input for all three functions is a two-column table with two numeric variables, the $x$-variable in the first column and $y$-variable in the second.\n",
    "\n",
    "The `reg_r` function returns the correlation of two variables and requires the `z_scores` function to run properly. The `reg_stat` function produces regression statistics and a scatter plot. The `reg_shuffle` functions like the `ab_shuffle` function and allows us to simulate the null hypothesis in a test of significant correlation."
   ]
  },
  {
   "cell_type": "code",
   "execution_count": 21,
   "metadata": {},
   "outputs": [],
   "source": [
    "def reg_r (tab):\n",
    "    x = tab.column(0)\n",
    "    y = tab.column(1)\n",
    "    return sum(z_scores(x)*z_scores(y))/(tab.num_rows - 1)"
   ]
  },
  {
   "cell_type": "code",
   "execution_count": 22,
   "metadata": {},
   "outputs": [],
   "source": [
    "def z_scores(array):\n",
    "    mean = np.mean(array)\n",
    "    sd = np.std(array)\n",
    "    return (array - mean) / sd"
   ]
  },
  {
   "cell_type": "code",
   "execution_count": 28,
   "metadata": {},
   "outputs": [],
   "source": [
    "def reg_stat (tab):\n",
    "    x = tab.column(0)\n",
    "    y = tab.column(1)\n",
    "    r = sum(z_scores(x)*z_scores(y))/(tab.num_rows - 1)\n",
    "    b = r * np.std(y) / np.std(x)\n",
    "    a = np.mean(y) - b * np.mean(x)\n",
    "    print('The correlation is ', r)\n",
    "    print('The line of best fit is y =',round(a,4), '+',round(b,4),'x')\n",
    "    tab.scatter(0,1, fit_line = True)"
   ]
  },
  {
   "cell_type": "code",
   "execution_count": 29,
   "metadata": {},
   "outputs": [],
   "source": [
    "def reg_shuffle(tab):\n",
    "    shuffled_y = tab.sample(with_replacement = False).column(1)\n",
    "    shuffled_tab = tab.with_column(\"Shuffled Y\",shuffled_y).select(0,2)\n",
    "    return shuffled_tab"
   ]
  },
  {
   "cell_type": "code",
   "execution_count": 52,
   "metadata": {},
   "outputs": [],
   "source": [
    "def ab_hist(myArray, observed_value):\n",
    "    tab = Table().with_column('A/B Differencs',myArray)\n",
    "    tab.hist(0)\n",
    "    _ = plots.plot([observed_value, observed_value], [0, 0.1], color='red', lw=2)"
   ]
  },
  {
   "cell_type": "markdown",
   "metadata": {},
   "source": [
    "## Data for examples"
   ]
  },
  {
   "cell_type": "code",
   "execution_count": 30,
   "metadata": {},
   "outputs": [
    {
     "data": {
      "text/html": [
       "<table border=\"1\" class=\"dataframe\">\n",
       "    <thead>\n",
       "        <tr>\n",
       "            <th>Sex</th> <th>G21</th> <th>SitClass</th> <th>Friends</th> <th>TxRel</th> <th>Anx</th> <th>Opt</th> <th>SE</th> <th>Neuro</th>\n",
       "        </tr>\n",
       "    </thead>\n",
       "    <tbody>\n",
       "        <tr>\n",
       "            <td>M   </td> <td>N   </td> <td>F       </td> <td>O      </td> <td>26   </td> <td>23  </td> <td>20  </td> <td>70  </td> <td>10   </td>\n",
       "        </tr>\n",
       "        <tr>\n",
       "            <td>F   </td> <td>N   </td> <td>M       </td> <td>S      </td> <td>21   </td> <td>24  </td> <td>22  </td> <td>68  </td> <td>11   </td>\n",
       "        </tr>\n",
       "        <tr>\n",
       "            <td>M   </td> <td>Y   </td> <td>F       </td> <td>E      </td> <td>25   </td> <td>27  </td> <td>29  </td> <td>65  </td> <td>11   </td>\n",
       "        </tr>\n",
       "        <tr>\n",
       "            <td>M   </td> <td>Y   </td> <td>B       </td> <td>E      </td> <td>22   </td> <td>30  </td> <td>28  </td> <td>61  </td> <td>15   </td>\n",
       "        </tr>\n",
       "        <tr>\n",
       "            <td>M   </td> <td>N   </td> <td>M       </td> <td>E      </td> <td>23   </td> <td>40  </td> <td>26  </td> <td>64  </td> <td>16   </td>\n",
       "        </tr>\n",
       "    </tbody>\n",
       "</table>\n",
       "<p>... (137 rows omitted)</p>"
      ],
      "text/plain": [
       "<IPython.core.display.HTML object>"
      ]
     },
     "metadata": {},
     "output_type": "display_data"
    }
   ],
   "source": [
    "pers = Table.read_table('http://faculty.ung.edu/rsinn/neuroanx.csv')\n",
    "pers.show(5)"
   ]
  },
  {
   "cell_type": "code",
   "execution_count": 31,
   "metadata": {},
   "outputs": [
    {
     "data": {
      "text/html": [
       "<table border=\"1\" class=\"dataframe\">\n",
       "    <thead>\n",
       "        <tr>\n",
       "            <th>Neuro</th> <th>Anx</th>\n",
       "        </tr>\n",
       "    </thead>\n",
       "    <tbody>\n",
       "        <tr>\n",
       "            <td>10   </td> <td>23  </td>\n",
       "        </tr>\n",
       "        <tr>\n",
       "            <td>11   </td> <td>24  </td>\n",
       "        </tr>\n",
       "        <tr>\n",
       "            <td>11   </td> <td>27  </td>\n",
       "        </tr>\n",
       "        <tr>\n",
       "            <td>15   </td> <td>30  </td>\n",
       "        </tr>\n",
       "        <tr>\n",
       "            <td>16   </td> <td>40  </td>\n",
       "        </tr>\n",
       "    </tbody>\n",
       "</table>\n",
       "<p>... (137 rows omitted)</p>"
      ],
      "text/plain": [
       "<IPython.core.display.HTML object>"
      ]
     },
     "metadata": {},
     "output_type": "display_data"
    }
   ],
   "source": [
    "neuroanx = pers.select('Neuro','Anx')\n",
    "neuroanx.show(5)"
   ]
  },
  {
   "cell_type": "markdown",
   "metadata": {},
   "source": [
    "## Example 1: Neuroticism vs. Anxiety\n",
    "\n",
    "Let's first check the association between the variables and set the correlation to `obs_r`"
   ]
  },
  {
   "cell_type": "code",
   "execution_count": 47,
   "metadata": {},
   "outputs": [],
   "source": [
    "obs_r = reg_r(neuroanx)"
   ]
  },
  {
   "cell_type": "code",
   "execution_count": 48,
   "metadata": {},
   "outputs": [
    {
     "name": "stdout",
     "output_type": "stream",
     "text": [
      "The correlation is  0.7140323446533897\n",
      "The line of best fit is y = 16.8451 + 0.4833 x\n"
     ]
    },
    {
     "data": {
      "image/png": "[encoded data removed]",
      "text/plain": [
       "<Figure size 360x360 with 1 Axes>"
      ]
     },
     "metadata": {},
     "output_type": "display_data"
    }
   ],
   "source": [
    "reg_stat(neuroanx)"
   ]
  },
  {
   "cell_type": "markdown",
   "metadata": {},
   "source": [
    "We can test the null hypothesis that there is zero correlation and determine the probability of seeing this pattern in the results by random chance. To determine a single value of this statistic, we find the correlation of the two variables after a random reshuffling of the $y$-variable."
   ]
  },
  {
   "cell_type": "code",
   "execution_count": 49,
   "metadata": {},
   "outputs": [
    {
     "data": {
      "text/plain": [
       "0.06343783934073632"
      ]
     },
     "execution_count": 49,
     "metadata": {},
     "output_type": "execute_result"
    }
   ],
   "source": [
    "new_cor = reg_r(reg_shuffle(neuroanx))\n",
    "new_cor"
   ]
  },
  {
   "cell_type": "code",
   "execution_count": 50,
   "metadata": {},
   "outputs": [],
   "source": [
    "shuff_cor = make_array()\n",
    "\n",
    "reps = 100\n",
    "\n",
    "for i in range(reps):\n",
    "    new_cor = reg_r(reg_shuffle(neuroanx))\n",
    "    shuff_cor = np.append(shuff_cor, new_cor)\n",
    "# Remove hashtag comment to see the shuff_cor results array    \n",
    "# shuff_cor"
   ]
  },
  {
   "cell_type": "code",
   "execution_count": 53,
   "metadata": {},
   "outputs": [
    {
     "data": {
      "image/png": "[encoded data removed]",
      "text/plain": [
       "<Figure size 432x288 with 1 Axes>"
      ]
     },
     "metadata": {},
     "output_type": "display_data"
    }
   ],
   "source": [
    "ab_hist(shuff_cor, obs_r)"
   ]
  },
  {
   "cell_type": "code",
   "execution_count": null,
   "metadata": {},
   "outputs": [],
   "source": []
  }
 ],
 "metadata": {
  "anaconda-cloud": {},
  "kernelspec": {
   "display_name": "Python 3",
   "language": "python",
   "name": "python3"
  },
  "language_info": {
   "codemirror_mode": {
    "name": "ipython",
    "version": 3
   },
   "file_extension": ".py",
   "mimetype": "text/x-python",
   "name": "python",
   "nbconvert_exporter": "python",
   "pygments_lexer": "ipython3",
   "version": "3.7.6"
  }
 },
 "nbformat": 4,
 "nbformat_minor": 4
}
