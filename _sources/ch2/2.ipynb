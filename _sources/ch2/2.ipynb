{
 "cells": [
  {
   "cell_type": "markdown",
   "metadata": {},
   "source": [
    "# 2.2 Different Engines in JupyterBooks"
   ]
  },
  {
   "cell_type": "markdown",
   "metadata": {},
   "source": [
    "The three programs (engines) in the name Jupyter are Julie, Python and R. For data science, Python and R are by far the most popular choices over the past few years. But mathematicians may prefer using other engines that produce the same features as Mathematica, Maple and MATLAB. This section is about how to install engines for MATLAB and SciLab, two math-science programming languages that support courses from programming to physics, math to chemistry, calculus to PDE's, linear algebra to numerical analysis."
   ]
  },
  {
   "cell_type": "markdown",
   "metadata": {},
   "source": [
    "## Installing MATLAB API for Python"
   ]
  },
  {
   "cell_type": "markdown",
   "metadata": {},
   "source": [
    "MATLAB comes with a Python engine installer, but we have to get there to activate it. That means we have to find the MATLAB root. I found mine clicking through File Explorer. After using the\n",
    "\n",
    "```\n",
    "cd..\n",
    "```\n",
    "command half a dozen times to return to the `c:\\>` prompt, the following path led my MATLAB root.\n",
    "\n",
    "```\n",
    "cd program files/matlab/r2019b\n",
    "```\n",
    "No, I didn't want a 2020 version. Believe it or not.\n",
    "\n",
    "````{warning}\n",
    "MATLAB is not compatible with the latest releases of Python. I had to create an environment in Conda with a Python 3.6 kernel. Then I used the Python 3.6 environment to install the MATLAB engine. For reference, that was in January, 2021.\n",
    "````"
   ]
  },
  {
   "cell_type": "markdown",
   "metadata": {},
   "source": [
    "Now I can find my way through my MATLAB files to the Python engine. This should work if you're at the version root directory for your MATLAB program files.\n",
    "\n",
    "```\n",
    "cd extern/engines/python\n",
    "```\n",
    "\n",
    "If you type `dir` and Enter, you'll see the directory includes a file called `setup.py` which is what we came here for.\n",
    "\n",
    "```\n",
    "pip install setup.py\n",
    "```\n",
    "\n",
    "The final step is to create the MATLAB kernel for the environment.\n",
    "\n",
    "```\n",
    "pip install matlab_kernel\n",
    "```\n",
    "Now, when you open a new JupyterLab file, you will have the option to run either the Python kernel or the MATLAB kernel, whichever works best for your current project."
   ]
  },
  {
   "cell_type": "markdown",
   "metadata": {},
   "source": [
    "## Installing the SciLab Engine\n",
    "\n",
    "This page is still under construction."
   ]
  }
 ],
 "metadata": {
  "kernelspec": {
   "display_name": "Python 3",
   "language": "python",
   "name": "python3"
  },
  "language_info": {
   "codemirror_mode": {
    "name": "ipython",
    "version": 3
   },
   "file_extension": ".py",
   "mimetype": "text/x-python",
   "name": "python",
   "nbconvert_exporter": "python",
   "pygments_lexer": "ipython3",
   "version": "3.8.5"
  }
 },
 "nbformat": 4,
 "nbformat_minor": 4
}
